{
 "cells": [
  {
   "cell_type": "markdown",
   "metadata": {},
   "source": [
    "### EDA\n",
    "El EDA es una etapa fundamental en cualquier proyecto de **análisis de datos**. Te permite conocer mejor tus datos, identificar problemas y generar ideas para futuros análisis. Al realizar un EDA efectivo, puedes preparar tus datos para obtener resultados más precisos y reveladores."
   ]
  },
  {
   "cell_type": "markdown",
   "metadata": {},
   "source": [
    "### Importamos librerías"
   ]
  },
  {
   "cell_type": "markdown",
   "metadata": {},
   "source": [
    "Comienza instalando solo las librerías que necesitas para empezar tu proyecto."
   ]
  },
  {
   "cell_type": "code",
   "execution_count": 1,
   "metadata": {},
   "outputs": [],
   "source": [
    "import pandas as pd\n",
    "import pyarrow.parquet as pq\n",
    "import pyarrow as pa\n",
    "import matplotlib.pyplot as plt\n",
    "import seaborn as sns\n",
    "import warnings\n",
    "warnings.simplefilter(\"ignore\")\n",
    "from itertools import cycle\n",
    "from sklearn.preprocessing import LabelEncoder\n",
    "import ast"
   ]
  },
  {
   "cell_type": "markdown",
   "metadata": {},
   "source": [
    "### La lectura de datos "
   ]
  },
  {
   "cell_type": "markdown",
   "metadata": {},
   "source": [
    "Lectura del archivo **australian_user_reviewsETL.parquet**"
   ]
  },
  {
   "cell_type": "code",
   "execution_count": 2,
   "metadata": {},
   "outputs": [
    {
     "data": {
      "text/html": [
       "<div>\n",
       "<style scoped>\n",
       "    .dataframe tbody tr th:only-of-type {\n",
       "        vertical-align: middle;\n",
       "    }\n",
       "\n",
       "    .dataframe tbody tr th {\n",
       "        vertical-align: top;\n",
       "    }\n",
       "\n",
       "    .dataframe thead th {\n",
       "        text-align: right;\n",
       "    }\n",
       "</style>\n",
       "<table border=\"1\" class=\"dataframe\">\n",
       "  <thead>\n",
       "    <tr style=\"text-align: right;\">\n",
       "      <th></th>\n",
       "      <th>posted</th>\n",
       "      <th>item_id</th>\n",
       "      <th>recommend</th>\n",
       "      <th>user_id</th>\n",
       "      <th>sentiment_analysis</th>\n",
       "    </tr>\n",
       "  </thead>\n",
       "  <tbody>\n",
       "    <tr>\n",
       "      <th>0</th>\n",
       "      <td>2011-11-05</td>\n",
       "      <td>1250</td>\n",
       "      <td>True</td>\n",
       "      <td>76561197970982479</td>\n",
       "      <td>2</td>\n",
       "    </tr>\n",
       "    <tr>\n",
       "      <th>1</th>\n",
       "      <td>2011-07-15</td>\n",
       "      <td>22200</td>\n",
       "      <td>True</td>\n",
       "      <td>76561197970982479</td>\n",
       "      <td>1</td>\n",
       "    </tr>\n",
       "    <tr>\n",
       "      <th>2</th>\n",
       "      <td>2011-04-21</td>\n",
       "      <td>43110</td>\n",
       "      <td>True</td>\n",
       "      <td>76561197970982479</td>\n",
       "      <td>2</td>\n",
       "    </tr>\n",
       "    <tr>\n",
       "      <th>3</th>\n",
       "      <td>2014-06-24</td>\n",
       "      <td>251610</td>\n",
       "      <td>True</td>\n",
       "      <td>js41637</td>\n",
       "      <td>2</td>\n",
       "    </tr>\n",
       "    <tr>\n",
       "      <th>4</th>\n",
       "      <td>2013-09-08</td>\n",
       "      <td>227300</td>\n",
       "      <td>True</td>\n",
       "      <td>js41637</td>\n",
       "      <td>2</td>\n",
       "    </tr>\n",
       "  </tbody>\n",
       "</table>\n",
       "</div>"
      ],
      "text/plain": [
       "      posted  item_id  recommend            user_id  sentiment_analysis\n",
       "0 2011-11-05     1250       True  76561197970982479                   2\n",
       "1 2011-07-15    22200       True  76561197970982479                   1\n",
       "2 2011-04-21    43110       True  76561197970982479                   2\n",
       "3 2014-06-24   251610       True            js41637                   2\n",
       "4 2013-09-08   227300       True            js41637                   2"
      ]
     },
     "execution_count": 2,
     "metadata": {},
     "output_type": "execute_result"
    }
   ],
   "source": [
    "#la siguiente línea de código lee el archivo australian_user_reviewsETL.parquet y lo convierte en un DataFrame de Pandas\n",
    "reviewsdf = pq.read_table(\"../0-DATA/australian_user_reviewsETL.parquet\").to_pandas()\n",
    "reviewsdf.head(5)#presentación en un DataFrame los datos"
   ]
  },
  {
   "cell_type": "code",
   "execution_count": 3,
   "metadata": {},
   "outputs": [
    {
     "data": {
      "text/html": [
       "<div>\n",
       "<style scoped>\n",
       "    .dataframe tbody tr th:only-of-type {\n",
       "        vertical-align: middle;\n",
       "    }\n",
       "\n",
       "    .dataframe tbody tr th {\n",
       "        vertical-align: top;\n",
       "    }\n",
       "\n",
       "    .dataframe thead th {\n",
       "        text-align: right;\n",
       "    }\n",
       "</style>\n",
       "<table border=\"1\" class=\"dataframe\">\n",
       "  <thead>\n",
       "    <tr style=\"text-align: right;\">\n",
       "      <th></th>\n",
       "      <th>posted</th>\n",
       "      <th>item_id</th>\n",
       "      <th>sentiment_analysis</th>\n",
       "    </tr>\n",
       "  </thead>\n",
       "  <tbody>\n",
       "    <tr>\n",
       "      <th>count</th>\n",
       "      <td>48471</td>\n",
       "      <td>48471.000000</td>\n",
       "      <td>48471.000000</td>\n",
       "    </tr>\n",
       "    <tr>\n",
       "      <th>mean</th>\n",
       "      <td>2014-09-07 21:02:59.810608384</td>\n",
       "      <td>155317.718099</td>\n",
       "      <td>1.470983</td>\n",
       "    </tr>\n",
       "    <tr>\n",
       "      <th>min</th>\n",
       "      <td>2010-10-16 00:00:00</td>\n",
       "      <td>10.000000</td>\n",
       "      <td>0.000000</td>\n",
       "    </tr>\n",
       "    <tr>\n",
       "      <th>25%</th>\n",
       "      <td>2014-02-19 00:00:00</td>\n",
       "      <td>6800.000000</td>\n",
       "      <td>1.000000</td>\n",
       "    </tr>\n",
       "    <tr>\n",
       "      <th>50%</th>\n",
       "      <td>2014-09-09 00:00:00</td>\n",
       "      <td>209080.000000</td>\n",
       "      <td>2.000000</td>\n",
       "    </tr>\n",
       "    <tr>\n",
       "      <th>75%</th>\n",
       "      <td>2015-05-02 00:00:00</td>\n",
       "      <td>247910.000000</td>\n",
       "      <td>2.000000</td>\n",
       "    </tr>\n",
       "    <tr>\n",
       "      <th>max</th>\n",
       "      <td>2015-12-31 00:00:00</td>\n",
       "      <td>428880.000000</td>\n",
       "      <td>2.000000</td>\n",
       "    </tr>\n",
       "    <tr>\n",
       "      <th>std</th>\n",
       "      <td>NaN</td>\n",
       "      <td>124542.778449</td>\n",
       "      <td>0.639091</td>\n",
       "    </tr>\n",
       "  </tbody>\n",
       "</table>\n",
       "</div>"
      ],
      "text/plain": [
       "                              posted        item_id  sentiment_analysis\n",
       "count                          48471   48471.000000        48471.000000\n",
       "mean   2014-09-07 21:02:59.810608384  155317.718099            1.470983\n",
       "min              2010-10-16 00:00:00      10.000000            0.000000\n",
       "25%              2014-02-19 00:00:00    6800.000000            1.000000\n",
       "50%              2014-09-09 00:00:00  209080.000000            2.000000\n",
       "75%              2015-05-02 00:00:00  247910.000000            2.000000\n",
       "max              2015-12-31 00:00:00  428880.000000            2.000000\n",
       "std                              NaN  124542.778449            0.639091"
      ]
     },
     "execution_count": 3,
     "metadata": {},
     "output_type": "execute_result"
    }
   ],
   "source": [
    "reviewsdf.describe()# analizamos los calores estadísticos de las columnas numéricas"
   ]
  },
  {
   "cell_type": "code",
   "execution_count": 4,
   "metadata": {},
   "outputs": [
    {
     "name": "stdout",
     "output_type": "stream",
     "text": [
      "<class 'pandas.core.frame.DataFrame'>\n",
      "RangeIndex: 48471 entries, 0 to 48470\n",
      "Data columns (total 5 columns):\n",
      " #   Column              Non-Null Count  Dtype         \n",
      "---  ------              --------------  -----         \n",
      " 0   posted              48471 non-null  datetime64[ns]\n",
      " 1   item_id             48471 non-null  int64         \n",
      " 2   recommend           48471 non-null  bool          \n",
      " 3   user_id             48471 non-null  object        \n",
      " 4   sentiment_analysis  48471 non-null  int64         \n",
      "dtypes: bool(1), datetime64[ns](1), int64(2), object(1)\n",
      "memory usage: 1.5+ MB\n"
     ]
    }
   ],
   "source": [
    "reviewsdf.info() # analizamos de nuevo que nuestos datos no tiene valores nulos"
   ]
  },
  {
   "cell_type": "markdown",
   "metadata": {},
   "source": [
    "### Análisis de datos de las columnas"
   ]
  },
  {
   "cell_type": "markdown",
   "metadata": {},
   "source": [
    "Columna **posted**"
   ]
  },
  {
   "cell_type": "code",
   "execution_count": 5,
   "metadata": {},
   "outputs": [
    {
     "data": {
      "text/plain": [
       "count                            48471\n",
       "mean     2014-09-07 21:02:59.810608384\n",
       "min                2010-10-16 00:00:00\n",
       "25%                2014-02-19 00:00:00\n",
       "50%                2014-09-09 00:00:00\n",
       "75%                2015-05-02 00:00:00\n",
       "max                2015-12-31 00:00:00\n",
       "Name: posted, dtype: object"
      ]
     },
     "execution_count": 5,
     "metadata": {},
     "output_type": "execute_result"
    }
   ],
   "source": [
    "fecha=reviewsdf[\"posted\"].describe()\n",
    "fecha #visualizamos que los datos se encuentran en formato fecha y hora"
   ]
  },
  {
   "cell_type": "code",
   "execution_count": 6,
   "metadata": {},
   "outputs": [],
   "source": [
    "reviewsdf['posted'] = pd.to_datetime(reviewsdf['posted'])#convertimos los datos a fecha\n",
    "reviewsdf['año'] = reviewsdf['posted'].dt.year # ahora solo tomamos el año"
   ]
  },
  {
   "cell_type": "code",
   "execution_count": 8,
   "metadata": {},
   "outputs": [
    {
     "data": {
      "text/plain": [
       "count    48471.000000\n",
       "mean      2014.148192\n",
       "std          0.842674\n",
       "min       2010.000000\n",
       "25%       2014.000000\n",
       "50%       2014.000000\n",
       "75%       2015.000000\n",
       "max       2015.000000\n",
       "Name: año, dtype: float64"
      ]
     },
     "execution_count": 8,
     "metadata": {},
     "output_type": "execute_result"
    }
   ],
   "source": [
    "fecha=reviewsdf[\"año\"].describe()# visualizamos las estadísticas de los datos de la columna\n",
    "fecha"
   ]
  },
  {
   "cell_type": "code",
   "execution_count": 10,
   "metadata": {},
   "outputs": [
    {
     "data": {
      "text/plain": [
       "año\n",
       "2014    21821\n",
       "2015    18146\n",
       "2013     6707\n",
       "2012     1201\n",
       "2011      530\n",
       "2010       66\n",
       "Name: count, dtype: int64"
      ]
     },
     "execution_count": 10,
     "metadata": {},
     "output_type": "execute_result"
    }
   ],
   "source": [
    "fecha_lanzamiento = reviewsdf[\"año\"].value_counts() # obteniendo la cantidad de juegos comprados por año de lanzamiento\n",
    "fecha_lanzamiento"
   ]
  },
  {
   "cell_type": "markdown",
   "metadata": {},
   "source": [
    "Graficamos"
   ]
  },
  {
   "cell_type": "code",
   "execution_count": 11,
   "metadata": {},
   "outputs": [
    {
     "data": {
      "image/png": "[encoded data removed]",
      "text/plain": [
       "<Figure size 1500x500 with 1 Axes>"
      ]
     },
     "metadata": {},
     "output_type": "display_data"
    }
   ],
   "source": [
    "# Configura el estilo del gráfico como 'whitegrid' y la paleta de colores como 'plasma'\n",
    "sns.set(style=\"whitegrid\", palette=\"plasma\")\n",
    "\n",
    "# Crea una figura de tamaño 15 ancho y 5 alto\n",
    "plt.figure(figsize=(15, 5))\n",
    "\n",
    "# Genera un gráfico de conteo a partir del dataframe 'reviewsdf'\n",
    "# usando la columna 'año' como eje x y la paleta 'plasma' para los colores\n",
    "ax = sns.countplot(data=reviewsdf, x=reviewsdf[\"año\"], palette=\"plasma\")\n",
    "\n",
    "# Establece el título del gráfico con tamaño de fuente 16\n",
    "ax.set_title('Distribución de Posteos por Año', fontsize=16)\n",
    "# Establece la etiqueta del eje x con tamaño de fuente 14\n",
    "ax.set_xlabel('Año', fontsize=14)\n",
    "# Establece la etiqueta del eje y con tamaño de fuente 14\n",
    "ax.set_ylabel('Cantidad de Posteos', fontsize=14)\n",
    "# Rota las etiquetas del eje x 45 grados y las alinea a la derecha\n",
    "ax.set_xticklabels(ax.get_xticklabels(), rotation=45, ha='right')\n",
    "\n",
    "# Recorre cada rectángulo del gráfico (p)\n",
    "for p in ax.patches:    \n",
    "    # Obtiene la altura del rectángulo\n",
    "    height = p.get_height()\n",
    "    # Obtiene la posición x del centro del rectángulo (suma la mitad del ancho)\n",
    "    x_center = p.get_x() + p.get_width() / 2.\n",
    "    # Añade una anotación sobre el rectángulo con el valor de la altura\n",
    "    # - Posición: (x_center, height)\n",
    "    # - Alineación horizontal: 'center'\n",
    "    # - Alineación vertical: 'baseline'\n",
    "    # - Tamaño de fuente: 10\n",
    "    # - Color: negrofor p in ax.patches:\n",
    "    ax.annotate(f'{height}', (x_center, height),\n",
    "                ha='center', va='baseline', fontsize=10, color='black')\n",
    "\n",
    "sns.despine()\n",
    "plt.show()"
   ]
  },
  {
   "cell_type": "code",
   "execution_count": 11,
   "metadata": {},
   "outputs": [
    {
     "data": {
      "text/html": [
       "<div>\n",
       "<style scoped>\n",
       "    .dataframe tbody tr th:only-of-type {\n",
       "        vertical-align: middle;\n",
       "    }\n",
       "\n",
       "    .dataframe tbody tr th {\n",
       "        vertical-align: top;\n",
       "    }\n",
       "\n",
       "    .dataframe thead th {\n",
       "        text-align: right;\n",
       "    }\n",
       "</style>\n",
       "<table border=\"1\" class=\"dataframe\">\n",
       "  <thead>\n",
       "    <tr style=\"text-align: right;\">\n",
       "      <th></th>\n",
       "      <th>item_id</th>\n",
       "      <th>recommend</th>\n",
       "      <th>user_id</th>\n",
       "      <th>sentiment_analysis</th>\n",
       "      <th>año</th>\n",
       "    </tr>\n",
       "  </thead>\n",
       "  <tbody>\n",
       "    <tr>\n",
       "      <th>0</th>\n",
       "      <td>1250</td>\n",
       "      <td>True</td>\n",
       "      <td>76561197970982479</td>\n",
       "      <td>2</td>\n",
       "      <td>2011</td>\n",
       "    </tr>\n",
       "    <tr>\n",
       "      <th>1</th>\n",
       "      <td>22200</td>\n",
       "      <td>True</td>\n",
       "      <td>76561197970982479</td>\n",
       "      <td>1</td>\n",
       "      <td>2011</td>\n",
       "    </tr>\n",
       "    <tr>\n",
       "      <th>2</th>\n",
       "      <td>43110</td>\n",
       "      <td>True</td>\n",
       "      <td>76561197970982479</td>\n",
       "      <td>2</td>\n",
       "      <td>2011</td>\n",
       "    </tr>\n",
       "  </tbody>\n",
       "</table>\n",
       "</div>"
      ],
      "text/plain": [
       "   item_id  recommend            user_id  sentiment_analysis   año\n",
       "0     1250       True  76561197970982479                   2  2011\n",
       "1    22200       True  76561197970982479                   1  2011\n",
       "2    43110       True  76561197970982479                   2  2011"
      ]
     },
     "execution_count": 11,
     "metadata": {},
     "output_type": "execute_result"
    }
   ],
   "source": [
    "# Eliminamos la columna\n",
    "reviewsdf = reviewsdf.drop(columns=[\"posted\"])\n",
    "reviewsdf.head(3)\n"
   ]
  },
  {
   "cell_type": "markdown",
   "metadata": {},
   "source": [
    "Columna **item_id**"
   ]
  },
  {
   "cell_type": "code",
   "execution_count": null,
   "metadata": {},
   "outputs": [],
   "source": [
    "# solo nos da información del Id de cada nombre de los videojuegos"
   ]
  },
  {
   "cell_type": "markdown",
   "metadata": {},
   "source": [
    "Columna **recommend**"
   ]
  },
  {
   "cell_type": "code",
   "execution_count": 13,
   "metadata": {},
   "outputs": [
    {
     "data": {
      "text/plain": [
       "count     48471\n",
       "unique        2\n",
       "top        True\n",
       "freq      43533\n",
       "Name: recommend, dtype: object"
      ]
     },
     "execution_count": 13,
     "metadata": {},
     "output_type": "execute_result"
    }
   ],
   "source": [
    "recom = reviewsdf[\"recommend\"].describe() #visualizamos las estadísticas\n",
    "recom"
   ]
  },
  {
   "cell_type": "code",
   "execution_count": 13,
   "metadata": {},
   "outputs": [
    {
     "data": {
      "text/plain": [
       "recommend\n",
       "True     43533\n",
       "False     4938\n",
       "Name: count, dtype: int64"
      ]
     },
     "execution_count": 13,
     "metadata": {},
     "output_type": "execute_result"
    }
   ],
   "source": [
    "recom = reviewsdf[\"recommend\"].value_counts() #cantidad de valores booleanos\n",
    "recom"
   ]
  },
  {
   "cell_type": "code",
   "execution_count": 14,
   "metadata": {},
   "outputs": [],
   "source": [
    "#convertimos a valores númericos, necesario para nuestro modelamo ML\n",
    "reviewsdf['recommend'] = reviewsdf['recommend'].replace({True: 1, False: 0})"
   ]
  },
  {
   "cell_type": "markdown",
   "metadata": {},
   "source": [
    "Graficamos"
   ]
  },
  {
   "cell_type": "code",
   "execution_count": 14,
   "metadata": {},
   "outputs": [
    {
     "data": {
      "image/png": "[encoded data removed]",
      "text/plain": [
       "<Figure size 1400x400 with 1 Axes>"
      ]
     },
     "metadata": {},
     "output_type": "display_data"
    }
   ],
   "source": [
    "# Define una paleta de colores cíclica usando la paleta \"husl\" de seaborn\n",
    "colors = cycle(sns.color_palette(\"husl\"))\n",
    "\n",
    "# Configura el estilo general del gráfico (rejilla blanca y un aumento de tamaño de fuente del 20%)\n",
    "sns.set(style=\"whitegrid\", font_scale=1.2)\n",
    "\n",
    "# Define la columna que se utilizará para el eje y del gráfico\n",
    "columna = ['recommend']\n",
    "\n",
    "# Obtiene el primer color de la paleta cíclica\n",
    "color = next(colors)\n",
    "\n",
    "# Configura el tamaño de la figura del gráfico (ancho 14, alto 4)\n",
    "plt.figure(figsize=(14, 4))\n",
    "\n",
    "# Crea un gráfico de conteo usando el dataframe 'reviewsdf'\n",
    "# - Eje y:columna especificada en 'columna'\n",
    "# - Paleta de colores: una lista con el color obtenido de la paleta cíclica\n",
    "sns.countplot(data=reviewsdf, y=reviewsdf[\"recommend\"], palette=[color])\n",
    "\n",
    "# Establece el título del gráfico con el texto formateado usando la variable 'columna' y el color obtenido\n",
    "plt.title(f'Distribución de {columna}', fontsize=18, color=color)\n",
    "\n",
    "# Establece la etiqueta del eje x como 'Frecuencia' con el color obtenido\n",
    "plt.xlabel('Frecuencia', fontsize=14, color=color)\n",
    "\n",
    "# Establece la etiqueta del eje y usando la variable 'columna' y el color obtenido\n",
    "plt.ylabel(columna, fontsize=14, color=color)\n",
    "\n",
    "# Define el tamaño de fuente y color gris para las marcas del eje y\n",
    "plt.yticks(fontsize=12, color='gray')\n",
    "plt.xticks(fontsize=12, color='gray')\n",
    "\n",
    "# Elimina las espinas superior e izquierda del gráfico\n",
    "sns.despine(left=True, bottom=True)\n",
    "\n",
    "# Ajusta el espacio entre elementos del gráfico para una mejor visualización\n",
    "plt.tight_layout()\n",
    "\n",
    "# Muestra el gráfico generado\n",
    "plt.show()"
   ]
  },
  {
   "cell_type": "markdown",
   "metadata": {},
   "source": [
    "Columna **user_id**"
   ]
  },
  {
   "cell_type": "code",
   "execution_count": 15,
   "metadata": {},
   "outputs": [],
   "source": [
    "# solo nos da información del Id de cada usuario"
   ]
  },
  {
   "cell_type": "markdown",
   "metadata": {},
   "source": [
    "'sentiment_analysis'"
   ]
  },
  {
   "cell_type": "code",
   "execution_count": 16,
   "metadata": {},
   "outputs": [
    {
     "data": {
      "text/plain": [
       "sentiment_analysis\n",
       "2    26689\n",
       "1    17922\n",
       "0     3860\n",
       "Name: count, dtype: int64"
      ]
     },
     "execution_count": 16,
     "metadata": {},
     "output_type": "execute_result"
    }
   ],
   "source": [
    "senti = reviewsdf[\"sentiment_analysis\"].value_counts() # obtenemos la cantidad valores por cada sentimiento\n",
    "senti #sentimiento: Negativo = 0; Neutro = 1; Positivo=2 "
   ]
  },
  {
   "cell_type": "markdown",
   "metadata": {},
   "source": [
    "Graficamos"
   ]
  },
  {
   "cell_type": "code",
   "execution_count": 17,
   "metadata": {},
   "outputs": [
    {
     "data": {
      "image/png": "[encoded data removed]",
      "text/plain": [
       "<Figure size 1400x400 with 1 Axes>"
      ]
     },
     "metadata": {},
     "output_type": "display_data"
    }
   ],
   "source": [
    "# Define una paleta de colores cíclica usando la paleta \"husl\" de seaborn\n",
    "colors = cycle(sns.color_palette(\"husl\")) \n",
    "\n",
    "# Configura el estilo general del gráfico (rejilla blanca y un aumento de tamaño de fuente del 20%)\n",
    "sns.set(style=\"whitegrid\", font_scale=1.2)\n",
    "\n",
    "# Define la columna que se utilizará para el eje y del gráfico\n",
    "columna = ['sentiment_analysis']\n",
    "\n",
    "# Obtiene el primer color de la paleta cíclica\n",
    "color = next(colors)\n",
    "\n",
    "# Configura el tamaño de la figura del gráfico (ancho 14, alto 4)\n",
    "plt.figure(figsize=(14, 4))\n",
    "\n",
    "# Crea un gráfico de conteo usando el dataframe 'reviewsdf'\n",
    "# - Eje y:columna especificada en 'columna'\n",
    "# - Paleta de colores: una lista con el color obtenido de la paleta cíclica\n",
    "sns.countplot(data=reviewsdf, y=reviewsdf[\"sentiment_analysis\"], palette=[color])\n",
    "\n",
    "# Establece el título del gráfico con el texto formateado usando la variable 'columna' y el color obtenido\n",
    "plt.title(f'Distribución de {columna}', fontsize=18, color=color)\n",
    "\n",
    "# Establece la etiqueta del eje x como 'Frecuencia' con el color obtenido\n",
    "plt.xlabel('Frecuencia', fontsize=14, color=color)\n",
    "\n",
    "# Establece la etiqueta del eje y usando la variable 'columna' y el color obtenido\n",
    "plt.ylabel(columna, fontsize=14, color=color)\n",
    "\n",
    "# Define el tamaño de fuente y color gris para las marcas del eje y\n",
    "plt.yticks(fontsize=12, color='gray')\n",
    "plt.xticks(fontsize=12, color='gray')\n",
    "\n",
    "# Elimina las espinas superior e izquierda del gráfico\n",
    "sns.despine(left=True, bottom=True)\n",
    "\n",
    "# Ajusta el espacio entre elementos del gráfico para una mejor visualización\n",
    "plt.tight_layout()\n",
    "\n",
    "# Muestra el gráfico generado\n",
    "plt.show()\n"
   ]
  },
  {
   "cell_type": "markdown",
   "metadata": {},
   "source": [
    "Guardamos el EDA en archivos CSV y Parquet"
   ]
  },
  {
   "cell_type": "code",
   "execution_count": 20,
   "metadata": {},
   "outputs": [],
   "source": [
    "tabla = pa.Table.from_pandas(reviewsdf) # convertimos el dataframe en una tabla de pyarrow\n",
    "pq.write_table(tabla,\"../0-DATA/australian_user_reviewsEDA.parquet\") # guardamos la tabla en formato parquet"
   ]
  },
  {
   "cell_type": "code",
   "execution_count": 21,
   "metadata": {},
   "outputs": [],
   "source": [
    "reviewsdf.to_csv(\"../0-DATA/australian_user_reviewsEDA.csv\", index=False, encoding=\"utf-8\") "
   ]
  }
 ],
 "metadata": {
  "kernelspec": {
   "display_name": "base",
   "language": "python",
   "name": "python3"
  },
  "language_info": {
   "codemirror_mode": {
    "name": "ipython",
    "version": 3
   },
   "file_extension": ".py",
   "mimetype": "text/x-python",
   "name": "python",
   "nbconvert_exporter": "python",
   "pygments_lexer": "ipython3",
   "version": "3.9.7"
  }
 },
 "nbformat": 4,
 "nbformat_minor": 2
}
