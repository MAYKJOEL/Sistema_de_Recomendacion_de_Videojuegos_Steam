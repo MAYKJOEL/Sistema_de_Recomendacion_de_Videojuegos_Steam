{
 "cells": [
  {
   "cell_type": "code",
   "execution_count": 1,
   "metadata": {},
   "outputs": [],
   "source": [
    "import pandas as pd\n",
    "import pyarrow.parquet as pq\n",
    "import pyarrow as pa\n",
    "import matplotlib.pyplot as plt\n",
    "import seaborn as sns\n",
    "import warnings\n",
    "warnings.simplefilter(\"ignore\")\n",
    "from itertools import cycle\n",
    "from sklearn.preprocessing import LabelEncoder\n",
    "import ast"
   ]
  },
  {
   "cell_type": "code",
   "execution_count": 2,
   "metadata": {},
   "outputs": [
    {
     "data": {
      "text/html": [
       "<div>\n",
       "<style scoped>\n",
       "    .dataframe tbody tr th:only-of-type {\n",
       "        vertical-align: middle;\n",
       "    }\n",
       "\n",
       "    .dataframe tbody tr th {\n",
       "        vertical-align: top;\n",
       "    }\n",
       "\n",
       "    .dataframe thead th {\n",
       "        text-align: right;\n",
       "    }\n",
       "</style>\n",
       "<table border=\"1\" class=\"dataframe\">\n",
       "  <thead>\n",
       "    <tr style=\"text-align: right;\">\n",
       "      <th></th>\n",
       "      <th>item_id</th>\n",
       "      <th>item_name</th>\n",
       "      <th>items_count</th>\n",
       "      <th>user_id</th>\n",
       "      <th>playtime_hours</th>\n",
       "    </tr>\n",
       "  </thead>\n",
       "  <tbody>\n",
       "    <tr>\n",
       "      <th>0</th>\n",
       "      <td>10</td>\n",
       "      <td>Counter-Strike</td>\n",
       "      <td>277</td>\n",
       "      <td>76561197970982479</td>\n",
       "      <td>0.10</td>\n",
       "    </tr>\n",
       "    <tr>\n",
       "      <th>2</th>\n",
       "      <td>30</td>\n",
       "      <td>Day of Defeat</td>\n",
       "      <td>277</td>\n",
       "      <td>76561197970982479</td>\n",
       "      <td>0.12</td>\n",
       "    </tr>\n",
       "    <tr>\n",
       "      <th>8</th>\n",
       "      <td>300</td>\n",
       "      <td>Day of Defeat: Source</td>\n",
       "      <td>277</td>\n",
       "      <td>76561197970982479</td>\n",
       "      <td>78.88</td>\n",
       "    </tr>\n",
       "    <tr>\n",
       "      <th>9</th>\n",
       "      <td>240</td>\n",
       "      <td>Counter-Strike: Source</td>\n",
       "      <td>277</td>\n",
       "      <td>76561197970982479</td>\n",
       "      <td>30.88</td>\n",
       "    </tr>\n",
       "    <tr>\n",
       "      <th>10</th>\n",
       "      <td>3830</td>\n",
       "      <td>Psychonauts</td>\n",
       "      <td>277</td>\n",
       "      <td>76561197970982479</td>\n",
       "      <td>5.55</td>\n",
       "    </tr>\n",
       "  </tbody>\n",
       "</table>\n",
       "</div>"
      ],
      "text/plain": [
       "    item_id               item_name  items_count            user_id  \\\n",
       "0        10          Counter-Strike          277  76561197970982479   \n",
       "2        30           Day of Defeat          277  76561197970982479   \n",
       "8       300   Day of Defeat: Source          277  76561197970982479   \n",
       "9       240  Counter-Strike: Source          277  76561197970982479   \n",
       "10     3830             Psychonauts          277  76561197970982479   \n",
       "\n",
       "    playtime_hours  \n",
       "0             0.10  \n",
       "2             0.12  \n",
       "8            78.88  \n",
       "9            30.88  \n",
       "10            5.55  "
      ]
     },
     "execution_count": 2,
     "metadata": {},
     "output_type": "execute_result"
    }
   ],
   "source": [
    "#Leemos el archivo reviews.parquet en un DataFrame\n",
    "itemsdf = pq.read_table(\"../0-DATA/australian_users_itemsETL.parquet\").to_pandas()\n",
    "itemsdf.head(5)"
   ]
  },
  {
   "cell_type": "code",
   "execution_count": 3,
   "metadata": {},
   "outputs": [
    {
     "data": {
      "text/html": [
       "<div>\n",
       "<style scoped>\n",
       "    .dataframe tbody tr th:only-of-type {\n",
       "        vertical-align: middle;\n",
       "    }\n",
       "\n",
       "    .dataframe tbody tr th {\n",
       "        vertical-align: top;\n",
       "    }\n",
       "\n",
       "    .dataframe thead th {\n",
       "        text-align: right;\n",
       "    }\n",
       "</style>\n",
       "<table border=\"1\" class=\"dataframe\">\n",
       "  <thead>\n",
       "    <tr style=\"text-align: right;\">\n",
       "      <th></th>\n",
       "      <th>item_id</th>\n",
       "      <th>items_count</th>\n",
       "      <th>playtime_hours</th>\n",
       "    </tr>\n",
       "  </thead>\n",
       "  <tbody>\n",
       "    <tr>\n",
       "      <th>count</th>\n",
       "      <td>3.246362e+06</td>\n",
       "      <td>3.246362e+06</td>\n",
       "      <td>3.246362e+06</td>\n",
       "    </tr>\n",
       "    <tr>\n",
       "      <th>mean</th>\n",
       "      <td>1.771685e+05</td>\n",
       "      <td>2.480118e+02</td>\n",
       "      <td>2.590483e+01</td>\n",
       "    </tr>\n",
       "    <tr>\n",
       "      <th>std</th>\n",
       "      <td>1.266634e+05</td>\n",
       "      <td>5.683680e+02</td>\n",
       "      <td>1.119525e+02</td>\n",
       "    </tr>\n",
       "    <tr>\n",
       "      <th>min</th>\n",
       "      <td>1.000000e+01</td>\n",
       "      <td>1.000000e+00</td>\n",
       "      <td>2.000000e-02</td>\n",
       "    </tr>\n",
       "    <tr>\n",
       "      <th>25%</th>\n",
       "      <td>3.912000e+04</td>\n",
       "      <td>6.500000e+01</td>\n",
       "      <td>7.300000e-01</td>\n",
       "    </tr>\n",
       "    <tr>\n",
       "      <th>50%</th>\n",
       "      <td>2.149500e+05</td>\n",
       "      <td>1.220000e+02</td>\n",
       "      <td>3.420000e+00</td>\n",
       "    </tr>\n",
       "    <tr>\n",
       "      <th>75%</th>\n",
       "      <td>2.630200e+05</td>\n",
       "      <td>2.280000e+02</td>\n",
       "      <td>1.347000e+01</td>\n",
       "    </tr>\n",
       "    <tr>\n",
       "      <th>max</th>\n",
       "      <td>5.286600e+05</td>\n",
       "      <td>7.762000e+03</td>\n",
       "      <td>1.071288e+04</td>\n",
       "    </tr>\n",
       "  </tbody>\n",
       "</table>\n",
       "</div>"
      ],
      "text/plain": [
       "            item_id   items_count  playtime_hours\n",
       "count  3.246362e+06  3.246362e+06    3.246362e+06\n",
       "mean   1.771685e+05  2.480118e+02    2.590483e+01\n",
       "std    1.266634e+05  5.683680e+02    1.119525e+02\n",
       "min    1.000000e+01  1.000000e+00    2.000000e-02\n",
       "25%    3.912000e+04  6.500000e+01    7.300000e-01\n",
       "50%    2.149500e+05  1.220000e+02    3.420000e+00\n",
       "75%    2.630200e+05  2.280000e+02    1.347000e+01\n",
       "max    5.286600e+05  7.762000e+03    1.071288e+04"
      ]
     },
     "execution_count": 3,
     "metadata": {},
     "output_type": "execute_result"
    }
   ],
   "source": [
    "itemsdf.describe()"
   ]
  },
  {
   "cell_type": "code",
   "execution_count": 4,
   "metadata": {},
   "outputs": [
    {
     "name": "stdout",
     "output_type": "stream",
     "text": [
      "<class 'pandas.core.frame.DataFrame'>\n",
      "Index: 3246362 entries, 0 to 5153208\n",
      "Data columns (total 5 columns):\n",
      " #   Column          Dtype  \n",
      "---  ------          -----  \n",
      " 0   item_id         int64  \n",
      " 1   item_name       object \n",
      " 2   items_count     int64  \n",
      " 3   user_id         object \n",
      " 4   playtime_hours  float64\n",
      "dtypes: float64(1), int64(2), object(2)\n",
      "memory usage: 148.6+ MB\n"
     ]
    }
   ],
   "source": [
    "itemsdf.info()"
   ]
  },
  {
   "cell_type": "markdown",
   "metadata": {},
   "source": [
    "### Analisis de la columnas"
   ]
  },
  {
   "cell_type": "markdown",
   "metadata": {},
   "source": [
    "'item_id'"
   ]
  },
  {
   "cell_type": "code",
   "execution_count": 5,
   "metadata": {},
   "outputs": [
    {
     "data": {
      "text/plain": [
       "item_id\n",
       "730       42838\n",
       "4000      41639\n",
       "550       34535\n",
       "304930    34089\n",
       "105600    28244\n",
       "          ...  \n",
       "527900        1\n",
       "302370        1\n",
       "282960        1\n",
       "316620        1\n",
       "485270        1\n",
       "Name: count, Length: 10050, dtype: int64"
      ]
     },
     "execution_count": 5,
     "metadata": {},
     "output_type": "execute_result"
    }
   ],
   "source": [
    "item = itemsdf[\"item_id\"].value_counts() # obtenemos la cantidad de juegos por año de lanzamiento\n",
    "item"
   ]
  },
  {
   "cell_type": "markdown",
   "metadata": {},
   "source": [
    "'item_name'"
   ]
  },
  {
   "cell_type": "code",
   "execution_count": 6,
   "metadata": {},
   "outputs": [
    {
     "data": {
      "text/plain": [
       "10024"
      ]
     },
     "execution_count": 6,
     "metadata": {},
     "output_type": "execute_result"
    }
   ],
   "source": [
    "cant_juegos = len(itemsdf[\"item_name\"].unique()) # obtenemos la cantidad de software único presente en Steam\n",
    "cant_juegos"
   ]
  },
  {
   "cell_type": "code",
   "execution_count": 7,
   "metadata": {},
   "outputs": [
    {
     "data": {
      "text/plain": [
       "item_name\n",
       "Counter-Strike: Global Offensive    42838\n",
       "Garry's Mod                         41639\n",
       "Left 4 Dead 2                       34535\n",
       "Unturned                            34089\n",
       "Terraria                            28244\n",
       "                                    ...  \n",
       "Castles                                 1\n",
       "The Empty Inn                           1\n",
       "Dr. Bulbaceous                          1\n",
       "Cue Club 2                              1\n",
       "Arachnophobia                           1\n",
       "Name: count, Length: 10024, dtype: int64"
      ]
     },
     "execution_count": 7,
     "metadata": {},
     "output_type": "execute_result"
    }
   ],
   "source": [
    "itemname = itemsdf[\"item_name\"].value_counts() # nombres de juegos mas solicitados\n",
    "itemname"
   ]
  },
  {
   "cell_type": "code",
   "execution_count": 8,
   "metadata": {},
   "outputs": [
    {
     "data": {
      "image/png": "[encoded data removed]",
      "text/plain": [
       "<Figure size 1000x600 with 1 Axes>"
      ]
     },
     "metadata": {},
     "output_type": "display_data"
    }
   ],
   "source": [
    "# Creamos un gráfico de barras horizontales\n",
    "sns.set(style=\"whitegrid\")\n",
    "\n",
    "# Ajustamos el tamaño del gráfico\n",
    "plt.figure(figsize=(10, 6))\n",
    "\n",
    "itemname_data = itemname[:15]\n",
    "sns.barplot(x=itemname_data.values, y=itemname_data.index, palette=\"Blues_r\")\n",
    "plt.xlabel('Consumo')\n",
    "plt.ylabel('Juegos')\n",
    "plt.title('Top 15 Desarrolladores')\n",
    "\n",
    "# Añadimos etiquetas en las barras\n",
    "for i, v in enumerate(itemname_data.values):\n",
    "    plt.text(v + 0.1, i, str(v), color='black', va='center', fontsize=10)"
   ]
  },
  {
   "cell_type": "markdown",
   "metadata": {},
   "source": [
    "'items_count'"
   ]
  },
  {
   "cell_type": "code",
   "execution_count": 9,
   "metadata": {},
   "outputs": [
    {
     "data": {
      "text/plain": [
       "items_count\n",
       "51     18201\n",
       "63     17747\n",
       "53     17535\n",
       "46     17454\n",
       "55     17420\n",
       "       ...  \n",
       "699       43\n",
       "776       42\n",
       "742       42\n",
       "882       42\n",
       "678        9\n",
       "Name: count, Length: 924, dtype: int64"
      ]
     },
     "execution_count": 9,
     "metadata": {},
     "output_type": "execute_result"
    }
   ],
   "source": [
    "itemcoun = itemsdf[\"items_count\"].value_counts() # indica cuantos juego por usuario se ha comprado.\n",
    "itemcoun"
   ]
  },
  {
   "cell_type": "code",
   "execution_count": 10,
   "metadata": {},
   "outputs": [
    {
     "data": {
      "text/html": [
       "<div>\n",
       "<style scoped>\n",
       "    .dataframe tbody tr th:only-of-type {\n",
       "        vertical-align: middle;\n",
       "    }\n",
       "\n",
       "    .dataframe tbody tr th {\n",
       "        vertical-align: top;\n",
       "    }\n",
       "\n",
       "    .dataframe thead th {\n",
       "        text-align: right;\n",
       "    }\n",
       "</style>\n",
       "<table border=\"1\" class=\"dataframe\">\n",
       "  <thead>\n",
       "    <tr style=\"text-align: right;\">\n",
       "      <th></th>\n",
       "      <th>item_id</th>\n",
       "      <th>item_name</th>\n",
       "      <th>items_count</th>\n",
       "      <th>user_id</th>\n",
       "      <th>playtime_hours</th>\n",
       "    </tr>\n",
       "  </thead>\n",
       "  <tbody>\n",
       "    <tr>\n",
       "      <th>0</th>\n",
       "      <td>10</td>\n",
       "      <td>Counter-Strike</td>\n",
       "      <td>277</td>\n",
       "      <td>76561197970982479</td>\n",
       "      <td>0.10</td>\n",
       "    </tr>\n",
       "    <tr>\n",
       "      <th>2</th>\n",
       "      <td>30</td>\n",
       "      <td>Day of Defeat</td>\n",
       "      <td>277</td>\n",
       "      <td>76561197970982479</td>\n",
       "      <td>0.12</td>\n",
       "    </tr>\n",
       "    <tr>\n",
       "      <th>8</th>\n",
       "      <td>300</td>\n",
       "      <td>Day of Defeat: Source</td>\n",
       "      <td>277</td>\n",
       "      <td>76561197970982479</td>\n",
       "      <td>78.88</td>\n",
       "    </tr>\n",
       "    <tr>\n",
       "      <th>9</th>\n",
       "      <td>240</td>\n",
       "      <td>Counter-Strike: Source</td>\n",
       "      <td>277</td>\n",
       "      <td>76561197970982479</td>\n",
       "      <td>30.88</td>\n",
       "    </tr>\n",
       "    <tr>\n",
       "      <th>10</th>\n",
       "      <td>3830</td>\n",
       "      <td>Psychonauts</td>\n",
       "      <td>277</td>\n",
       "      <td>76561197970982479</td>\n",
       "      <td>5.55</td>\n",
       "    </tr>\n",
       "    <tr>\n",
       "      <th>...</th>\n",
       "      <td>...</td>\n",
       "      <td>...</td>\n",
       "      <td>...</td>\n",
       "      <td>...</td>\n",
       "      <td>...</td>\n",
       "    </tr>\n",
       "    <tr>\n",
       "      <th>269</th>\n",
       "      <td>368230</td>\n",
       "      <td>Kingdom: Classic</td>\n",
       "      <td>277</td>\n",
       "      <td>76561197970982479</td>\n",
       "      <td>1.38</td>\n",
       "    </tr>\n",
       "    <tr>\n",
       "      <th>272</th>\n",
       "      <td>289130</td>\n",
       "      <td>Endless Legend</td>\n",
       "      <td>277</td>\n",
       "      <td>76561197970982479</td>\n",
       "      <td>9.88</td>\n",
       "    </tr>\n",
       "    <tr>\n",
       "      <th>273</th>\n",
       "      <td>268500</td>\n",
       "      <td>XCOM 2</td>\n",
       "      <td>277</td>\n",
       "      <td>76561197970982479</td>\n",
       "      <td>24.92</td>\n",
       "    </tr>\n",
       "    <tr>\n",
       "      <th>275</th>\n",
       "      <td>379720</td>\n",
       "      <td>DOOM</td>\n",
       "      <td>277</td>\n",
       "      <td>76561197970982479</td>\n",
       "      <td>13.22</td>\n",
       "    </tr>\n",
       "    <tr>\n",
       "      <th>276</th>\n",
       "      <td>273350</td>\n",
       "      <td>Evolve Stage 2</td>\n",
       "      <td>277</td>\n",
       "      <td>76561197970982479</td>\n",
       "      <td>0.97</td>\n",
       "    </tr>\n",
       "  </tbody>\n",
       "</table>\n",
       "<p>198 rows × 5 columns</p>\n",
       "</div>"
      ],
      "text/plain": [
       "     item_id               item_name  items_count            user_id  \\\n",
       "0         10          Counter-Strike          277  76561197970982479   \n",
       "2         30           Day of Defeat          277  76561197970982479   \n",
       "8        300   Day of Defeat: Source          277  76561197970982479   \n",
       "9        240  Counter-Strike: Source          277  76561197970982479   \n",
       "10      3830             Psychonauts          277  76561197970982479   \n",
       "..       ...                     ...          ...                ...   \n",
       "269   368230        Kingdom: Classic          277  76561197970982479   \n",
       "272   289130          Endless Legend          277  76561197970982479   \n",
       "273   268500                  XCOM 2          277  76561197970982479   \n",
       "275   379720                    DOOM          277  76561197970982479   \n",
       "276   273350          Evolve Stage 2          277  76561197970982479   \n",
       "\n",
       "     playtime_hours  \n",
       "0              0.10  \n",
       "2              0.12  \n",
       "8             78.88  \n",
       "9             30.88  \n",
       "10             5.55  \n",
       "..              ...  \n",
       "269            1.38  \n",
       "272            9.88  \n",
       "273           24.92  \n",
       "275           13.22  \n",
       "276            0.97  \n",
       "\n",
       "[198 rows x 5 columns]"
      ]
     },
     "execution_count": 10,
     "metadata": {},
     "output_type": "execute_result"
    }
   ],
   "source": [
    "itemsdf[itemsdf[\"user_id\"]==\"76561197970982479\"] #como vemos items count es el numero de veces que el user_id ha usado un juego por eso lo eliminamos ya que podemos optenerlo con un filtro."
   ]
  },
  {
   "cell_type": "markdown",
   "metadata": {},
   "source": [
    "eliminando"
   ]
  },
  {
   "cell_type": "code",
   "execution_count": 11,
   "metadata": {},
   "outputs": [
    {
     "data": {
      "text/html": [
       "<div>\n",
       "<style scoped>\n",
       "    .dataframe tbody tr th:only-of-type {\n",
       "        vertical-align: middle;\n",
       "    }\n",
       "\n",
       "    .dataframe tbody tr th {\n",
       "        vertical-align: top;\n",
       "    }\n",
       "\n",
       "    .dataframe thead th {\n",
       "        text-align: right;\n",
       "    }\n",
       "</style>\n",
       "<table border=\"1\" class=\"dataframe\">\n",
       "  <thead>\n",
       "    <tr style=\"text-align: right;\">\n",
       "      <th></th>\n",
       "      <th>item_id</th>\n",
       "      <th>item_name</th>\n",
       "      <th>user_id</th>\n",
       "      <th>playtime_hours</th>\n",
       "    </tr>\n",
       "  </thead>\n",
       "  <tbody>\n",
       "    <tr>\n",
       "      <th>0</th>\n",
       "      <td>10</td>\n",
       "      <td>Counter-Strike</td>\n",
       "      <td>76561197970982479</td>\n",
       "      <td>0.10</td>\n",
       "    </tr>\n",
       "    <tr>\n",
       "      <th>2</th>\n",
       "      <td>30</td>\n",
       "      <td>Day of Defeat</td>\n",
       "      <td>76561197970982479</td>\n",
       "      <td>0.12</td>\n",
       "    </tr>\n",
       "    <tr>\n",
       "      <th>8</th>\n",
       "      <td>300</td>\n",
       "      <td>Day of Defeat: Source</td>\n",
       "      <td>76561197970982479</td>\n",
       "      <td>78.88</td>\n",
       "    </tr>\n",
       "  </tbody>\n",
       "</table>\n",
       "</div>"
      ],
      "text/plain": [
       "   item_id              item_name            user_id  playtime_hours\n",
       "0       10         Counter-Strike  76561197970982479            0.10\n",
       "2       30          Day of Defeat  76561197970982479            0.12\n",
       "8      300  Day of Defeat: Source  76561197970982479           78.88"
      ]
     },
     "execution_count": 11,
     "metadata": {},
     "output_type": "execute_result"
    }
   ],
   "source": [
    "# Eliminamos las columnas \"publisher\", \"title\", \"url\",\"tags\", \"reviews_url\", \"specs\",\"early_access\" tiene informacion no util\n",
    "itemsdf = itemsdf.drop(columns=[\"items_count\"])\n",
    "itemsdf.head(3)"
   ]
  },
  {
   "cell_type": "markdown",
   "metadata": {},
   "source": [
    "'user_id'"
   ]
  },
  {
   "cell_type": "code",
   "execution_count": 12,
   "metadata": {},
   "outputs": [],
   "source": [
    "#itemsdf[itemsdf[\"user_id\"] == \"76561197970982479\"]"
   ]
  },
  {
   "cell_type": "code",
   "execution_count": 13,
   "metadata": {},
   "outputs": [
    {
     "data": {
      "text/plain": [
       "user_id\n",
       "chidvd               3475\n",
       "thugnificent         3160\n",
       "phrostb              2984\n",
       "djnemonic            2545\n",
       "Steamified           2481\n",
       "                     ... \n",
       "76561198062395953       1\n",
       "76561198085062722       1\n",
       "76561198085062486       1\n",
       "76561197970951048       1\n",
       "76561198075343291       1\n",
       "Name: count, Length: 68403, dtype: int64"
      ]
     },
     "execution_count": 13,
     "metadata": {},
     "output_type": "execute_result"
    }
   ],
   "source": [
    "iduser = itemsdf[\"user_id\"].value_counts() # obtenemos la cantidad de juegos por año de lanzamiento\n",
    "iduser"
   ]
  },
  {
   "cell_type": "code",
   "execution_count": 14,
   "metadata": {},
   "outputs": [
    {
     "data": {
      "text/html": [
       "<div>\n",
       "<style scoped>\n",
       "    .dataframe tbody tr th:only-of-type {\n",
       "        vertical-align: middle;\n",
       "    }\n",
       "\n",
       "    .dataframe tbody tr th {\n",
       "        vertical-align: top;\n",
       "    }\n",
       "\n",
       "    .dataframe thead th {\n",
       "        text-align: right;\n",
       "    }\n",
       "</style>\n",
       "<table border=\"1\" class=\"dataframe\">\n",
       "  <thead>\n",
       "    <tr style=\"text-align: right;\">\n",
       "      <th></th>\n",
       "      <th>playtime_hours</th>\n",
       "    </tr>\n",
       "    <tr>\n",
       "      <th>user_id</th>\n",
       "      <th></th>\n",
       "    </tr>\n",
       "  </thead>\n",
       "  <tbody>\n",
       "    <tr>\n",
       "      <th>wolop</th>\n",
       "      <td>10712.88</td>\n",
       "    </tr>\n",
       "    <tr>\n",
       "      <th>Evilutional</th>\n",
       "      <td>10588.25</td>\n",
       "    </tr>\n",
       "    <tr>\n",
       "      <th>76561198019826668</th>\n",
       "      <td>10540.87</td>\n",
       "    </tr>\n",
       "    <tr>\n",
       "      <th>76561198039832932</th>\n",
       "      <td>10223.52</td>\n",
       "    </tr>\n",
       "    <tr>\n",
       "      <th>tsunamitad</th>\n",
       "      <td>10001.13</td>\n",
       "    </tr>\n",
       "    <tr>\n",
       "      <th>...</th>\n",
       "      <td>...</td>\n",
       "    </tr>\n",
       "    <tr>\n",
       "      <th>76561198078062945</th>\n",
       "      <td>0.02</td>\n",
       "    </tr>\n",
       "    <tr>\n",
       "      <th>76561198101995099</th>\n",
       "      <td>0.02</td>\n",
       "    </tr>\n",
       "    <tr>\n",
       "      <th>76561198066935199</th>\n",
       "      <td>0.02</td>\n",
       "    </tr>\n",
       "    <tr>\n",
       "      <th>76561198051717662</th>\n",
       "      <td>0.02</td>\n",
       "    </tr>\n",
       "    <tr>\n",
       "      <th>76561197972059969</th>\n",
       "      <td>0.02</td>\n",
       "    </tr>\n",
       "  </tbody>\n",
       "</table>\n",
       "<p>2823404 rows × 1 columns</p>\n",
       "</div>"
      ],
      "text/plain": [
       "                  playtime_hours\n",
       "user_id                         \n",
       "wolop                   10712.88\n",
       "Evilutional             10588.25\n",
       "76561198019826668       10540.87\n",
       "76561198039832932       10223.52\n",
       "tsunamitad              10001.13\n",
       "...                          ...\n",
       "76561198078062945           0.02\n",
       "76561198101995099           0.02\n",
       "76561198066935199           0.02\n",
       "76561198051717662           0.02\n",
       "76561197972059969           0.02\n",
       "\n",
       "[2823404 rows x 1 columns]"
      ]
     },
     "execution_count": 14,
     "metadata": {},
     "output_type": "execute_result"
    }
   ],
   "source": [
    "#obtenemos cantidad de horas jugadas por usucario\n",
    "items_count = itemsdf.groupby('user_id')['playtime_hours'].unique().explode() # \n",
    "items_count= pd.DataFrame(items_count) # convertimos a dataframe\n",
    "items_count_user = items_count.sort_values('playtime_hours', ascending=False) # ordenamos de mayor a menor\n",
    "items_count_user"
   ]
  },
  {
   "cell_type": "code",
   "execution_count": 15,
   "metadata": {},
   "outputs": [
    {
     "data": {
      "image/png": "[encoded data removed]",
      "text/plain": [
       "<Figure size 1400x800 with 2 Axes>"
      ]
     },
     "metadata": {},
     "output_type": "display_data"
    }
   ],
   "source": [
    "sns.set(style=\"whitegrid\", palette=\"plasma\")\n",
    "\n",
    "fig, axes = plt.subplots(2, 1, figsize=(14, 8), sharex=True)\n",
    "\n",
    "# Subplot 1 - Stripplot\n",
    "sns.stripplot(data=items_count_user, x='playtime_hours', ax=axes[0], color=\"blue\", jitter=0.2, alpha=0.7)\n",
    "axes[0].set_xlabel('Cantidad de Items')\n",
    "axes[0].set_ylabel('Frecuencia')\n",
    "axes[0].set_title('Distribución de Cantidad de Horas jugadas por Usuario')\n",
    "\n",
    "# Subplot 2 - Boxplot\n",
    "sns.boxplot(data=items_count_user, x='playtime_hours', ax=axes[1], palette=\"plasma\")\n",
    "axes[1].set_xlabel('Cantidad de Items')\n",
    "axes[1].set_ylabel('Frecuencia')\n",
    "axes[1].set_title('Boxplot de Cantidad de Horas jugadas por Usuario')\n",
    "\n",
    "plt.tight_layout()\n",
    "plt.show()"
   ]
  },
  {
   "cell_type": "markdown",
   "metadata": {},
   "source": [
    "'playtime_hours'"
   ]
  },
  {
   "cell_type": "code",
   "execution_count": null,
   "metadata": {},
   "outputs": [],
   "source": []
  },
  {
   "cell_type": "code",
   "execution_count": 16,
   "metadata": {},
   "outputs": [
    {
     "data": {
      "text/plain": [
       "playtime_hours\n",
       "0.02       101586\n",
       "0.03        34391\n",
       "0.05        31530\n",
       "0.07        29127\n",
       "0.08        27612\n",
       "            ...  \n",
       "1077.93         1\n",
       "888.80          1\n",
       "733.82          1\n",
       "551.98          1\n",
       "579.22          1\n",
       "Name: count, Length: 48860, dtype: int64"
      ]
     },
     "execution_count": 16,
     "metadata": {},
     "output_type": "execute_result"
    }
   ],
   "source": [
    "horas = itemsdf[\"playtime_hours\"].value_counts() # obtenemos la cantidad de juegos por año de lanzamiento\n",
    "horas"
   ]
  },
  {
   "cell_type": "code",
   "execution_count": 17,
   "metadata": {},
   "outputs": [],
   "source": [
    "#eliminamos tiempos irrisorios de juegos como segundos tomamos minimo 6 min para adelante.\n",
    "itemsdf = itemsdf[itemsdf[\"playtime_hours\"] >= 0.1]"
   ]
  },
  {
   "cell_type": "markdown",
   "metadata": {},
   "source": [
    "reseteando indices"
   ]
  },
  {
   "cell_type": "code",
   "execution_count": 18,
   "metadata": {},
   "outputs": [
    {
     "data": {
      "text/html": [
       "<div>\n",
       "<style scoped>\n",
       "    .dataframe tbody tr th:only-of-type {\n",
       "        vertical-align: middle;\n",
       "    }\n",
       "\n",
       "    .dataframe tbody tr th {\n",
       "        vertical-align: top;\n",
       "    }\n",
       "\n",
       "    .dataframe thead th {\n",
       "        text-align: right;\n",
       "    }\n",
       "</style>\n",
       "<table border=\"1\" class=\"dataframe\">\n",
       "  <thead>\n",
       "    <tr style=\"text-align: right;\">\n",
       "      <th></th>\n",
       "      <th>index</th>\n",
       "      <th>item_id</th>\n",
       "      <th>item_name</th>\n",
       "      <th>user_id</th>\n",
       "      <th>playtime_hours</th>\n",
       "    </tr>\n",
       "  </thead>\n",
       "  <tbody>\n",
       "    <tr>\n",
       "      <th>0</th>\n",
       "      <td>0</td>\n",
       "      <td>10</td>\n",
       "      <td>Counter-Strike</td>\n",
       "      <td>76561197970982479</td>\n",
       "      <td>0.10</td>\n",
       "    </tr>\n",
       "    <tr>\n",
       "      <th>1</th>\n",
       "      <td>2</td>\n",
       "      <td>30</td>\n",
       "      <td>Day of Defeat</td>\n",
       "      <td>76561197970982479</td>\n",
       "      <td>0.12</td>\n",
       "    </tr>\n",
       "    <tr>\n",
       "      <th>2</th>\n",
       "      <td>8</td>\n",
       "      <td>300</td>\n",
       "      <td>Day of Defeat: Source</td>\n",
       "      <td>76561197970982479</td>\n",
       "      <td>78.88</td>\n",
       "    </tr>\n",
       "  </tbody>\n",
       "</table>\n",
       "</div>"
      ],
      "text/plain": [
       "   index  item_id              item_name            user_id  playtime_hours\n",
       "0      0       10         Counter-Strike  76561197970982479            0.10\n",
       "1      2       30          Day of Defeat  76561197970982479            0.12\n",
       "2      8      300  Day of Defeat: Source  76561197970982479           78.88"
      ]
     },
     "execution_count": 18,
     "metadata": {},
     "output_type": "execute_result"
    }
   ],
   "source": [
    "#Reseteamos los indices\n",
    "itemsdf.reset_index(inplace=True)\n",
    "itemsdf.head(3)"
   ]
  },
  {
   "cell_type": "code",
   "execution_count": 19,
   "metadata": {},
   "outputs": [
    {
     "data": {
      "text/html": [
       "<div>\n",
       "<style scoped>\n",
       "    .dataframe tbody tr th:only-of-type {\n",
       "        vertical-align: middle;\n",
       "    }\n",
       "\n",
       "    .dataframe tbody tr th {\n",
       "        vertical-align: top;\n",
       "    }\n",
       "\n",
       "    .dataframe thead th {\n",
       "        text-align: right;\n",
       "    }\n",
       "</style>\n",
       "<table border=\"1\" class=\"dataframe\">\n",
       "  <thead>\n",
       "    <tr style=\"text-align: right;\">\n",
       "      <th></th>\n",
       "      <th>item_id</th>\n",
       "      <th>item_name</th>\n",
       "      <th>user_id</th>\n",
       "      <th>playtime_hours</th>\n",
       "    </tr>\n",
       "  </thead>\n",
       "  <tbody>\n",
       "    <tr>\n",
       "      <th>0</th>\n",
       "      <td>10</td>\n",
       "      <td>Counter-Strike</td>\n",
       "      <td>76561197970982479</td>\n",
       "      <td>0.10</td>\n",
       "    </tr>\n",
       "    <tr>\n",
       "      <th>1</th>\n",
       "      <td>30</td>\n",
       "      <td>Day of Defeat</td>\n",
       "      <td>76561197970982479</td>\n",
       "      <td>0.12</td>\n",
       "    </tr>\n",
       "    <tr>\n",
       "      <th>2</th>\n",
       "      <td>300</td>\n",
       "      <td>Day of Defeat: Source</td>\n",
       "      <td>76561197970982479</td>\n",
       "      <td>78.88</td>\n",
       "    </tr>\n",
       "    <tr>\n",
       "      <th>3</th>\n",
       "      <td>240</td>\n",
       "      <td>Counter-Strike: Source</td>\n",
       "      <td>76561197970982479</td>\n",
       "      <td>30.88</td>\n",
       "    </tr>\n",
       "    <tr>\n",
       "      <th>4</th>\n",
       "      <td>3830</td>\n",
       "      <td>Psychonauts</td>\n",
       "      <td>76561197970982479</td>\n",
       "      <td>5.55</td>\n",
       "    </tr>\n",
       "  </tbody>\n",
       "</table>\n",
       "</div>"
      ],
      "text/plain": [
       "   item_id               item_name            user_id  playtime_hours\n",
       "0       10          Counter-Strike  76561197970982479            0.10\n",
       "1       30           Day of Defeat  76561197970982479            0.12\n",
       "2      300   Day of Defeat: Source  76561197970982479           78.88\n",
       "3      240  Counter-Strike: Source  76561197970982479           30.88\n",
       "4     3830             Psychonauts  76561197970982479            5.55"
      ]
     },
     "execution_count": 19,
     "metadata": {},
     "output_type": "execute_result"
    }
   ],
   "source": [
    "#eliminamos el index antiguo que se convirtion en una columna\n",
    "itemsdf = itemsdf.drop('index', axis=1)\n",
    "itemsdf.head(5)"
   ]
  },
  {
   "cell_type": "markdown",
   "metadata": {},
   "source": [
    "Guardando por los cambios generados"
   ]
  },
  {
   "cell_type": "code",
   "execution_count": 20,
   "metadata": {},
   "outputs": [],
   "source": [
    "tabla = pa.Table.from_pandas(itemsdf) # convertimos el dataframe en una tabla de pyarrow\n",
    "pq.write_table(tabla,\"../0-DATA/australian_users_itemsEDA.parquet\") # guardamos la tabla en formato parquet"
   ]
  },
  {
   "cell_type": "code",
   "execution_count": 21,
   "metadata": {},
   "outputs": [],
   "source": [
    "itemsdf.to_csv(\"../0-DATA/australian_users_itemsEDA.csv\", index=False, encoding=\"utf-8\") "
   ]
  },
  {
   "cell_type": "code",
   "execution_count": 22,
   "metadata": {},
   "outputs": [
    {
     "data": {
      "text/html": [
       "<div>\n",
       "<style scoped>\n",
       "    .dataframe tbody tr th:only-of-type {\n",
       "        vertical-align: middle;\n",
       "    }\n",
       "\n",
       "    .dataframe tbody tr th {\n",
       "        vertical-align: top;\n",
       "    }\n",
       "\n",
       "    .dataframe thead th {\n",
       "        text-align: right;\n",
       "    }\n",
       "</style>\n",
       "<table border=\"1\" class=\"dataframe\">\n",
       "  <thead>\n",
       "    <tr style=\"text-align: right;\">\n",
       "      <th></th>\n",
       "      <th>item_id</th>\n",
       "      <th>item_name</th>\n",
       "      <th>user_id</th>\n",
       "      <th>playtime_hours</th>\n",
       "    </tr>\n",
       "  </thead>\n",
       "  <tbody>\n",
       "    <tr>\n",
       "      <th>0</th>\n",
       "      <td>10</td>\n",
       "      <td>Counter-Strike</td>\n",
       "      <td>76561197970982479</td>\n",
       "      <td>0.10</td>\n",
       "    </tr>\n",
       "    <tr>\n",
       "      <th>1</th>\n",
       "      <td>30</td>\n",
       "      <td>Day of Defeat</td>\n",
       "      <td>76561197970982479</td>\n",
       "      <td>0.12</td>\n",
       "    </tr>\n",
       "    <tr>\n",
       "      <th>2</th>\n",
       "      <td>300</td>\n",
       "      <td>Day of Defeat: Source</td>\n",
       "      <td>76561197970982479</td>\n",
       "      <td>78.88</td>\n",
       "    </tr>\n",
       "    <tr>\n",
       "      <th>3</th>\n",
       "      <td>240</td>\n",
       "      <td>Counter-Strike: Source</td>\n",
       "      <td>76561197970982479</td>\n",
       "      <td>30.88</td>\n",
       "    </tr>\n",
       "    <tr>\n",
       "      <th>4</th>\n",
       "      <td>3830</td>\n",
       "      <td>Psychonauts</td>\n",
       "      <td>76561197970982479</td>\n",
       "      <td>5.55</td>\n",
       "    </tr>\n",
       "    <tr>\n",
       "      <th>...</th>\n",
       "      <td>...</td>\n",
       "      <td>...</td>\n",
       "      <td>...</td>\n",
       "      <td>...</td>\n",
       "    </tr>\n",
       "    <tr>\n",
       "      <th>3022111</th>\n",
       "      <td>730</td>\n",
       "      <td>Counter-Strike: Global Offensive</td>\n",
       "      <td>ArkPlays7</td>\n",
       "      <td>75.95</td>\n",
       "    </tr>\n",
       "    <tr>\n",
       "      <th>3022112</th>\n",
       "      <td>346110</td>\n",
       "      <td>ARK: Survival Evolved</td>\n",
       "      <td>ArkPlays7</td>\n",
       "      <td>10.38</td>\n",
       "    </tr>\n",
       "    <tr>\n",
       "      <th>3022113</th>\n",
       "      <td>417860</td>\n",
       "      <td>Emily is Away</td>\n",
       "      <td>76561198323066619</td>\n",
       "      <td>0.13</td>\n",
       "    </tr>\n",
       "    <tr>\n",
       "      <th>3022114</th>\n",
       "      <td>304930</td>\n",
       "      <td>Unturned</td>\n",
       "      <td>76561198329548331</td>\n",
       "      <td>11.28</td>\n",
       "    </tr>\n",
       "    <tr>\n",
       "      <th>3022115</th>\n",
       "      <td>227940</td>\n",
       "      <td>Heroes &amp; Generals</td>\n",
       "      <td>76561198329548331</td>\n",
       "      <td>0.72</td>\n",
       "    </tr>\n",
       "  </tbody>\n",
       "</table>\n",
       "<p>3022116 rows × 4 columns</p>\n",
       "</div>"
      ],
      "text/plain": [
       "         item_id                         item_name            user_id  \\\n",
       "0             10                    Counter-Strike  76561197970982479   \n",
       "1             30                     Day of Defeat  76561197970982479   \n",
       "2            300             Day of Defeat: Source  76561197970982479   \n",
       "3            240            Counter-Strike: Source  76561197970982479   \n",
       "4           3830                       Psychonauts  76561197970982479   \n",
       "...          ...                               ...                ...   \n",
       "3022111      730  Counter-Strike: Global Offensive          ArkPlays7   \n",
       "3022112   346110             ARK: Survival Evolved          ArkPlays7   \n",
       "3022113   417860                     Emily is Away  76561198323066619   \n",
       "3022114   304930                          Unturned  76561198329548331   \n",
       "3022115   227940                 Heroes & Generals  76561198329548331   \n",
       "\n",
       "         playtime_hours  \n",
       "0                  0.10  \n",
       "1                  0.12  \n",
       "2                 78.88  \n",
       "3                 30.88  \n",
       "4                  5.55  \n",
       "...                 ...  \n",
       "3022111           75.95  \n",
       "3022112           10.38  \n",
       "3022113            0.13  \n",
       "3022114           11.28  \n",
       "3022115            0.72  \n",
       "\n",
       "[3022116 rows x 4 columns]"
      ]
     },
     "execution_count": 22,
     "metadata": {},
     "output_type": "execute_result"
    }
   ],
   "source": [
    "itemsdf"
   ]
  },
  {
   "cell_type": "code",
   "execution_count": null,
   "metadata": {},
   "outputs": [],
   "source": []
  }
 ],
 "metadata": {
  "kernelspec": {
   "display_name": "base",
   "language": "python",
   "name": "python3"
  },
  "language_info": {
   "codemirror_mode": {
    "name": "ipython",
    "version": 3
   },
   "file_extension": ".py",
   "mimetype": "text/x-python",
   "name": "python",
   "nbconvert_exporter": "python",
   "pygments_lexer": "ipython3",
   "version": "3.9.7"
  }
 },
 "nbformat": 4,
 "nbformat_minor": 2
}
