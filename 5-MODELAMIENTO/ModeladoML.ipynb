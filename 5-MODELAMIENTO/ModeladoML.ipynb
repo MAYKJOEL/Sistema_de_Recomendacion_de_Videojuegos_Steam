{
 "cells": [
  {
   "cell_type": "code",
   "execution_count": 1,
   "metadata": {},
   "outputs": [],
   "source": [
    "import pandas as pd\n",
    "import pyarrow as pa\n",
    "import pyarrow.parquet as pq\n",
    "#import warnings\n",
    "#warnings.filterwarnings('ignore')\n",
    "\n",
    "#import numpy as np\n",
    "#import scipy as sp\n",
    "from sklearn.metrics.pairwise import cosine_similarity\n",
    "#import operator\n",
    "#import fastparquet as fp \n",
    "#import google.cloud.storage as storage\n",
    "#import scipy.stats as stats"
   ]
  },
  {
   "cell_type": "code",
   "execution_count": 2,
   "metadata": {},
   "outputs": [
    {
     "data": {
      "text/html": [
       "<div>\n",
       "<style scoped>\n",
       "    .dataframe tbody tr th:only-of-type {\n",
       "        vertical-align: middle;\n",
       "    }\n",
       "\n",
       "    .dataframe tbody tr th {\n",
       "        vertical-align: top;\n",
       "    }\n",
       "\n",
       "    .dataframe thead th {\n",
       "        text-align: right;\n",
       "    }\n",
       "</style>\n",
       "<table border=\"1\" class=\"dataframe\">\n",
       "  <thead>\n",
       "    <tr style=\"text-align: right;\">\n",
       "      <th></th>\n",
       "      <th>item_id</th>\n",
       "      <th>app_name</th>\n",
       "      <th>genres</th>\n",
       "    </tr>\n",
       "  </thead>\n",
       "  <tbody>\n",
       "    <tr>\n",
       "      <th>0</th>\n",
       "      <td>761140</td>\n",
       "      <td>Lost Summoner Kitty</td>\n",
       "      <td>Action</td>\n",
       "    </tr>\n",
       "    <tr>\n",
       "      <th>1</th>\n",
       "      <td>643980</td>\n",
       "      <td>Ironbound</td>\n",
       "      <td>Free to Play</td>\n",
       "    </tr>\n",
       "    <tr>\n",
       "      <th>2</th>\n",
       "      <td>670290</td>\n",
       "      <td>Real Pool 3D - Poolians</td>\n",
       "      <td>Casual</td>\n",
       "    </tr>\n",
       "    <tr>\n",
       "      <th>3</th>\n",
       "      <td>767400</td>\n",
       "      <td>弹炸人2222</td>\n",
       "      <td>Action</td>\n",
       "    </tr>\n",
       "    <tr>\n",
       "      <th>4</th>\n",
       "      <td>772540</td>\n",
       "      <td>Battle Royale Trainer</td>\n",
       "      <td>Action</td>\n",
       "    </tr>\n",
       "  </tbody>\n",
       "</table>\n",
       "</div>"
      ],
      "text/plain": [
       "   item_id                 app_name        genres\n",
       "0   761140      Lost Summoner Kitty        Action\n",
       "1   643980                Ironbound  Free to Play\n",
       "2   670290  Real Pool 3D - Poolians        Casual\n",
       "3   767400                  弹炸人2222        Action\n",
       "4   772540    Battle Royale Trainer        Action"
      ]
     },
     "execution_count": 2,
     "metadata": {},
     "output_type": "execute_result"
    }
   ],
   "source": [
    "modelo_games = pq.read_table(\"../0-DATA/modelo_games.parquet\").to_pandas()\n",
    "modelo_games.head(5)"
   ]
  },
  {
   "cell_type": "code",
   "execution_count": 3,
   "metadata": {},
   "outputs": [
    {
     "data": {
      "text/html": [
       "<div>\n",
       "<style scoped>\n",
       "    .dataframe tbody tr th:only-of-type {\n",
       "        vertical-align: middle;\n",
       "    }\n",
       "\n",
       "    .dataframe tbody tr th {\n",
       "        vertical-align: top;\n",
       "    }\n",
       "\n",
       "    .dataframe thead th {\n",
       "        text-align: right;\n",
       "    }\n",
       "</style>\n",
       "<table border=\"1\" class=\"dataframe\">\n",
       "  <thead>\n",
       "    <tr style=\"text-align: right;\">\n",
       "      <th></th>\n",
       "      <th>item_id</th>\n",
       "      <th>app_name</th>\n",
       "      <th>_Accounting</th>\n",
       "      <th>_Action</th>\n",
       "      <th>_Adventure</th>\n",
       "      <th>_Animation &amp;amp; Modeling</th>\n",
       "      <th>_Audio Production</th>\n",
       "      <th>_Casual</th>\n",
       "      <th>_Design &amp;amp; Illustration</th>\n",
       "      <th>_Early Access</th>\n",
       "      <th>...</th>\n",
       "      <th>_Photo Editing</th>\n",
       "      <th>_RPG</th>\n",
       "      <th>_Racing</th>\n",
       "      <th>_Simulation</th>\n",
       "      <th>_Software Training</th>\n",
       "      <th>_Sports</th>\n",
       "      <th>_Strategy</th>\n",
       "      <th>_Utilities</th>\n",
       "      <th>_Video Production</th>\n",
       "      <th>_Web Publishing</th>\n",
       "    </tr>\n",
       "  </thead>\n",
       "  <tbody>\n",
       "    <tr>\n",
       "      <th>0</th>\n",
       "      <td>10</td>\n",
       "      <td>Counter-Strike</td>\n",
       "      <td>0</td>\n",
       "      <td>1</td>\n",
       "      <td>0</td>\n",
       "      <td>0</td>\n",
       "      <td>0</td>\n",
       "      <td>0</td>\n",
       "      <td>0</td>\n",
       "      <td>0</td>\n",
       "      <td>...</td>\n",
       "      <td>0</td>\n",
       "      <td>0</td>\n",
       "      <td>0</td>\n",
       "      <td>0</td>\n",
       "      <td>0</td>\n",
       "      <td>0</td>\n",
       "      <td>0</td>\n",
       "      <td>0</td>\n",
       "      <td>0</td>\n",
       "      <td>0</td>\n",
       "    </tr>\n",
       "    <tr>\n",
       "      <th>1</th>\n",
       "      <td>20</td>\n",
       "      <td>Team Fortress Classic</td>\n",
       "      <td>0</td>\n",
       "      <td>1</td>\n",
       "      <td>0</td>\n",
       "      <td>0</td>\n",
       "      <td>0</td>\n",
       "      <td>0</td>\n",
       "      <td>0</td>\n",
       "      <td>0</td>\n",
       "      <td>...</td>\n",
       "      <td>0</td>\n",
       "      <td>0</td>\n",
       "      <td>0</td>\n",
       "      <td>0</td>\n",
       "      <td>0</td>\n",
       "      <td>0</td>\n",
       "      <td>0</td>\n",
       "      <td>0</td>\n",
       "      <td>0</td>\n",
       "      <td>0</td>\n",
       "    </tr>\n",
       "    <tr>\n",
       "      <th>2</th>\n",
       "      <td>30</td>\n",
       "      <td>Day of Defeat</td>\n",
       "      <td>0</td>\n",
       "      <td>1</td>\n",
       "      <td>0</td>\n",
       "      <td>0</td>\n",
       "      <td>0</td>\n",
       "      <td>0</td>\n",
       "      <td>0</td>\n",
       "      <td>0</td>\n",
       "      <td>...</td>\n",
       "      <td>0</td>\n",
       "      <td>0</td>\n",
       "      <td>0</td>\n",
       "      <td>0</td>\n",
       "      <td>0</td>\n",
       "      <td>0</td>\n",
       "      <td>0</td>\n",
       "      <td>0</td>\n",
       "      <td>0</td>\n",
       "      <td>0</td>\n",
       "    </tr>\n",
       "    <tr>\n",
       "      <th>3</th>\n",
       "      <td>40</td>\n",
       "      <td>Deathmatch Classic</td>\n",
       "      <td>0</td>\n",
       "      <td>1</td>\n",
       "      <td>0</td>\n",
       "      <td>0</td>\n",
       "      <td>0</td>\n",
       "      <td>0</td>\n",
       "      <td>0</td>\n",
       "      <td>0</td>\n",
       "      <td>...</td>\n",
       "      <td>0</td>\n",
       "      <td>0</td>\n",
       "      <td>0</td>\n",
       "      <td>0</td>\n",
       "      <td>0</td>\n",
       "      <td>0</td>\n",
       "      <td>0</td>\n",
       "      <td>0</td>\n",
       "      <td>0</td>\n",
       "      <td>0</td>\n",
       "    </tr>\n",
       "  </tbody>\n",
       "</table>\n",
       "<p>4 rows × 24 columns</p>\n",
       "</div>"
      ],
      "text/plain": [
       "   item_id               app_name  _Accounting  _Action  _Adventure  \\\n",
       "0       10         Counter-Strike            0        1           0   \n",
       "1       20  Team Fortress Classic            0        1           0   \n",
       "2       30          Day of Defeat            0        1           0   \n",
       "3       40     Deathmatch Classic            0        1           0   \n",
       "\n",
       "   _Animation &amp; Modeling  _Audio Production  _Casual  \\\n",
       "0                          0                  0        0   \n",
       "1                          0                  0        0   \n",
       "2                          0                  0        0   \n",
       "3                          0                  0        0   \n",
       "\n",
       "   _Design &amp; Illustration  _Early Access  ...  _Photo Editing  _RPG  \\\n",
       "0                           0              0  ...               0     0   \n",
       "1                           0              0  ...               0     0   \n",
       "2                           0              0  ...               0     0   \n",
       "3                           0              0  ...               0     0   \n",
       "\n",
       "   _Racing  _Simulation  _Software Training  _Sports  _Strategy  _Utilities  \\\n",
       "0        0            0                   0        0          0           0   \n",
       "1        0            0                   0        0          0           0   \n",
       "2        0            0                   0        0          0           0   \n",
       "3        0            0                   0        0          0           0   \n",
       "\n",
       "   _Video Production  _Web Publishing  \n",
       "0                  0                0  \n",
       "1                  0                0  \n",
       "2                  0                0  \n",
       "3                  0                0  \n",
       "\n",
       "[4 rows x 24 columns]"
      ]
     },
     "execution_count": 3,
     "metadata": {},
     "output_type": "execute_result"
    }
   ],
   "source": [
    "#Creamos los dummies\n",
    "modelo_item = pd.get_dummies(modelo_games, columns=[\"genres\"], prefix=\"\")\n",
    "\n",
    "modelo_item = modelo_item.groupby([\"item_id\",\"app_name\"]).sum().reset_index()\n",
    "\n",
    "modelo_item.head(4)"
   ]
  },
  {
   "cell_type": "code",
   "execution_count": 4,
   "metadata": {},
   "outputs": [],
   "source": [
    "similitudes = cosine_similarity(modelo_item.iloc[:,3:])\n"
   ]
  },
  {
   "cell_type": "code",
   "execution_count": 5,
   "metadata": {},
   "outputs": [
    {
     "data": {
      "text/plain": [
       "(27461, 27461)"
      ]
     },
     "execution_count": 5,
     "metadata": {},
     "output_type": "execute_result"
    }
   ],
   "source": [
    "similitudes.shape\n"
   ]
  },
  {
   "cell_type": "code",
   "execution_count": 6,
   "metadata": {},
   "outputs": [
    {
     "name": "stdout",
     "output_type": "stream",
     "text": [
      "[[1. 1. 1. ... 1. 1. 1.]\n",
      " [1. 1. 1. ... 1. 1. 1.]\n",
      " [1. 1. 1. ... 1. 1. 1.]\n",
      " ...\n",
      " [1. 1. 1. ... 1. 1. 1.]\n",
      " [1. 1. 1. ... 1. 1. 1.]\n",
      " [1. 1. 1. ... 1. 1. 1.]]\n"
     ]
    }
   ],
   "source": [
    "print(similitudes)\n"
   ]
  },
  {
   "cell_type": "markdown",
   "metadata": {},
   "source": [
    "Para la elección de la similitud del conseno se puede hacer por varias vias:\n",
    "    * Pandas: Por las caracteristicas de la formula solo es para 2 o 4 columnas a lo mucho 4 ya que la formula se haria engorrosa \n",
    "    * Numpy: Por las caracteristicas de la formula solo es para 2 o 4 columnas a lo mucho 4 ya que la formula se haria engorrosa "
   ]
  },
  {
   "cell_type": "code",
   "execution_count": 7,
   "metadata": {},
   "outputs": [],
   "source": [
    "def recomendacion_juego(id):\n",
    "    \n",
    "    id = int(id)\n",
    "    # Filtramos el juego e igualarlo a  su ID\n",
    "    juego_seleccionado = modelo_item[modelo_item['item_id'] == id]\n",
    "    # devolvemos error en caso de vacio\n",
    "    if juego_seleccionado.empty:\n",
    "        return \"El juego con el ID especificado no existe en la base de datos.\"\n",
    "    \n",
    "    # Calculamos la matriz de similitud coseno\n",
    "    #similitudes = cosine_similarity(modelo_item.iloc[:,3:])\n",
    "    \n",
    "    # Calculamos la similitud del juego que se ingresa con otros juegos del dataframe\n",
    "    similarity_scores = similitudes[modelo_item[modelo_item['item_id'] == id].index[0]]\n",
    "    \n",
    "    # Calculamos los índices de los juegos más similares (excluyendo el juego de entrada)\n",
    "    indices_juegos_similares = similarity_scores.argsort()[::-1][1:6]\n",
    "    \n",
    "    # Obtenemos los nombres de los juegos 5 recomendados\n",
    "    juegos_recomendados = modelo_item.iloc[indices_juegos_similares]['app_name']\n",
    "    \n",
    "    return juegos_recomendados"
   ]
  },
  {
   "cell_type": "code",
   "execution_count": 8,
   "metadata": {},
   "outputs": [
    {
     "data": {
      "text/plain": [
       "12683                Tempest: Pirate Action RPG\n",
       "12726                  GGXrd System Voice - MAY\n",
       "12725             GGXrd System Voice - KY KISKE\n",
       "12724           GGXrd System Voice - SOL BADGUY\n",
       "12723    GGXrd Character Unlock - LEO WHITEFANG\n",
       "Name: app_name, dtype: object"
      ]
     },
     "execution_count": 8,
     "metadata": {},
     "output_type": "execute_result"
    }
   ],
   "source": [
    "recomendacion_juego(2028055) #411350, 2028055, 3260, 100400, 218760, 3310, 229752, 290810, 388280, 754300, \n",
    "                            #766101, 766521, 387800, 462640, 1620, 244830, 429670, 485150\n"
   ]
  },
  {
   "cell_type": "markdown",
   "metadata": {},
   "source": [
    "Dividimos el dataframe por la mitad a fin de lograr montar el modelo en render\n",
    "\n"
   ]
  },
  {
   "cell_type": "code",
   "execution_count": 9,
   "metadata": {},
   "outputs": [],
   "source": [
    "# Revisamos la cantidad de filas\n",
    "cant_filas= len(modelo_item)\n",
    "\n",
    "# Calculamos la mitad\n",
    "mitad_filas= cant_filas // 10\n",
    " \n",
    "# Seleccionamos la mitad superior\n",
    "modelo_railway= modelo_item.iloc[:mitad_filas]"
   ]
  },
  {
   "cell_type": "code",
   "execution_count": 10,
   "metadata": {},
   "outputs": [
    {
     "data": {
      "text/plain": [
       "(2746, 24)"
      ]
     },
     "execution_count": 10,
     "metadata": {},
     "output_type": "execute_result"
    }
   ],
   "source": [
    "modelo_railway.shape\n"
   ]
  },
  {
   "cell_type": "code",
   "execution_count": 11,
   "metadata": {},
   "outputs": [],
   "source": [
    "similitudes_railway = cosine_similarity(modelo_railway.iloc[:,3:])"
   ]
  },
  {
   "cell_type": "code",
   "execution_count": 12,
   "metadata": {},
   "outputs": [],
   "source": [
    "tabla = pa.Table.from_pandas(modelo_railway) # convertimos el dataframe en una tabla de pyarrow\n",
    "pq.write_table(tabla,\"../0-DATA/modelo_railway.parquet\") # guardamos la tabla en formato parquet"
   ]
  },
  {
   "cell_type": "code",
   "execution_count": 13,
   "metadata": {},
   "outputs": [],
   "source": [
    "modelo_railway.to_csv(\"../0-DATA/modelo_railway.csv\", index=False, encoding=\"utf-8\") "
   ]
  },
  {
   "cell_type": "code",
   "execution_count": 14,
   "metadata": {},
   "outputs": [],
   "source": [
    "def encontrar_juegos_similares(id):\n",
    "    # Encontramos el índice del juego ingresado por ID\n",
    "    juego_indice = modelo_railway.index[modelo_railway['item_id'] == id].tolist()[0]\n",
    "    \n",
    "    # Extraemos las características del juego ingresado\n",
    "    juego_caracteristicas = modelo_railway.iloc[juego_indice, 3:].values.reshape(1, -1)\n",
    "    \n",
    "    # Calculamos la similitud coseno entre el juego ingresado y todos los demás juegos\n",
    "    similitudes_railway = cosine_similarity(modelo_railway.iloc[:, 3:], juego_caracteristicas)\n",
    "    \n",
    "    # Obtenemos los índices de los juegos más similares (excluyendo el juego de entrada)\n",
    "    indices_juegos_similares = similitudes_railway.argsort(axis=0)[::-1][1:6]\n",
    "    indices_juegos_similares = indices_juegos_similares.flatten()[1:]\n",
    "    \n",
    "    # Obtenemos los juegos más similares en función de los índices\n",
    "    juegos_similares = modelo_railway.iloc[indices_juegos_similares]['app_name']\n",
    "    \n",
    "    return juegos_similares"
   ]
  },
  {
   "cell_type": "code",
   "execution_count": 15,
   "metadata": {},
   "outputs": [
    {
     "data": {
      "text/plain": [
       "2059    Rocksmith - My Chemical Romance - Planetary (GO!)\n",
       "2060          Rocksmith - My Chemical Romance 3-Song Pack\n",
       "2061                Rocksmith - Queen - Bohemian Rhapsody\n",
       "2062                 Rocksmith - Queen - Stone Cold Crazy\n",
       "Name: app_name, dtype: object"
      ]
     },
     "execution_count": 15,
     "metadata": {},
     "output_type": "execute_result"
    }
   ],
   "source": [
    "encontrar_juegos_similares(3310)#3260, 3310, 1620, 10\n"
   ]
  },
  {
   "cell_type": "code",
   "execution_count": 16,
   "metadata": {},
   "outputs": [],
   "source": [
    "def recomendacion_juego(id: int):\n",
    "    \n",
    "    # Verificamos si el juego con game_id existe en df_games\n",
    "    game = modelo_railway[modelo_railway['item_id'] == id]\n",
    "\n",
    "    if game.empty:\n",
    "        return(\"El juego '{id}' no posee registros.\")\n",
    "    \n",
    "    # Obtenemos el índice del juego dado\n",
    "    idx = game.index[0]\n",
    "\n",
    "    # Tomamos una muestra aleatoria del DataFrame df_games\n",
    "    sample_size = 2000  # Definimos el tamaño de la muestra (ajusta según sea necesario)\n",
    "    df_sample = modelo_railway.sample(n=sample_size, random_state=42)  # Ajustamos la semilla aleatoria según sea necesario\n",
    "\n",
    "    # Calculamos la similitud de contenido solo para el juego dado y la muestra\n",
    "    sim_scores = cosine_similarity([modelo_railway.iloc[idx, 3:]], df_sample.iloc[:, 3:])\n",
    "\n",
    "    # Obtenemos las puntuaciones de similitud del juego dado con otros juegos\n",
    "    sim_scores = sim_scores[0]\n",
    "\n",
    "    # Ordenamos los juegos por similitud en orden descendente\n",
    "    similar_games = [(i, sim_scores[i]) for i in range(len(sim_scores)) if i != idx]\n",
    "    similar_games = sorted(similar_games, key=lambda x: x[1], reverse=True)\n",
    "\n",
    "    # Obtenemos los 5 juegos más similares\n",
    "    similar_game_indices = [i[0] for i in similar_games[:5]]\n",
    "\n",
    "    # Listamos los juegos similares (solo nombres)\n",
    "    similar_game_names = df_sample['app_name'].iloc[similar_game_indices].tolist()\n",
    "\n",
    "    return {\"similar_games\": similar_game_names}"
   ]
  },
  {
   "cell_type": "code",
   "execution_count": 17,
   "metadata": {},
   "outputs": [
    {
     "data": {
      "text/plain": [
       "{'similar_games': ['Hidden Expedition: Titanic',\n",
       "  'Dwarfs - F2P Difficulty Pack',\n",
       "  'Rocksmith - Guitarcade - Time Saver Pack',\n",
       "  'Virtual Villagers: A New Home',\n",
       "  'The Otherside: Realm of Eons']}"
      ]
     },
     "execution_count": 17,
     "metadata": {},
     "output_type": "execute_result"
    }
   ],
   "source": [
    "recomendacion_juego(3310)\n"
   ]
  },
  {
   "cell_type": "code",
   "execution_count": null,
   "metadata": {},
   "outputs": [],
   "source": []
  },
  {
   "cell_type": "code",
   "execution_count": null,
   "metadata": {},
   "outputs": [],
   "source": []
  },
  {
   "cell_type": "code",
   "execution_count": null,
   "metadata": {},
   "outputs": [],
   "source": []
  },
  {
   "cell_type": "code",
   "execution_count": null,
   "metadata": {},
   "outputs": [],
   "source": []
  },
  {
   "cell_type": "code",
   "execution_count": null,
   "metadata": {},
   "outputs": [],
   "source": []
  }
 ],
 "metadata": {
  "kernelspec": {
   "display_name": "base",
   "language": "python",
   "name": "python3"
  },
  "language_info": {
   "codemirror_mode": {
    "name": "ipython",
    "version": 3
   },
   "file_extension": ".py",
   "mimetype": "text/x-python",
   "name": "python",
   "nbconvert_exporter": "python",
   "pygments_lexer": "ipython3",
   "version": "3.9.7"
  }
 },
 "nbformat": 4,
 "nbformat_minor": 2
}
