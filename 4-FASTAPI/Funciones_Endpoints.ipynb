{
 "cells": [
  {
   "cell_type": "markdown",
   "metadata": {},
   "source": [
    "### Creación de funciones para Render - FastApi"
   ]
  },
  {
   "cell_type": "markdown",
   "metadata": {},
   "source": [
    "#### Importamos librerías"
   ]
  },
  {
   "cell_type": "markdown",
   "metadata": {},
   "source": [
    "Comienza instalando solo las librerías que necesitas para empezar tu proyecto."
   ]
  },
  {
   "cell_type": "code",
   "execution_count": 1,
   "metadata": {},
   "outputs": [],
   "source": [
    "import pandas as pd\n",
    "import pyarrow as pa\n",
    "import pyarrow.parquet as pq\n",
    "import warnings\n",
    "warnings.filterwarnings('ignore')"
   ]
  },
  {
   "cell_type": "markdown",
   "metadata": {},
   "source": [
    "### EndPoint 1"
   ]
  },
  {
   "cell_type": "markdown",
   "metadata": {},
   "source": [
    "def developer( desarrollador : str ): Cantidad de items y porcentaje de contenido Free por año según empresa desarrolladora. Ejemplo de retorno:"
   ]
  },
  {
   "cell_type": "code",
   "execution_count": 2,
   "metadata": {},
   "outputs": [
    {
     "data": {
      "text/html": [
       "<div>\n",
       "<style scoped>\n",
       "    .dataframe tbody tr th:only-of-type {\n",
       "        vertical-align: middle;\n",
       "    }\n",
       "\n",
       "    .dataframe tbody tr th {\n",
       "        vertical-align: top;\n",
       "    }\n",
       "\n",
       "    .dataframe thead th {\n",
       "        text-align: right;\n",
       "    }\n",
       "</style>\n",
       "<table border=\"1\" class=\"dataframe\">\n",
       "  <thead>\n",
       "    <tr style=\"text-align: right;\">\n",
       "      <th></th>\n",
       "      <th>price</th>\n",
       "      <th>developer</th>\n",
       "      <th>item_id</th>\n",
       "      <th>año</th>\n",
       "    </tr>\n",
       "  </thead>\n",
       "  <tbody>\n",
       "    <tr>\n",
       "      <th>0</th>\n",
       "      <td>9.99</td>\n",
       "      <td>valve</td>\n",
       "      <td>70</td>\n",
       "      <td>2015</td>\n",
       "    </tr>\n",
       "    <tr>\n",
       "      <th>1</th>\n",
       "      <td>9.99</td>\n",
       "      <td>valve</td>\n",
       "      <td>70</td>\n",
       "      <td>2011</td>\n",
       "    </tr>\n",
       "    <tr>\n",
       "      <th>2</th>\n",
       "      <td>9.99</td>\n",
       "      <td>valve</td>\n",
       "      <td>70</td>\n",
       "      <td>2014</td>\n",
       "    </tr>\n",
       "    <tr>\n",
       "      <th>3</th>\n",
       "      <td>9.99</td>\n",
       "      <td>valve</td>\n",
       "      <td>70</td>\n",
       "      <td>2013</td>\n",
       "    </tr>\n",
       "    <tr>\n",
       "      <th>4</th>\n",
       "      <td>9.99</td>\n",
       "      <td>valve</td>\n",
       "      <td>70</td>\n",
       "      <td>2013</td>\n",
       "    </tr>\n",
       "  </tbody>\n",
       "</table>\n",
       "</div>"
      ],
      "text/plain": [
       "   price developer  item_id   año\n",
       "0   9.99     valve       70  2015\n",
       "1   9.99     valve       70  2011\n",
       "2   9.99     valve       70  2014\n",
       "3   9.99     valve       70  2013\n",
       "4   9.99     valve       70  2013"
      ]
     },
     "execution_count": 2,
     "metadata": {},
     "output_type": "execute_result"
    }
   ],
   "source": [
    "#Leemos el archivo reviews.parquet en un DataFrame\n",
    "df_EP1 = pq.read_table(\"../0-DATA/1desarrollador.parquet\").to_pandas()\n",
    "df_EP1.head(5)"
   ]
  },
  {
   "cell_type": "code",
   "execution_count": 3,
   "metadata": {},
   "outputs": [],
   "source": [
    "def developer(desarrollador: str, df_EP1: pd.DataFrame):\n",
    "    # Convertimos el nombre del desarrollador a minúsculas para evitar errores de coincidencia de mayúsculas y minúsculas\n",
    "    desarrollador = desarrollador.lower()\n",
    "    \n",
    "    # Obtenemos la lista única de desarrolladores en el DataFrame proporcionado\n",
    "    devel = df_EP1.developer.unique()\n",
    "    \n",
    "    # Comprobamos si el desarrollador proporcionado está en la lista de desarrolladores del DataFrame\n",
    "    if desarrollador not in devel:\n",
    "        return {\"message\": \"Mi base de datos no tiene registros de ese desarrollador\"}\n",
    "\n",
    "    # Obtenemos una lista de años únicos en el DataFrame\n",
    "    listaaños = df_EP1.año.unique()\n",
    "    \n",
    "    # Obtenemos una lista de desarrolladores únicos en el DataFrame\n",
    "    listadeveloper = df_EP1.developer.unique()\n",
    "    \n",
    "    # Creamos una lista vacía para almacenar los resultados buscados\n",
    "    lista = []\n",
    "    \n",
    "    # Comprobamos si el desarrollador proporcionado está en la lista de desarrolladores únicos\n",
    "    if desarrollador in listadeveloper:\n",
    "        # Iteramos sobre los años únicos\n",
    "        for años in listaaños:\n",
    "            # Contamos la cantidad total de elementos del desarrollador en el año actual\n",
    "            todo = len(df_EP1[(df_EP1.año == años) & (df_EP1.developer == desarrollador)])\n",
    "            \n",
    "            # Contamos la cantidad de elementos gratuitos del desarrollador en el año actual\n",
    "            cantidaditems = len(df_EP1[(df_EP1.price == 0) & (df_EP1.año == años) & (df_EP1.developer == desarrollador)])\n",
    "            \n",
    "            # Verificamos si hay elementos en el año actual o si hay elementos gratuitos para evitar divisiones por cero\n",
    "            if todo != 0 or cantidaditems != 0:\n",
    "                # Calculamos el porcentaje de elementos gratuitos respecto al total de elementos\n",
    "                porcentaje = f\"{round(cantidaditems*100/todo,2)}%\"\n",
    "                \n",
    "                # Añadimos los datos del año actual a la lista\n",
    "                lista.append([años,cantidaditems,porcentaje])\n",
    "            else:\n",
    "                pass\n",
    "    \n",
    "    # Creamos un DataFrame a partir de la lista de resultados\n",
    "    df = pd.DataFrame(lista, columns=[\"Año\", \"Cantidad de Items\", \"Contenido Free\"])\n",
    "    \n",
    "    # Agregamos un encabezado a las columnas del DataFrame\n",
    "    df.columns = [\"Año\", \"Cantidad de Items\", \"Contenido Free\"]\n",
    "    \n",
    "    # Ordenamos el DataFrame por año de forma descendente\n",
    "    df = df.sort_values(by='Año',ascending=False)\n",
    "    \n",
    "    # Devolvemos el DataFrame resultante\n",
    "    return df"
   ]
  },
  {
   "cell_type": "code",
   "execution_count": 4,
   "metadata": {},
   "outputs": [
    {
     "data": {
      "text/html": [
       "<div>\n",
       "<style scoped>\n",
       "    .dataframe tbody tr th:only-of-type {\n",
       "        vertical-align: middle;\n",
       "    }\n",
       "\n",
       "    .dataframe tbody tr th {\n",
       "        vertical-align: top;\n",
       "    }\n",
       "\n",
       "    .dataframe thead th {\n",
       "        text-align: right;\n",
       "    }\n",
       "</style>\n",
       "<table border=\"1\" class=\"dataframe\">\n",
       "  <thead>\n",
       "    <tr style=\"text-align: right;\">\n",
       "      <th></th>\n",
       "      <th>Año</th>\n",
       "      <th>Cantidad de Items</th>\n",
       "      <th>Contenido Free</th>\n",
       "    </tr>\n",
       "  </thead>\n",
       "  <tbody>\n",
       "    <tr>\n",
       "      <th>0</th>\n",
       "      <td>2015</td>\n",
       "      <td>676</td>\n",
       "      <td>24.9%</td>\n",
       "    </tr>\n",
       "    <tr>\n",
       "      <th>2</th>\n",
       "      <td>2014</td>\n",
       "      <td>1609</td>\n",
       "      <td>45.92%</td>\n",
       "    </tr>\n",
       "    <tr>\n",
       "      <th>3</th>\n",
       "      <td>2013</td>\n",
       "      <td>817</td>\n",
       "      <td>56.38%</td>\n",
       "    </tr>\n",
       "    <tr>\n",
       "      <th>4</th>\n",
       "      <td>2012</td>\n",
       "      <td>275</td>\n",
       "      <td>66.11%</td>\n",
       "    </tr>\n",
       "    <tr>\n",
       "      <th>1</th>\n",
       "      <td>2011</td>\n",
       "      <td>88</td>\n",
       "      <td>53.33%</td>\n",
       "    </tr>\n",
       "    <tr>\n",
       "      <th>5</th>\n",
       "      <td>2010</td>\n",
       "      <td>15</td>\n",
       "      <td>68.18%</td>\n",
       "    </tr>\n",
       "  </tbody>\n",
       "</table>\n",
       "</div>"
      ],
      "text/plain": [
       "    Año  Cantidad de Items Contenido Free\n",
       "0  2015                676          24.9%\n",
       "2  2014               1609         45.92%\n",
       "3  2013                817         56.38%\n",
       "4  2012                275         66.11%\n",
       "1  2011                 88         53.33%\n",
       "5  2010                 15         68.18%"
      ]
     },
     "execution_count": 4,
     "metadata": {},
     "output_type": "execute_result"
    }
   ],
   "source": [
    "developer('valve', df_EP1) # 'Valve', 'Trion Worlds', 'Cryptic Studios', 'Grey Havens',\n",
    "                                   #'Three Rings', 'Daybreak Game Company', 'Reloaded Productions',\n",
    "                                   #'Splash Damage', 'CCP', 'Nimbly Games', 'Team Chivalry',\n",
    "                                   #'PopCap Games, Inc.'otras empresas"
   ]
  },
  {
   "cell_type": "markdown",
   "metadata": {},
   "source": [
    "### EndPoint 2"
   ]
  },
  {
   "cell_type": "markdown",
   "metadata": {},
   "source": [
    "def userdata( User_id : str ): Debe devolver cantidad de dinero gastado por el usuario, el porcentaje de recomendación en base a reviews.recommend y cantidad de items."
   ]
  },
  {
   "cell_type": "code",
   "execution_count": 5,
   "metadata": {},
   "outputs": [
    {
     "data": {
      "text/html": [
       "<div>\n",
       "<style scoped>\n",
       "    .dataframe tbody tr th:only-of-type {\n",
       "        vertical-align: middle;\n",
       "    }\n",
       "\n",
       "    .dataframe tbody tr th {\n",
       "        vertical-align: top;\n",
       "    }\n",
       "\n",
       "    .dataframe thead th {\n",
       "        text-align: right;\n",
       "    }\n",
       "</style>\n",
       "<table border=\"1\" class=\"dataframe\">\n",
       "  <thead>\n",
       "    <tr style=\"text-align: right;\">\n",
       "      <th></th>\n",
       "      <th>price</th>\n",
       "      <th>item_id</th>\n",
       "      <th>recommend</th>\n",
       "      <th>user_id</th>\n",
       "    </tr>\n",
       "  </thead>\n",
       "  <tbody>\n",
       "    <tr>\n",
       "      <th>0</th>\n",
       "      <td>9.99</td>\n",
       "      <td>70</td>\n",
       "      <td>1</td>\n",
       "      <td>eizanaratofujimaki</td>\n",
       "    </tr>\n",
       "    <tr>\n",
       "      <th>1</th>\n",
       "      <td>9.99</td>\n",
       "      <td>70</td>\n",
       "      <td>1</td>\n",
       "      <td>gamerfag</td>\n",
       "    </tr>\n",
       "    <tr>\n",
       "      <th>2</th>\n",
       "      <td>9.99</td>\n",
       "      <td>70</td>\n",
       "      <td>1</td>\n",
       "      <td>76561198020928326</td>\n",
       "    </tr>\n",
       "    <tr>\n",
       "      <th>3</th>\n",
       "      <td>9.99</td>\n",
       "      <td>70</td>\n",
       "      <td>1</td>\n",
       "      <td>bluegills</td>\n",
       "    </tr>\n",
       "    <tr>\n",
       "      <th>4</th>\n",
       "      <td>9.99</td>\n",
       "      <td>70</td>\n",
       "      <td>1</td>\n",
       "      <td>76561198071955492</td>\n",
       "    </tr>\n",
       "  </tbody>\n",
       "</table>\n",
       "</div>"
      ],
      "text/plain": [
       "   price  item_id  recommend             user_id\n",
       "0   9.99       70          1  eizanaratofujimaki\n",
       "1   9.99       70          1            gamerfag\n",
       "2   9.99       70          1   76561198020928326\n",
       "3   9.99       70          1           bluegills\n",
       "4   9.99       70          1   76561198071955492"
      ]
     },
     "execution_count": 5,
     "metadata": {},
     "output_type": "execute_result"
    }
   ],
   "source": [
    "#Leemos el archivo reviews.parquet en un DataFrame\n",
    "df_EP2 = pq.read_table(\"../0-DATA/2User_id.parquet\").to_pandas()\n",
    "df_EP2.head(5)"
   ]
  },
  {
   "cell_type": "code",
   "execution_count": 6,
   "metadata": {},
   "outputs": [],
   "source": [
    "def userdata(usuario: str, df_EP2: pd.DataFrame):\n",
    "    # Convertimos el nombre del usuario a minúsculas para evitar errores de coincidencia de mayúsculas y minúsculas\n",
    "    usuario = usuario.lower()\n",
    "    \n",
    "    # Obtenemos la lista única de IDs de usuario en el DataFrame proporcionado\n",
    "    user = df_EP2.user_id.unique()\n",
    "    \n",
    "    # Comprobamos si el usuario proporcionado está en la lista de IDs de usuario del DataFrame\n",
    "    if usuario not in user:\n",
    "        return {\"message\": \"Mi base de datos no tiene registros de ese usuario\"}\n",
    "    \n",
    "    # Obtenemos una lista de IDs de usuario únicos en el DataFrame\n",
    "    lista = df_EP2.user_id.unique()\n",
    "    \n",
    "    # Filtramos el DataFrame para obtener los datos del usuario proporcionado\n",
    "    dfusuario = df_EP2[df_EP2.user_id == usuario]\n",
    "    \n",
    "    # Calculamos la cantidad total de dinero gastado por el usuario\n",
    "    maneyuser = f\"{round(dfusuario.price.sum(), 2)} USD\"\n",
    "    \n",
    "    # Calculamos el porcentaje de recomendación del usuario (porcentaje de recomendaciones positivas)\n",
    "    recomend = f\"{int(len(dfusuario[dfusuario.recommend == 1]) * 100 / len(dfusuario))}%\"\n",
    "    \n",
    "    # Contamos la cantidad total de elementos que tiene el usuario\n",
    "    itemss = len(dfusuario)\n",
    "    \n",
    "    # Creamos un diccionario con la información del usuario\n",
    "    data = {\"User\": usuario, \n",
    "            \"Dinero gastado\": maneyuser, \n",
    "            \"% de recomendación\": recomend, \n",
    "            \"cantidad de items\": itemss}\n",
    "    \n",
    "    # Devolvemos el diccionario con la información del usuario\n",
    "    return data \n"
   ]
  },
  {
   "cell_type": "code",
   "execution_count": 9,
   "metadata": {},
   "outputs": [
    {
     "data": {
      "text/plain": [
       "{'User': 'eizanaratofujimaki',\n",
       " 'Dinero gastado': '9.99 USD',\n",
       " '% de recomendación': '100%',\n",
       " 'cantidad de items': 1}"
      ]
     },
     "execution_count": 9,
     "metadata": {},
     "output_type": "execute_result"
    }
   ],
   "source": [
    "userdata('eizanAratoFujimaki', df_EP2)#'EizanAratoFujimaki', 'GamerFag', '76561198020928326', 'Bluegills',\n",
    "                            #'76561198071955492', 'digfernandes', '76561197970812298',\n",
    "                            #'meeeedie', 'phrostb', 'KewlKatzz', 'TheRealMeatyMate',\n",
    "                            #'Auditore70', 'voaDs', '76561198060319088', '76561198085571748' u otros usuarios"
   ]
  },
  {
   "cell_type": "markdown",
   "metadata": {},
   "source": [
    "### EndPoint 3"
   ]
  },
  {
   "cell_type": "markdown",
   "metadata": {},
   "source": [
    "def UserForGenre( genero : str ): Debe devolver el usuario que acumula más horas jugadas para el género dado y una lista de la acumulación de horas jugadas por año de lanzamiento."
   ]
  },
  {
   "cell_type": "code",
   "execution_count": 10,
   "metadata": {},
   "outputs": [
    {
     "data": {
      "text/html": [
       "<div>\n",
       "<style scoped>\n",
       "    .dataframe tbody tr th:only-of-type {\n",
       "        vertical-align: middle;\n",
       "    }\n",
       "\n",
       "    .dataframe tbody tr th {\n",
       "        vertical-align: top;\n",
       "    }\n",
       "\n",
       "    .dataframe thead th {\n",
       "        text-align: right;\n",
       "    }\n",
       "</style>\n",
       "<table border=\"1\" class=\"dataframe\">\n",
       "  <thead>\n",
       "    <tr style=\"text-align: right;\">\n",
       "      <th></th>\n",
       "      <th>genres_clean</th>\n",
       "      <th>user_id</th>\n",
       "      <th>año</th>\n",
       "      <th>playtime_hours</th>\n",
       "    </tr>\n",
       "  </thead>\n",
       "  <tbody>\n",
       "    <tr>\n",
       "      <th>0</th>\n",
       "      <td>action</td>\n",
       "      <td>EizanAratoFujimaki</td>\n",
       "      <td>2015</td>\n",
       "      <td>23.25</td>\n",
       "    </tr>\n",
       "    <tr>\n",
       "      <th>1</th>\n",
       "      <td>action</td>\n",
       "      <td>GamerFag</td>\n",
       "      <td>2011</td>\n",
       "      <td>9.83</td>\n",
       "    </tr>\n",
       "    <tr>\n",
       "      <th>2</th>\n",
       "      <td>action</td>\n",
       "      <td>76561198020928326</td>\n",
       "      <td>2014</td>\n",
       "      <td>93.32</td>\n",
       "    </tr>\n",
       "    <tr>\n",
       "      <th>3</th>\n",
       "      <td>action</td>\n",
       "      <td>Bluegills</td>\n",
       "      <td>2013</td>\n",
       "      <td>1.07</td>\n",
       "    </tr>\n",
       "    <tr>\n",
       "      <th>4</th>\n",
       "      <td>action</td>\n",
       "      <td>76561198071955492</td>\n",
       "      <td>2013</td>\n",
       "      <td>53.92</td>\n",
       "    </tr>\n",
       "  </tbody>\n",
       "</table>\n",
       "</div>"
      ],
      "text/plain": [
       "  genres_clean             user_id   año  playtime_hours\n",
       "0       action  EizanAratoFujimaki  2015           23.25\n",
       "1       action            GamerFag  2011            9.83\n",
       "2       action   76561198020928326  2014           93.32\n",
       "3       action           Bluegills  2013            1.07\n",
       "4       action   76561198071955492  2013           53.92"
      ]
     },
     "execution_count": 10,
     "metadata": {},
     "output_type": "execute_result"
    }
   ],
   "source": [
    "#Leemos el archivo reviews.parquet en un DataFrame\n",
    "df_EP3 = pq.read_table(\"../0-DATA/3genero.parquet\").to_pandas()\n",
    "df_EP3.head(5)"
   ]
  },
  {
   "cell_type": "code",
   "execution_count": 11,
   "metadata": {},
   "outputs": [],
   "source": [
    "def UserForGenre(genero: str):\n",
    "    # Convertimos la primera letra del género en mayúscula y el resto en minúscula\n",
    "    generoO = genero.capitalize()\n",
    "    genero = genero.lower()\n",
    "    \n",
    "    # Obtenemos la lista de géneros únicos en el DataFrame\n",
    "    gender = df_EP3.genres_clean.unique()\n",
    "    \n",
    "    # Comprobamos si el género proporcionado está en la lista de géneros del DataFrame\n",
    "    if genero not in gender:\n",
    "        return {\"message\": \"Mi base de datos no tiene registros de ese genero\"}\n",
    "\n",
    "    # Obtenemos la lista de años únicos en el DataFrame\n",
    "    años = df_EP3.año.unique()\n",
    "    \n",
    "    # Inicializamos las variables para almacenar al usuario con más horas jugadas y las horas totales\n",
    "    usuario_total = None\n",
    "    horas_totales_usuario = 0\n",
    "    user_data = []\n",
    "\n",
    "    # Iteramos sobre los años únicos\n",
    "    for añi in años:\n",
    "        # Filtramos los datos para el género específico y el año actual\n",
    "        df_genero = df_EP3[(df_EP3.genres_clean == genero) & (df_EP3.año == añi)]\n",
    "\n",
    "        # Encontramos el usuario con más horas de juego\n",
    "        if not df_genero.empty:\n",
    "            usuario = df_genero.groupby('user_id')[\"playtime_hours\"].sum().idxmax()\n",
    "            horasT = df_genero[df_genero.user_id == usuario][\"playtime_hours\"].sum()\n",
    "\n",
    "            # Actualizamos el usuario total si es necesario\n",
    "            if horasT > horas_totales_usuario:\n",
    "                usuario_total = usuario\n",
    "                horas_totales_usuario = horasT\n",
    "\n",
    "            # Añadimos los datos para este año a la lista\n",
    "            user_data.append({\"Año\": añi, \"Horas\": horasT})\n",
    "        else:\n",
    "            # No se encontraron datos para este año, añadimos un diccionario con horas igual a cero\n",
    "            user_data.append({\"Año\": añi, \"Horas\": 0})\n",
    "\n",
    "    # Creamos un diccionario de respuesta con el usuario con más horas jugadas y las horas jugadas por año\n",
    "    respuesta = {\n",
    "        \"Usuario con más horas jugadas para Género --> \" + generoO: usuario_total,\n",
    "        \"Horas jugadas\": user_data,\n",
    "    }\n",
    "\n",
    "    # Devolvemos la respuesta\n",
    "    return respuesta\n"
   ]
  },
  {
   "cell_type": "code",
   "execution_count": 14,
   "metadata": {},
   "outputs": [
    {
     "data": {
      "text/plain": [
       "{'Usuario con más horas jugadas para Género --> Action': 'shinomegami',\n",
       " 'Horas jugadas': [{'Año': 2015, 'Horas': 8848.03},\n",
       "  {'Año': 2011, 'Horas': 2247.96},\n",
       "  {'Año': 2014, 'Horas': 7107.580000000001},\n",
       "  {'Año': 2013, 'Horas': 6042.35},\n",
       "  {'Año': 2012, 'Horas': 3545.17},\n",
       "  {'Año': 2010, 'Horas': 834.57}]}"
      ]
     },
     "execution_count": 14,
     "metadata": {},
     "output_type": "execute_result"
    }
   ],
   "source": [
    "UserForGenre('action')#'Action', 'Indie', 'Racing', 'Strategy', 'Casual', 'Simulation',\n",
    "        #'Adventure', 'RPG', 'Sports', 'Free to Play',\n",
    "        #'Animation &amp; Modeling', 'Utilities', 'Massively Multiplayer',\n",
    "        #'Design &amp; Illustration', 'Video Production'"
   ]
  },
  {
   "cell_type": "markdown",
   "metadata": {},
   "source": [
    "### Pregunnta 4"
   ]
  },
  {
   "cell_type": "markdown",
   "metadata": {},
   "source": [
    "def best_developer_year( año : int ): Devuelve el top 3 de desarrolladores con juegos MÁS recomendados por usuarios para el año dado. (reviews.recommend = True y comentarios positivos)"
   ]
  },
  {
   "cell_type": "code",
   "execution_count": 15,
   "metadata": {},
   "outputs": [
    {
     "data": {
      "text/html": [
       "<div>\n",
       "<style scoped>\n",
       "    .dataframe tbody tr th:only-of-type {\n",
       "        vertical-align: middle;\n",
       "    }\n",
       "\n",
       "    .dataframe tbody tr th {\n",
       "        vertical-align: top;\n",
       "    }\n",
       "\n",
       "    .dataframe thead th {\n",
       "        text-align: right;\n",
       "    }\n",
       "</style>\n",
       "<table border=\"1\" class=\"dataframe\">\n",
       "  <thead>\n",
       "    <tr style=\"text-align: right;\">\n",
       "      <th></th>\n",
       "      <th>developer</th>\n",
       "      <th>recommend</th>\n",
       "      <th>user_id</th>\n",
       "      <th>sentiment_analysis</th>\n",
       "      <th>año</th>\n",
       "    </tr>\n",
       "  </thead>\n",
       "  <tbody>\n",
       "    <tr>\n",
       "      <th>0</th>\n",
       "      <td>Valve</td>\n",
       "      <td>1</td>\n",
       "      <td>EizanAratoFujimaki</td>\n",
       "      <td>1</td>\n",
       "      <td>2015</td>\n",
       "    </tr>\n",
       "    <tr>\n",
       "      <th>1</th>\n",
       "      <td>Valve</td>\n",
       "      <td>1</td>\n",
       "      <td>GamerFag</td>\n",
       "      <td>0</td>\n",
       "      <td>2011</td>\n",
       "    </tr>\n",
       "    <tr>\n",
       "      <th>2</th>\n",
       "      <td>Valve</td>\n",
       "      <td>1</td>\n",
       "      <td>76561198020928326</td>\n",
       "      <td>1</td>\n",
       "      <td>2014</td>\n",
       "    </tr>\n",
       "    <tr>\n",
       "      <th>3</th>\n",
       "      <td>Valve</td>\n",
       "      <td>1</td>\n",
       "      <td>Bluegills</td>\n",
       "      <td>2</td>\n",
       "      <td>2013</td>\n",
       "    </tr>\n",
       "    <tr>\n",
       "      <th>4</th>\n",
       "      <td>Valve</td>\n",
       "      <td>1</td>\n",
       "      <td>76561198071955492</td>\n",
       "      <td>2</td>\n",
       "      <td>2013</td>\n",
       "    </tr>\n",
       "  </tbody>\n",
       "</table>\n",
       "</div>"
      ],
      "text/plain": [
       "  developer  recommend             user_id  sentiment_analysis   año\n",
       "0     Valve          1  EizanAratoFujimaki                   1  2015\n",
       "1     Valve          1            GamerFag                   0  2011\n",
       "2     Valve          1   76561198020928326                   1  2014\n",
       "3     Valve          1           Bluegills                   2  2013\n",
       "4     Valve          1   76561198071955492                   2  2013"
      ]
     },
     "execution_count": 15,
     "metadata": {},
     "output_type": "execute_result"
    }
   ],
   "source": [
    "#Leemos el archivo reviews.parquet en un DataFrame\n",
    "df_EP4 = pq.read_table(\"../0-DATA/4año.parquet\").to_pandas()\n",
    "df_EP4.head(5)"
   ]
  },
  {
   "cell_type": "code",
   "execution_count": 16,
   "metadata": {},
   "outputs": [],
   "source": [
    "def best_developer_year(year: int, df_EP4: pd.DataFrame):\n",
    "    # Definimos el rango de años aceptado en la base de datos\n",
    "    rango_aceptado = range(2010, 2016)\n",
    "    \n",
    "    # Comprobamos si el año proporcionado está dentro del rango aceptado\n",
    "    if year not in rango_aceptado:\n",
    "        return {\"message\": \"Mi base de datos solo tiene registros entre 2010 y 2015\"}\n",
    "    \n",
    "    # Filtramos los datos para obtener las recomendaciones positivas y el análisis de sentimientos igual a 2 para el año proporcionado\n",
    "    recom = df_EP4[(df_EP4.recommend == 1) & (df_EP4.sentiment_analysis == 2) & (df_EP4.año == year)]\n",
    "    \n",
    "    # Agrupamos por desarrollador y contamos las recomendaciones para cada uno\n",
    "    developer_recommendations = recom.groupby(\"developer\")[\"recommend\"].sum()\n",
    "    \n",
    "    # Obtenemos los 3 mejores desarrolladores con más recomendaciones\n",
    "    top_3_developers = developer_recommendations.nlargest(3)\n",
    "\n",
    "    # Creamos una lista para almacenar los 3 mejores desarrolladores\n",
    "    top_developers_list = []\n",
    "    \n",
    "    # Iteramos sobre los 3 mejores desarrolladores y su cantidad de recomendaciones\n",
    "    for rank, (developer, count) in enumerate(top_3_developers.items(), start=1):\n",
    "        # Añadimos el desarrollador y su puesto a la lista\n",
    "        top_developers_list.append({\"Puesto \" + str(rank): developer})\n",
    "\n",
    "    # Devolvemos la lista de los 3 mejores desarrolladores\n",
    "    return top_developers_list\n",
    "\n"
   ]
  },
  {
   "cell_type": "code",
   "execution_count": 19,
   "metadata": {},
   "outputs": [
    {
     "data": {
      "text/plain": [
       "[{'Puesto 1': 'Valve'},\n",
       " {'Puesto 2': 'Facepunch Studios'},\n",
       " {'Puesto 3': 'Smartly Dressed Games'}]"
      ]
     },
     "execution_count": 19,
     "metadata": {},
     "output_type": "execute_result"
    }
   ],
   "source": [
    "best_developer_year(2015, df_EP4) # 2010,2011,2012,2013,2014,2015"
   ]
  },
  {
   "cell_type": "markdown",
   "metadata": {},
   "source": [
    "### Pregunta 5"
   ]
  },
  {
   "cell_type": "markdown",
   "metadata": {},
   "source": [
    "def developer_reviews_analysis( desarrolladora : str ): Según el desarrollador, se devuelve un diccionario con el nombre del desarrollador como llave y una lista con la cantidad total de registros de reseñas de usuarios que se encuentren categorizados con un análisis de sentimiento como valor positivo o negativo."
   ]
  },
  {
   "cell_type": "code",
   "execution_count": 20,
   "metadata": {},
   "outputs": [
    {
     "data": {
      "text/html": [
       "<div>\n",
       "<style scoped>\n",
       "    .dataframe tbody tr th:only-of-type {\n",
       "        vertical-align: middle;\n",
       "    }\n",
       "\n",
       "    .dataframe tbody tr th {\n",
       "        vertical-align: top;\n",
       "    }\n",
       "\n",
       "    .dataframe thead th {\n",
       "        text-align: right;\n",
       "    }\n",
       "</style>\n",
       "<table border=\"1\" class=\"dataframe\">\n",
       "  <thead>\n",
       "    <tr style=\"text-align: right;\">\n",
       "      <th></th>\n",
       "      <th>developer</th>\n",
       "      <th>sentiment_analysis</th>\n",
       "    </tr>\n",
       "  </thead>\n",
       "  <tbody>\n",
       "    <tr>\n",
       "      <th>0</th>\n",
       "      <td>valve</td>\n",
       "      <td>1</td>\n",
       "    </tr>\n",
       "    <tr>\n",
       "      <th>1</th>\n",
       "      <td>valve</td>\n",
       "      <td>0</td>\n",
       "    </tr>\n",
       "    <tr>\n",
       "      <th>2</th>\n",
       "      <td>valve</td>\n",
       "      <td>1</td>\n",
       "    </tr>\n",
       "    <tr>\n",
       "      <th>3</th>\n",
       "      <td>valve</td>\n",
       "      <td>2</td>\n",
       "    </tr>\n",
       "    <tr>\n",
       "      <th>4</th>\n",
       "      <td>valve</td>\n",
       "      <td>2</td>\n",
       "    </tr>\n",
       "  </tbody>\n",
       "</table>\n",
       "</div>"
      ],
      "text/plain": [
       "  developer  sentiment_analysis\n",
       "0     valve                   1\n",
       "1     valve                   0\n",
       "2     valve                   1\n",
       "3     valve                   2\n",
       "4     valve                   2"
      ]
     },
     "execution_count": 20,
     "metadata": {},
     "output_type": "execute_result"
    }
   ],
   "source": [
    "#Leemos el archivo reviews.parquet en un DataFrame\n",
    "df_EP5 = pq.read_table(\"../0-DATA/5desarrolladora.parquet\").to_pandas()\n",
    "df_EP5.head(5)"
   ]
  },
  {
   "cell_type": "code",
   "execution_count": 21,
   "metadata": {},
   "outputs": [],
   "source": [
    "def developer_reviews_analysis(desarrolladora: str, df_EP5: pd.DataFrame):\n",
    "    # Convertimos el nombre de la desarrolladora a minúsculas para evitar errores de coincidencia de mayúsculas y minúsculas\n",
    "    desarrolladora = desarrolladora.lower()\n",
    "    \n",
    "    # Obtenemos la lista única de desarrolladoras en el DataFrame proporcionado\n",
    "    develo = df_EP1.developer.unique()\n",
    "    \n",
    "    # Comprobamos si la desarrolladora proporcionada está en la lista de desarrolladoras del DataFrame\n",
    "    if desarrolladora not in develo:\n",
    "        return {\"message\": \"Mi base de datos no tiene registros de ese desarrollador\"}\n",
    "    \n",
    "    # Filtramos el DataFrame para obtener solo las reseñas de la desarrolladora proporcionada\n",
    "    df_filt_developer = df_EP5[(df_EP5['developer'] == desarrolladora) & (df_EP5['sentiment_analysis'] != 1)]\n",
    "    \n",
    "    # Verificamos si hay datos para la desarrolladora proporcionada\n",
    "    if not df_filt_developer.empty:\n",
    "        # Contamos los diferentes sentimientos y mapeamos el número del sentimiento a su etiqueta correspondiente\n",
    "        sentiment_counts = df_filt_developer['sentiment_analysis'].value_counts()\n",
    "        sentiment_mapping = {0: 'Negative', 2: 'Positive'}\n",
    "        sentiment_counts.index = sentiment_counts.index.map(sentiment_mapping)\n",
    "        \n",
    "        # Creamos un diccionario con el nombre de la desarrolladora y los recuentos de sentimientos\n",
    "        result = {desarrolladora: sentiment_counts.to_dict()}\n",
    "    else:\n",
    "        result = 'No cuento con los registros de esa empresa en mi base de datos'\n",
    "\n",
    "    # Devolvemos el resultado\n",
    "    return result\n"
   ]
  },
  {
   "cell_type": "code",
   "execution_count": 24,
   "metadata": {},
   "outputs": [
    {
     "data": {
      "text/plain": [
       "{'funcom': {'Positive': 5}}"
      ]
     },
     "execution_count": 24,
     "metadata": {},
     "output_type": "execute_result"
    }
   ],
   "source": [
    "developer_reviews_analysis('fUncom',df_EP5) #'Valve', 'Outerlight Ltd.', 'GlyphX Games',\n",
    "                            #'Introversion Software', 'Facepunch Studios',\n",
    "                            #'Bugbear Entertainment', 'Funcom',\n",
    "                            #'Firaxis Games,Feral Interactive (Mac)',\n",
    "                            #'Crystal Dynamics,Feral Interactive (Mac)', 'CAPCOM Co., Ltd.',\n",
    "                            #'id Software', 'Gray Matter Studios', '2K Boston,2K Australia',\n",
    "                            #'Relic Entertainment', 'The Creative Assembly'"
   ]
  }
 ],
 "metadata": {
  "kernelspec": {
   "display_name": "base",
   "language": "python",
   "name": "python3"
  },
  "language_info": {
   "codemirror_mode": {
    "name": "ipython",
    "version": 3
   },
   "file_extension": ".py",
   "mimetype": "text/x-python",
   "name": "python",
   "nbconvert_exporter": "python",
   "pygments_lexer": "ipython3",
   "version": "3.9.7"
  }
 },
 "nbformat": 4,
 "nbformat_minor": 2
}
