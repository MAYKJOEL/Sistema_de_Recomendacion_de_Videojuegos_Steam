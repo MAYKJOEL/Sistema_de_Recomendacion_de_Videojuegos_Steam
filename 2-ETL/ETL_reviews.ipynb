{
 "cells": [
  {
   "cell_type": "markdown",
   "metadata": {},
   "source": [
    "### ETL\n",
    "El proceso ETL es un paso crucial para preparar los datos para su análisis. Al **extraer, transformar y cargar** los datos de forma adecuada, se obtienen datos de mejor calidad y se facilita la obtención de información valiosa a partir de ellos."
   ]
  },
  {
   "cell_type": "markdown",
   "metadata": {},
   "source": [
    "### Importamos librerías"
   ]
  },
  {
   "cell_type": "markdown",
   "metadata": {},
   "source": [
    "Comienza instalando solo las librerías que necesitas para empezar tu proyecto."
   ]
  },
  {
   "cell_type": "code",
   "execution_count": 1,
   "metadata": {},
   "outputs": [],
   "source": [
    "import pandas as pd\n",
    "import pyarrow.parquet as pq\n",
    "from textblob import TextBlob\n",
    "import pyarrow as pa\n",
    "from nltk.sentiment import SentimentIntensityAnalyzer"
   ]
  },
  {
   "cell_type": "markdown",
   "metadata": {},
   "source": [
    "### La lectura de datos "
   ]
  },
  {
   "cell_type": "markdown",
   "metadata": {},
   "source": [
    "Lectura del archivo **australian_user_reviews.parquet**"
   ]
  },
  {
   "cell_type": "code",
   "execution_count": 2,
   "metadata": {},
   "outputs": [],
   "source": [
    "#la siguiente línea de código lee el archivo australian_user_reviews.parquet y lo convierte en un DataFrame de Pandas\n",
    "reviews = pq.read_table(\"../0-DATA/australian_user_reviews.parquet\").to_pandas()"
   ]
  },
  {
   "cell_type": "code",
   "execution_count": 4,
   "metadata": {},
   "outputs": [
    {
     "data": {
      "text/html": [
       "<div>\n",
       "<style scoped>\n",
       "    .dataframe tbody tr th:only-of-type {\n",
       "        vertical-align: middle;\n",
       "    }\n",
       "\n",
       "    .dataframe tbody tr th {\n",
       "        vertical-align: top;\n",
       "    }\n",
       "\n",
       "    .dataframe thead th {\n",
       "        text-align: right;\n",
       "    }\n",
       "</style>\n",
       "<table border=\"1\" class=\"dataframe\">\n",
       "  <thead>\n",
       "    <tr style=\"text-align: right;\">\n",
       "      <th></th>\n",
       "      <th>funny</th>\n",
       "      <th>posted</th>\n",
       "      <th>last_edited</th>\n",
       "      <th>item_id</th>\n",
       "      <th>helpful</th>\n",
       "      <th>recommend</th>\n",
       "      <th>review</th>\n",
       "      <th>user_id</th>\n",
       "      <th>user_url</th>\n",
       "    </tr>\n",
       "  </thead>\n",
       "  <tbody>\n",
       "    <tr>\n",
       "      <th>0</th>\n",
       "      <td>None</td>\n",
       "      <td>Posted November 5, 2011.</td>\n",
       "      <td>None</td>\n",
       "      <td>1250</td>\n",
       "      <td>No ratings yet</td>\n",
       "      <td>True</td>\n",
       "      <td>Simple yet with great replayability. In my opi...</td>\n",
       "      <td>76561197970982479</td>\n",
       "      <td>http://steamcommunity.com/profiles/76561197970...</td>\n",
       "    </tr>\n",
       "    <tr>\n",
       "      <th>1</th>\n",
       "      <td>None</td>\n",
       "      <td>Posted July 15, 2011.</td>\n",
       "      <td>None</td>\n",
       "      <td>22200</td>\n",
       "      <td>No ratings yet</td>\n",
       "      <td>True</td>\n",
       "      <td>It's unique and worth a playthrough.</td>\n",
       "      <td>76561197970982479</td>\n",
       "      <td>http://steamcommunity.com/profiles/76561197970...</td>\n",
       "    </tr>\n",
       "    <tr>\n",
       "      <th>2</th>\n",
       "      <td>None</td>\n",
       "      <td>Posted April 21, 2011.</td>\n",
       "      <td>None</td>\n",
       "      <td>43110</td>\n",
       "      <td>No ratings yet</td>\n",
       "      <td>True</td>\n",
       "      <td>Great atmosphere. The gunplay can be a bit chu...</td>\n",
       "      <td>76561197970982479</td>\n",
       "      <td>http://steamcommunity.com/profiles/76561197970...</td>\n",
       "    </tr>\n",
       "  </tbody>\n",
       "</table>\n",
       "</div>"
      ],
      "text/plain": [
       "  funny                    posted last_edited  item_id         helpful  \\\n",
       "0  None  Posted November 5, 2011.        None     1250  No ratings yet   \n",
       "1  None     Posted July 15, 2011.        None    22200  No ratings yet   \n",
       "2  None    Posted April 21, 2011.        None    43110  No ratings yet   \n",
       "\n",
       "   recommend                                             review  \\\n",
       "0       True  Simple yet with great replayability. In my opi...   \n",
       "1       True               It's unique and worth a playthrough.   \n",
       "2       True  Great atmosphere. The gunplay can be a bit chu...   \n",
       "\n",
       "             user_id                                           user_url  \n",
       "0  76561197970982479  http://steamcommunity.com/profiles/76561197970...  \n",
       "1  76561197970982479  http://steamcommunity.com/profiles/76561197970...  \n",
       "2  76561197970982479  http://steamcommunity.com/profiles/76561197970...  "
      ]
     },
     "execution_count": 4,
     "metadata": {},
     "output_type": "execute_result"
    }
   ],
   "source": [
    "#presentación en un DataFrame los datos, analizamos como está estructurado nuestros datos.\n",
    "reviews.head(3)"
   ]
  },
  {
   "cell_type": "code",
   "execution_count": 7,
   "metadata": {},
   "outputs": [
    {
     "name": "stdout",
     "output_type": "stream",
     "text": [
      "<class 'pandas.core.frame.DataFrame'>\n",
      "RangeIndex: 59305 entries, 0 to 59304\n",
      "Data columns (total 9 columns):\n",
      " #   Column       Non-Null Count  Dtype \n",
      "---  ------       --------------  ----- \n",
      " 0   funny        8151 non-null   object\n",
      " 1   posted       59305 non-null  object\n",
      " 2   last_edited  6140 non-null   object\n",
      " 3   item_id      59305 non-null  int64 \n",
      " 4   helpful      59305 non-null  object\n",
      " 5   recommend    59305 non-null  bool  \n",
      " 6   review       59275 non-null  object\n",
      " 7   user_id      59305 non-null  object\n",
      " 8   user_url     59305 non-null  object\n",
      "dtypes: bool(1), int64(1), object(7)\n",
      "memory usage: 3.7+ MB\n"
     ]
    }
   ],
   "source": [
    "#aplicamos el método .info() para ver la información a detalle estructuralmente de nuestros datos\n",
    "reviews.info()# podemos visualizar que tenemos 59305  filas con 9 columnas, y cada columna tiene valores 'nulos'"
   ]
  },
  {
   "cell_type": "markdown",
   "metadata": {},
   "source": [
    "### Transformación de nuestros Datos"
   ]
  },
  {
   "cell_type": "markdown",
   "metadata": {},
   "source": [
    "Eliminación de valores duplicados"
   ]
  },
  {
   "cell_type": "code",
   "execution_count": 8,
   "metadata": {},
   "outputs": [
    {
     "data": {
      "text/plain": [
       "(874, 9)"
      ]
     },
     "execution_count": 8,
     "metadata": {},
     "output_type": "execute_result"
    }
   ],
   "source": [
    "# analizaremos si tenemos filas duplicadas\n",
    "duplicados = reviews.loc[reviews.duplicated()]#con un filtro visualizamos donde están solo las filas duplicadas\n",
    "duplicados.shape #874 filas duplicadas"
   ]
  },
  {
   "cell_type": "code",
   "execution_count": 9,
   "metadata": {},
   "outputs": [
    {
     "data": {
      "text/plain": [
       "(58431, 9)"
      ]
     },
     "execution_count": 9,
     "metadata": {},
     "output_type": "execute_result"
    }
   ],
   "source": [
    "#Eliminamos solo las filas duplicadas, el 1.41% del total de nuestra información\n",
    "reviews = reviews.drop_duplicates(keep='first')\n",
    "reviews.shape"
   ]
  },
  {
   "cell_type": "markdown",
   "metadata": {},
   "source": [
    "Analizamos ahora si existen valores nullos"
   ]
  },
  {
   "cell_type": "code",
   "execution_count": 10,
   "metadata": {},
   "outputs": [
    {
     "data": {
      "text/plain": [
       "funny          50421\n",
       "posted             0\n",
       "last_edited    52394\n",
       "item_id            0\n",
       "helpful            0\n",
       "recommend          0\n",
       "review            30\n",
       "user_id            0\n",
       "user_url           0\n",
       "dtype: int64"
      ]
     },
     "execution_count": 10,
     "metadata": {},
     "output_type": "execute_result"
    }
   ],
   "source": [
    "nulos = reviews.isnull().sum() # podemos ver que las columnas 'funny' y 'last_edited', casi en su totalidad son valores nulos\n",
    "nulos"
   ]
  },
  {
   "cell_type": "markdown",
   "metadata": {},
   "source": [
    "Eliminando valores nulos de la columna 'review'"
   ]
  },
  {
   "cell_type": "code",
   "execution_count": 11,
   "metadata": {},
   "outputs": [],
   "source": [
    "# Eliminamos 30 filas, porcentaje ínfimo ni el 0.001%\n",
    "reviews = reviews.dropna(subset=['review'])# que elimine solo valores nulos de la columna 'review'"
   ]
  },
  {
   "cell_type": "markdown",
   "metadata": {},
   "source": [
    "Analizando columnas antes de eliminarlas"
   ]
  },
  {
   "cell_type": "code",
   "execution_count": 13,
   "metadata": {},
   "outputs": [
    {
     "data": {
      "text/plain": [
       "array([  1250,  22200,  43110, ..., 220090, 262850, 431510], dtype=int64)"
      ]
     },
     "execution_count": 13,
     "metadata": {},
     "output_type": "execute_result"
    }
   ],
   "source": [
    "#antes de eliminar más filas analizaremos los detalles de nuestra data por columnas y precederemos según análisis\n",
    "reviews[\"item_id\"].unique() # no tiene valores nulos\n",
    "#reviews[\"recommend\"].unique() # no tiene valores nulos\n",
    "#reviews[\"user_id\"].unique() # no tiene valores nulos\n",
    "#reviews[\"posted\"].unique() # no tiene valores nulos\n",
    "#reviews[\"review\"].unique() # comentarios para el análisis de sentimiento\n",
    "#reviews[\"funny\"].unique() # --> eliminar ya que tiene 50421 nulos (87% del total de la data), además que tenemos la columna recommend que aporta mucho mas valor y sin nulos\n",
    "#reviews[\"last_edited\"].unique() # --> eliminar por la cantidad de nulos 52391 (90% del total)\n",
    "#reviews[\"helpful\"].unique() # --> eliminar, 51% no tiene rating, además que no es prescindible para nuestros endpoints\n",
    "#reviews[\"user_url\"].unique() # --> eliminar, estos links no es de importancia para nuestro modelo"
   ]
  },
  {
   "cell_type": "code",
   "execution_count": 15,
   "metadata": {},
   "outputs": [
    {
     "data": {
      "text/html": [
       "<div>\n",
       "<style scoped>\n",
       "    .dataframe tbody tr th:only-of-type {\n",
       "        vertical-align: middle;\n",
       "    }\n",
       "\n",
       "    .dataframe tbody tr th {\n",
       "        vertical-align: top;\n",
       "    }\n",
       "\n",
       "    .dataframe thead th {\n",
       "        text-align: right;\n",
       "    }\n",
       "</style>\n",
       "<table border=\"1\" class=\"dataframe\">\n",
       "  <thead>\n",
       "    <tr style=\"text-align: right;\">\n",
       "      <th></th>\n",
       "      <th>posted</th>\n",
       "      <th>item_id</th>\n",
       "      <th>recommend</th>\n",
       "      <th>review</th>\n",
       "      <th>user_id</th>\n",
       "    </tr>\n",
       "  </thead>\n",
       "  <tbody>\n",
       "    <tr>\n",
       "      <th>0</th>\n",
       "      <td>Posted November 5, 2011.</td>\n",
       "      <td>1250</td>\n",
       "      <td>True</td>\n",
       "      <td>Simple yet with great replayability. In my opi...</td>\n",
       "      <td>76561197970982479</td>\n",
       "    </tr>\n",
       "    <tr>\n",
       "      <th>1</th>\n",
       "      <td>Posted July 15, 2011.</td>\n",
       "      <td>22200</td>\n",
       "      <td>True</td>\n",
       "      <td>It's unique and worth a playthrough.</td>\n",
       "      <td>76561197970982479</td>\n",
       "    </tr>\n",
       "    <tr>\n",
       "      <th>2</th>\n",
       "      <td>Posted April 21, 2011.</td>\n",
       "      <td>43110</td>\n",
       "      <td>True</td>\n",
       "      <td>Great atmosphere. The gunplay can be a bit chu...</td>\n",
       "      <td>76561197970982479</td>\n",
       "    </tr>\n",
       "  </tbody>\n",
       "</table>\n",
       "</div>"
      ],
      "text/plain": [
       "                     posted  item_id  recommend  \\\n",
       "0  Posted November 5, 2011.     1250       True   \n",
       "1     Posted July 15, 2011.    22200       True   \n",
       "2    Posted April 21, 2011.    43110       True   \n",
       "\n",
       "                                              review            user_id  \n",
       "0  Simple yet with great replayability. In my opi...  76561197970982479  \n",
       "1               It's unique and worth a playthrough.  76561197970982479  \n",
       "2  Great atmosphere. The gunplay can be a bit chu...  76561197970982479  "
      ]
     },
     "execution_count": 15,
     "metadata": {},
     "output_type": "execute_result"
    }
   ],
   "source": [
    "# Eliminando columnas\n",
    "reviews = reviews.drop(columns=[\"funny\", \"last_edited\", \"helpful\", \"user_url\"])\n",
    "reviews.head(3)"
   ]
  },
  {
   "cell_type": "code",
   "execution_count": 16,
   "metadata": {},
   "outputs": [
    {
     "data": {
      "text/plain": [
       "posted       0\n",
       "item_id      0\n",
       "recommend    0\n",
       "review       0\n",
       "user_id      0\n",
       "dtype: int64"
      ]
     },
     "execution_count": 16,
     "metadata": {},
     "output_type": "execute_result"
    }
   ],
   "source": [
    "#verificamos si existen más valores nulos\n",
    "nulos = reviews.isnull().sum() # visualizamos que no tenemos valores nulos.\n",
    "nulos"
   ]
  },
  {
   "cell_type": "markdown",
   "metadata": {},
   "source": [
    "### Analisis de Sentimiento"
   ]
  },
  {
   "cell_type": "markdown",
   "metadata": {},
   "source": [
    "Cambiamos a minusculas los datos str de la columna 'review'"
   ]
  },
  {
   "cell_type": "code",
   "execution_count": 18,
   "metadata": {},
   "outputs": [
    {
     "data": {
      "text/html": [
       "<div>\n",
       "<style scoped>\n",
       "    .dataframe tbody tr th:only-of-type {\n",
       "        vertical-align: middle;\n",
       "    }\n",
       "\n",
       "    .dataframe tbody tr th {\n",
       "        vertical-align: top;\n",
       "    }\n",
       "\n",
       "    .dataframe thead th {\n",
       "        text-align: right;\n",
       "    }\n",
       "</style>\n",
       "<table border=\"1\" class=\"dataframe\">\n",
       "  <thead>\n",
       "    <tr style=\"text-align: right;\">\n",
       "      <th></th>\n",
       "      <th>posted</th>\n",
       "      <th>item_id</th>\n",
       "      <th>recommend</th>\n",
       "      <th>review</th>\n",
       "      <th>user_id</th>\n",
       "    </tr>\n",
       "  </thead>\n",
       "  <tbody>\n",
       "    <tr>\n",
       "      <th>0</th>\n",
       "      <td>Posted November 5, 2011.</td>\n",
       "      <td>1250</td>\n",
       "      <td>True</td>\n",
       "      <td>simple yet with great replayability. in my opi...</td>\n",
       "      <td>76561197970982479</td>\n",
       "    </tr>\n",
       "    <tr>\n",
       "      <th>1</th>\n",
       "      <td>Posted July 15, 2011.</td>\n",
       "      <td>22200</td>\n",
       "      <td>True</td>\n",
       "      <td>it's unique and worth a playthrough.</td>\n",
       "      <td>76561197970982479</td>\n",
       "    </tr>\n",
       "    <tr>\n",
       "      <th>2</th>\n",
       "      <td>Posted April 21, 2011.</td>\n",
       "      <td>43110</td>\n",
       "      <td>True</td>\n",
       "      <td>great atmosphere. the gunplay can be a bit chu...</td>\n",
       "      <td>76561197970982479</td>\n",
       "    </tr>\n",
       "  </tbody>\n",
       "</table>\n",
       "</div>"
      ],
      "text/plain": [
       "                     posted  item_id  recommend  \\\n",
       "0  Posted November 5, 2011.     1250       True   \n",
       "1     Posted July 15, 2011.    22200       True   \n",
       "2    Posted April 21, 2011.    43110       True   \n",
       "\n",
       "                                              review            user_id  \n",
       "0  simple yet with great replayability. in my opi...  76561197970982479  \n",
       "1               it's unique and worth a playthrough.  76561197970982479  \n",
       "2  great atmosphere. the gunplay can be a bit chu...  76561197970982479  "
      ]
     },
     "execution_count": 18,
     "metadata": {},
     "output_type": "execute_result"
    }
   ],
   "source": [
    "# convertimos a minúsculas para tener un óptimo análisis de sentimiento\n",
    "reviews['review'] = reviews['review'].str.lower()\n",
    "reviews.head(3) # visualizamos la columna 'review', ahora todo está en minúsculas"
   ]
  },
  {
   "cell_type": "markdown",
   "metadata": {},
   "source": [
    "##### Analizaremos la columna **review** con dos librerías de análisis de sentimeinto"
   ]
  },
  {
   "cell_type": "markdown",
   "metadata": {},
   "source": [
    "Modelo NLTK"
   ]
  },
  {
   "cell_type": "code",
   "execution_count": 19,
   "metadata": {},
   "outputs": [],
   "source": [
    "def analizar_sentimiento_nltk(reviews):#Creamos una función para poner cada fila de la columna 'review' y procesar un análisis de sentimiento\n",
    "    if reviews is None:\n",
    "        return 1 # Si está vacía la celda o la revisión es nula, se clasifica como neutral\n",
    "\n",
    "    # Analizamos el sentimiento con SentimentIntensityAnalyzer\n",
    "    analyzer = SentimentIntensityAnalyzer()\n",
    "    sentiment_score = analyzer.polarity_scores(reviews)['compound']\n",
    "\n",
    "    # Ajustamos los umbrales para clasificar el sentimiento\n",
    "    if sentiment_score > 0.4:\n",
    "        return 2  # Positivo\n",
    "    elif sentiment_score < -0.5:\n",
    "        return 0  # Negativo\n",
    "    else:\n",
    "        return 1  # Neutral"
   ]
  },
  {
   "cell_type": "code",
   "execution_count": 20,
   "metadata": {},
   "outputs": [
    {
     "data": {
      "text/html": [
       "<div>\n",
       "<style scoped>\n",
       "    .dataframe tbody tr th:only-of-type {\n",
       "        vertical-align: middle;\n",
       "    }\n",
       "\n",
       "    .dataframe tbody tr th {\n",
       "        vertical-align: top;\n",
       "    }\n",
       "\n",
       "    .dataframe thead th {\n",
       "        text-align: right;\n",
       "    }\n",
       "</style>\n",
       "<table border=\"1\" class=\"dataframe\">\n",
       "  <thead>\n",
       "    <tr style=\"text-align: right;\">\n",
       "      <th></th>\n",
       "      <th>posted</th>\n",
       "      <th>item_id</th>\n",
       "      <th>recommend</th>\n",
       "      <th>review</th>\n",
       "      <th>user_id</th>\n",
       "      <th>sentiment_analysis</th>\n",
       "    </tr>\n",
       "  </thead>\n",
       "  <tbody>\n",
       "    <tr>\n",
       "      <th>0</th>\n",
       "      <td>Posted November 5, 2011.</td>\n",
       "      <td>1250</td>\n",
       "      <td>True</td>\n",
       "      <td>simple yet with great replayability. in my opi...</td>\n",
       "      <td>76561197970982479</td>\n",
       "      <td>2</td>\n",
       "    </tr>\n",
       "    <tr>\n",
       "      <th>1</th>\n",
       "      <td>Posted July 15, 2011.</td>\n",
       "      <td>22200</td>\n",
       "      <td>True</td>\n",
       "      <td>it's unique and worth a playthrough.</td>\n",
       "      <td>76561197970982479</td>\n",
       "      <td>1</td>\n",
       "    </tr>\n",
       "    <tr>\n",
       "      <th>2</th>\n",
       "      <td>Posted April 21, 2011.</td>\n",
       "      <td>43110</td>\n",
       "      <td>True</td>\n",
       "      <td>great atmosphere. the gunplay can be a bit chu...</td>\n",
       "      <td>76561197970982479</td>\n",
       "      <td>2</td>\n",
       "    </tr>\n",
       "    <tr>\n",
       "      <th>3</th>\n",
       "      <td>Posted June 24, 2014.</td>\n",
       "      <td>251610</td>\n",
       "      <td>True</td>\n",
       "      <td>i know what you think when you see this title ...</td>\n",
       "      <td>js41637</td>\n",
       "      <td>2</td>\n",
       "    </tr>\n",
       "    <tr>\n",
       "      <th>4</th>\n",
       "      <td>Posted September 8, 2013.</td>\n",
       "      <td>227300</td>\n",
       "      <td>True</td>\n",
       "      <td>for a simple (it's actually not all that simpl...</td>\n",
       "      <td>js41637</td>\n",
       "      <td>2</td>\n",
       "    </tr>\n",
       "  </tbody>\n",
       "</table>\n",
       "</div>"
      ],
      "text/plain": [
       "                      posted  item_id  recommend  \\\n",
       "0   Posted November 5, 2011.     1250       True   \n",
       "1      Posted July 15, 2011.    22200       True   \n",
       "2     Posted April 21, 2011.    43110       True   \n",
       "3      Posted June 24, 2014.   251610       True   \n",
       "4  Posted September 8, 2013.   227300       True   \n",
       "\n",
       "                                              review            user_id  \\\n",
       "0  simple yet with great replayability. in my opi...  76561197970982479   \n",
       "1               it's unique and worth a playthrough.  76561197970982479   \n",
       "2  great atmosphere. the gunplay can be a bit chu...  76561197970982479   \n",
       "3  i know what you think when you see this title ...            js41637   \n",
       "4  for a simple (it's actually not all that simpl...            js41637   \n",
       "\n",
       "   sentiment_analysis  \n",
       "0                   2  \n",
       "1                   1  \n",
       "2                   2  \n",
       "3                   2  \n",
       "4                   2  "
      ]
     },
     "execution_count": 20,
     "metadata": {},
     "output_type": "execute_result"
    }
   ],
   "source": [
    "# Aplicamos la función creada con el Modelo NLTK a la columna review y guardaremos en una nueva columna\n",
    "reviews[\"sentiment_analysis\"] = reviews[\"review\"].astype(str).apply(analizar_sentimiento_nltk)\n",
    "reviews.head(5)"
   ]
  },
  {
   "cell_type": "markdown",
   "metadata": {},
   "source": [
    "Modelo TextBlob"
   ]
  },
  {
   "cell_type": "code",
   "execution_count": 21,
   "metadata": {},
   "outputs": [],
   "source": [
    "def analizar_sentimiento_textblob(review): #Creamos una función para poner cada fila de la columna 'review' y procesar un análisis de sentimiento\n",
    "    if review is None:\n",
    "        return 1  # Si está vacía la celda o la revisión es nula, se clasifica como neutral\n",
    "\n",
    "    # Analizamos el sentimiento con TextBlob\n",
    "    blob = TextBlob(review) # cada valor lo analizamos con 'TextBlob'\n",
    "    sentiment_score = blob.sentiment.polarity # aquí damos un valor numérico segun lo procesado\n",
    "\n",
    "    # Ajustamos los scores para clasificar el sentimiento\n",
    "    if sentiment_score > 0.4: \n",
    "        return 2  # Positivo\n",
    "    elif sentiment_score < -0.5:\n",
    "        return 0  # Negativo\n",
    "    else:\n",
    "        return 1  # Neutral"
   ]
  },
  {
   "cell_type": "code",
   "execution_count": 22,
   "metadata": {},
   "outputs": [
    {
     "data": {
      "text/html": [
       "<div>\n",
       "<style scoped>\n",
       "    .dataframe tbody tr th:only-of-type {\n",
       "        vertical-align: middle;\n",
       "    }\n",
       "\n",
       "    .dataframe tbody tr th {\n",
       "        vertical-align: top;\n",
       "    }\n",
       "\n",
       "    .dataframe thead th {\n",
       "        text-align: right;\n",
       "    }\n",
       "</style>\n",
       "<table border=\"1\" class=\"dataframe\">\n",
       "  <thead>\n",
       "    <tr style=\"text-align: right;\">\n",
       "      <th></th>\n",
       "      <th>posted</th>\n",
       "      <th>item_id</th>\n",
       "      <th>recommend</th>\n",
       "      <th>review</th>\n",
       "      <th>user_id</th>\n",
       "      <th>sentiment_analysis</th>\n",
       "      <th>sentiment_analysis2</th>\n",
       "    </tr>\n",
       "  </thead>\n",
       "  <tbody>\n",
       "    <tr>\n",
       "      <th>0</th>\n",
       "      <td>Posted November 5, 2011.</td>\n",
       "      <td>1250</td>\n",
       "      <td>True</td>\n",
       "      <td>simple yet with great replayability. in my opi...</td>\n",
       "      <td>76561197970982479</td>\n",
       "      <td>2</td>\n",
       "      <td>1</td>\n",
       "    </tr>\n",
       "    <tr>\n",
       "      <th>1</th>\n",
       "      <td>Posted July 15, 2011.</td>\n",
       "      <td>22200</td>\n",
       "      <td>True</td>\n",
       "      <td>it's unique and worth a playthrough.</td>\n",
       "      <td>76561197970982479</td>\n",
       "      <td>1</td>\n",
       "      <td>1</td>\n",
       "    </tr>\n",
       "    <tr>\n",
       "      <th>2</th>\n",
       "      <td>Posted April 21, 2011.</td>\n",
       "      <td>43110</td>\n",
       "      <td>True</td>\n",
       "      <td>great atmosphere. the gunplay can be a bit chu...</td>\n",
       "      <td>76561197970982479</td>\n",
       "      <td>2</td>\n",
       "      <td>1</td>\n",
       "    </tr>\n",
       "    <tr>\n",
       "      <th>3</th>\n",
       "      <td>Posted June 24, 2014.</td>\n",
       "      <td>251610</td>\n",
       "      <td>True</td>\n",
       "      <td>i know what you think when you see this title ...</td>\n",
       "      <td>js41637</td>\n",
       "      <td>2</td>\n",
       "      <td>1</td>\n",
       "    </tr>\n",
       "    <tr>\n",
       "      <th>4</th>\n",
       "      <td>Posted September 8, 2013.</td>\n",
       "      <td>227300</td>\n",
       "      <td>True</td>\n",
       "      <td>for a simple (it's actually not all that simpl...</td>\n",
       "      <td>js41637</td>\n",
       "      <td>2</td>\n",
       "      <td>1</td>\n",
       "    </tr>\n",
       "  </tbody>\n",
       "</table>\n",
       "</div>"
      ],
      "text/plain": [
       "                      posted  item_id  recommend  \\\n",
       "0   Posted November 5, 2011.     1250       True   \n",
       "1      Posted July 15, 2011.    22200       True   \n",
       "2     Posted April 21, 2011.    43110       True   \n",
       "3      Posted June 24, 2014.   251610       True   \n",
       "4  Posted September 8, 2013.   227300       True   \n",
       "\n",
       "                                              review            user_id  \\\n",
       "0  simple yet with great replayability. in my opi...  76561197970982479   \n",
       "1               it's unique and worth a playthrough.  76561197970982479   \n",
       "2  great atmosphere. the gunplay can be a bit chu...  76561197970982479   \n",
       "3  i know what you think when you see this title ...            js41637   \n",
       "4  for a simple (it's actually not all that simpl...            js41637   \n",
       "\n",
       "   sentiment_analysis  sentiment_analysis2  \n",
       "0                   2                    1  \n",
       "1                   1                    1  \n",
       "2                   2                    1  \n",
       "3                   2                    1  \n",
       "4                   2                    1  "
      ]
     },
     "execution_count": 22,
     "metadata": {},
     "output_type": "execute_result"
    }
   ],
   "source": [
    "# Aplicamos la función creada con el Modelo TextBlob a la columna review y guardaremos en una nueva columna\n",
    "reviews[\"sentiment_analysis2\"] = reviews[\"review\"].astype(str).apply(analizar_sentimiento_textblob)\n",
    "reviews.head(5)"
   ]
  },
  {
   "cell_type": "code",
   "execution_count": 23,
   "metadata": {},
   "outputs": [
    {
     "name": "stdout",
     "output_type": "stream",
     "text": [
      "comparamos los valores NLTK0 = 4883 vs TextBlob0 = 976, NLTK1 = 21835 vs TextBlob1 = 50317, NLTK2 = 31683 vs TextBlob2 = 7108 \n"
     ]
    }
   ],
   "source": [
    "#análisis del resultado y que Modelo detecto más valores\n",
    "NTK0 = len(reviews[reviews['sentiment_analysis']==0])\n",
    "TB0 = len(reviews[reviews['sentiment_analysis2']==0])\n",
    "NTK1 = len(reviews[reviews['sentiment_analysis']==1])\n",
    "TB1 = len(reviews[reviews['sentiment_analysis2']==1])\n",
    "NTK2 = len(reviews[reviews['sentiment_analysis']==2])\n",
    "TB2 = len(reviews[reviews['sentiment_analysis2']==2])\n",
    "\n",
    "print(f\"comparamos los valores NLTK0 = {NTK0} vs TextBlob0 = {TB0}, NLTK1 = {NTK1} vs TextBlob1 = {TB1}, NLTK2 = {NTK2} vs TextBlob2 = {TB2} \")"
   ]
  },
  {
   "cell_type": "markdown",
   "metadata": {},
   "source": [
    "NLTK tiene los mejores resultados, ya que analiza en más idiomas"
   ]
  },
  {
   "cell_type": "code",
   "execution_count": 24,
   "metadata": {},
   "outputs": [
    {
     "data": {
      "text/html": [
       "<div>\n",
       "<style scoped>\n",
       "    .dataframe tbody tr th:only-of-type {\n",
       "        vertical-align: middle;\n",
       "    }\n",
       "\n",
       "    .dataframe tbody tr th {\n",
       "        vertical-align: top;\n",
       "    }\n",
       "\n",
       "    .dataframe thead th {\n",
       "        text-align: right;\n",
       "    }\n",
       "</style>\n",
       "<table border=\"1\" class=\"dataframe\">\n",
       "  <thead>\n",
       "    <tr style=\"text-align: right;\">\n",
       "      <th></th>\n",
       "      <th>posted</th>\n",
       "      <th>item_id</th>\n",
       "      <th>recommend</th>\n",
       "      <th>review</th>\n",
       "      <th>user_id</th>\n",
       "      <th>sentiment_analysis</th>\n",
       "    </tr>\n",
       "  </thead>\n",
       "  <tbody>\n",
       "    <tr>\n",
       "      <th>0</th>\n",
       "      <td>Posted November 5, 2011.</td>\n",
       "      <td>1250</td>\n",
       "      <td>True</td>\n",
       "      <td>simple yet with great replayability. in my opi...</td>\n",
       "      <td>76561197970982479</td>\n",
       "      <td>2</td>\n",
       "    </tr>\n",
       "    <tr>\n",
       "      <th>1</th>\n",
       "      <td>Posted July 15, 2011.</td>\n",
       "      <td>22200</td>\n",
       "      <td>True</td>\n",
       "      <td>it's unique and worth a playthrough.</td>\n",
       "      <td>76561197970982479</td>\n",
       "      <td>1</td>\n",
       "    </tr>\n",
       "    <tr>\n",
       "      <th>2</th>\n",
       "      <td>Posted April 21, 2011.</td>\n",
       "      <td>43110</td>\n",
       "      <td>True</td>\n",
       "      <td>great atmosphere. the gunplay can be a bit chu...</td>\n",
       "      <td>76561197970982479</td>\n",
       "      <td>2</td>\n",
       "    </tr>\n",
       "    <tr>\n",
       "      <th>3</th>\n",
       "      <td>Posted June 24, 2014.</td>\n",
       "      <td>251610</td>\n",
       "      <td>True</td>\n",
       "      <td>i know what you think when you see this title ...</td>\n",
       "      <td>js41637</td>\n",
       "      <td>2</td>\n",
       "    </tr>\n",
       "    <tr>\n",
       "      <th>4</th>\n",
       "      <td>Posted September 8, 2013.</td>\n",
       "      <td>227300</td>\n",
       "      <td>True</td>\n",
       "      <td>for a simple (it's actually not all that simpl...</td>\n",
       "      <td>js41637</td>\n",
       "      <td>2</td>\n",
       "    </tr>\n",
       "  </tbody>\n",
       "</table>\n",
       "</div>"
      ],
      "text/plain": [
       "                      posted  item_id  recommend  \\\n",
       "0   Posted November 5, 2011.     1250       True   \n",
       "1      Posted July 15, 2011.    22200       True   \n",
       "2     Posted April 21, 2011.    43110       True   \n",
       "3      Posted June 24, 2014.   251610       True   \n",
       "4  Posted September 8, 2013.   227300       True   \n",
       "\n",
       "                                              review            user_id  \\\n",
       "0  simple yet with great replayability. in my opi...  76561197970982479   \n",
       "1               it's unique and worth a playthrough.  76561197970982479   \n",
       "2  great atmosphere. the gunplay can be a bit chu...  76561197970982479   \n",
       "3  i know what you think when you see this title ...            js41637   \n",
       "4  for a simple (it's actually not all that simpl...            js41637   \n",
       "\n",
       "   sentiment_analysis  \n",
       "0                   2  \n",
       "1                   1  \n",
       "2                   2  \n",
       "3                   2  \n",
       "4                   2  "
      ]
     },
     "execution_count": 24,
     "metadata": {},
     "output_type": "execute_result"
    }
   ],
   "source": [
    "# ya teniendo decidido los valores a trabajar del análisis de sentimiento, eliminamos la columna 'sentiment_analysis2'\n",
    "reviews = reviews.drop('sentiment_analysis2', axis=1)\n",
    "reviews.head(5)"
   ]
  },
  {
   "cell_type": "code",
   "execution_count": 25,
   "metadata": {},
   "outputs": [
    {
     "data": {
      "text/plain": [
       "array([2, 1, 0], dtype=int64)"
      ]
     },
     "execution_count": 25,
     "metadata": {},
     "output_type": "execute_result"
    }
   ],
   "source": [
    "#visualizamos los valores únicos de la nueva columna\n",
    "reviews.sentiment_analysis.unique()"
   ]
  },
  {
   "cell_type": "markdown",
   "metadata": {},
   "source": [
    "Eliminamos la columna **review**"
   ]
  },
  {
   "cell_type": "code",
   "execution_count": 26,
   "metadata": {},
   "outputs": [
    {
     "data": {
      "text/html": [
       "<div>\n",
       "<style scoped>\n",
       "    .dataframe tbody tr th:only-of-type {\n",
       "        vertical-align: middle;\n",
       "    }\n",
       "\n",
       "    .dataframe tbody tr th {\n",
       "        vertical-align: top;\n",
       "    }\n",
       "\n",
       "    .dataframe thead th {\n",
       "        text-align: right;\n",
       "    }\n",
       "</style>\n",
       "<table border=\"1\" class=\"dataframe\">\n",
       "  <thead>\n",
       "    <tr style=\"text-align: right;\">\n",
       "      <th></th>\n",
       "      <th>posted</th>\n",
       "      <th>item_id</th>\n",
       "      <th>recommend</th>\n",
       "      <th>user_id</th>\n",
       "      <th>sentiment_analysis</th>\n",
       "    </tr>\n",
       "  </thead>\n",
       "  <tbody>\n",
       "    <tr>\n",
       "      <th>0</th>\n",
       "      <td>Posted November 5, 2011.</td>\n",
       "      <td>1250</td>\n",
       "      <td>True</td>\n",
       "      <td>76561197970982479</td>\n",
       "      <td>2</td>\n",
       "    </tr>\n",
       "    <tr>\n",
       "      <th>1</th>\n",
       "      <td>Posted July 15, 2011.</td>\n",
       "      <td>22200</td>\n",
       "      <td>True</td>\n",
       "      <td>76561197970982479</td>\n",
       "      <td>1</td>\n",
       "    </tr>\n",
       "    <tr>\n",
       "      <th>2</th>\n",
       "      <td>Posted April 21, 2011.</td>\n",
       "      <td>43110</td>\n",
       "      <td>True</td>\n",
       "      <td>76561197970982479</td>\n",
       "      <td>2</td>\n",
       "    </tr>\n",
       "    <tr>\n",
       "      <th>3</th>\n",
       "      <td>Posted June 24, 2014.</td>\n",
       "      <td>251610</td>\n",
       "      <td>True</td>\n",
       "      <td>js41637</td>\n",
       "      <td>2</td>\n",
       "    </tr>\n",
       "    <tr>\n",
       "      <th>4</th>\n",
       "      <td>Posted September 8, 2013.</td>\n",
       "      <td>227300</td>\n",
       "      <td>True</td>\n",
       "      <td>js41637</td>\n",
       "      <td>2</td>\n",
       "    </tr>\n",
       "  </tbody>\n",
       "</table>\n",
       "</div>"
      ],
      "text/plain": [
       "                      posted  item_id  recommend            user_id  \\\n",
       "0   Posted November 5, 2011.     1250       True  76561197970982479   \n",
       "1      Posted July 15, 2011.    22200       True  76561197970982479   \n",
       "2     Posted April 21, 2011.    43110       True  76561197970982479   \n",
       "3      Posted June 24, 2014.   251610       True            js41637   \n",
       "4  Posted September 8, 2013.   227300       True            js41637   \n",
       "\n",
       "   sentiment_analysis  \n",
       "0                   2  \n",
       "1                   1  \n",
       "2                   2  \n",
       "3                   2  \n",
       "4                   2  "
      ]
     },
     "execution_count": 26,
     "metadata": {},
     "output_type": "execute_result"
    }
   ],
   "source": [
    "#el análisis de sentimiento cubre la informacion de la columna 'review', por tanto se elimina esta columna\n",
    "reviews = reviews.drop('review', axis=1)\n",
    "reviews.head(5)"
   ]
  },
  {
   "cell_type": "markdown",
   "metadata": {},
   "source": [
    "### Modificando la columna posted"
   ]
  },
  {
   "cell_type": "code",
   "execution_count": 27,
   "metadata": {},
   "outputs": [
    {
     "data": {
      "text/html": [
       "<div>\n",
       "<style scoped>\n",
       "    .dataframe tbody tr th:only-of-type {\n",
       "        vertical-align: middle;\n",
       "    }\n",
       "\n",
       "    .dataframe tbody tr th {\n",
       "        vertical-align: top;\n",
       "    }\n",
       "\n",
       "    .dataframe thead th {\n",
       "        text-align: right;\n",
       "    }\n",
       "</style>\n",
       "<table border=\"1\" class=\"dataframe\">\n",
       "  <thead>\n",
       "    <tr style=\"text-align: right;\">\n",
       "      <th></th>\n",
       "      <th>posted</th>\n",
       "      <th>item_id</th>\n",
       "      <th>recommend</th>\n",
       "      <th>user_id</th>\n",
       "      <th>sentiment_analysis</th>\n",
       "    </tr>\n",
       "  </thead>\n",
       "  <tbody>\n",
       "    <tr>\n",
       "      <th>0</th>\n",
       "      <td>November 5, 2011</td>\n",
       "      <td>1250</td>\n",
       "      <td>True</td>\n",
       "      <td>76561197970982479</td>\n",
       "      <td>2</td>\n",
       "    </tr>\n",
       "    <tr>\n",
       "      <th>1</th>\n",
       "      <td>July 15, 2011</td>\n",
       "      <td>22200</td>\n",
       "      <td>True</td>\n",
       "      <td>76561197970982479</td>\n",
       "      <td>1</td>\n",
       "    </tr>\n",
       "    <tr>\n",
       "      <th>2</th>\n",
       "      <td>April 21, 2011</td>\n",
       "      <td>43110</td>\n",
       "      <td>True</td>\n",
       "      <td>76561197970982479</td>\n",
       "      <td>2</td>\n",
       "    </tr>\n",
       "  </tbody>\n",
       "</table>\n",
       "</div>"
      ],
      "text/plain": [
       "             posted  item_id  recommend            user_id  sentiment_analysis\n",
       "0  November 5, 2011     1250       True  76561197970982479                   2\n",
       "1     July 15, 2011    22200       True  76561197970982479                   1\n",
       "2    April 21, 2011    43110       True  76561197970982479                   2"
      ]
     },
     "execution_count": 27,
     "metadata": {},
     "output_type": "execute_result"
    }
   ],
   "source": [
    "# Extraemos la fecha de la columna \"posted\" \n",
    "reviews['posted'] = reviews['posted'].str.extract(r'Posted ([\\w\\s\\d,]+)')\n",
    "reviews.head(3)"
   ]
  },
  {
   "cell_type": "code",
   "execution_count": 28,
   "metadata": {},
   "outputs": [
    {
     "data": {
      "text/html": [
       "<div>\n",
       "<style scoped>\n",
       "    .dataframe tbody tr th:only-of-type {\n",
       "        vertical-align: middle;\n",
       "    }\n",
       "\n",
       "    .dataframe tbody tr th {\n",
       "        vertical-align: top;\n",
       "    }\n",
       "\n",
       "    .dataframe thead th {\n",
       "        text-align: right;\n",
       "    }\n",
       "</style>\n",
       "<table border=\"1\" class=\"dataframe\">\n",
       "  <thead>\n",
       "    <tr style=\"text-align: right;\">\n",
       "      <th></th>\n",
       "      <th>posted</th>\n",
       "      <th>item_id</th>\n",
       "      <th>recommend</th>\n",
       "      <th>user_id</th>\n",
       "      <th>sentiment_analysis</th>\n",
       "    </tr>\n",
       "  </thead>\n",
       "  <tbody>\n",
       "    <tr>\n",
       "      <th>0</th>\n",
       "      <td>2011-11-05</td>\n",
       "      <td>1250</td>\n",
       "      <td>True</td>\n",
       "      <td>76561197970982479</td>\n",
       "      <td>2</td>\n",
       "    </tr>\n",
       "    <tr>\n",
       "      <th>1</th>\n",
       "      <td>2011-07-15</td>\n",
       "      <td>22200</td>\n",
       "      <td>True</td>\n",
       "      <td>76561197970982479</td>\n",
       "      <td>1</td>\n",
       "    </tr>\n",
       "    <tr>\n",
       "      <th>2</th>\n",
       "      <td>2011-04-21</td>\n",
       "      <td>43110</td>\n",
       "      <td>True</td>\n",
       "      <td>76561197970982479</td>\n",
       "      <td>2</td>\n",
       "    </tr>\n",
       "  </tbody>\n",
       "</table>\n",
       "</div>"
      ],
      "text/plain": [
       "      posted  item_id  recommend            user_id  sentiment_analysis\n",
       "0 2011-11-05     1250       True  76561197970982479                   2\n",
       "1 2011-07-15    22200       True  76561197970982479                   1\n",
       "2 2011-04-21    43110       True  76561197970982479                   2"
      ]
     },
     "execution_count": 28,
     "metadata": {},
     "output_type": "execute_result"
    }
   ],
   "source": [
    "#Transformamos la columna 'posted' al tipo de variable datetime\n",
    "reviews['posted'] = pd.to_datetime(reviews['posted'], errors='coerce')\n",
    "reviews.head(3)"
   ]
  },
  {
   "cell_type": "code",
   "execution_count": 29,
   "metadata": {},
   "outputs": [
    {
     "name": "stdout",
     "output_type": "stream",
     "text": [
      "<class 'pandas.core.frame.DataFrame'>\n",
      "Index: 58401 entries, 0 to 59304\n",
      "Data columns (total 5 columns):\n",
      " #   Column              Non-Null Count  Dtype         \n",
      "---  ------              --------------  -----         \n",
      " 0   posted              48471 non-null  datetime64[ns]\n",
      " 1   item_id             58401 non-null  int64         \n",
      " 2   recommend           58401 non-null  bool          \n",
      " 3   user_id             58401 non-null  object        \n",
      " 4   sentiment_analysis  58401 non-null  int64         \n",
      "dtypes: bool(1), datetime64[ns](1), int64(2), object(1)\n",
      "memory usage: 2.3+ MB\n"
     ]
    }
   ],
   "source": [
    "reviews.info() #se nos generó nuevos valores nulos"
   ]
  },
  {
   "cell_type": "code",
   "execution_count": 30,
   "metadata": {},
   "outputs": [],
   "source": [
    "#Eliminamos valores nulos de la columna 'posted' - alrededor de 9000 filas\n",
    "reviews = reviews.dropna(subset=['posted'])"
   ]
  },
  {
   "cell_type": "code",
   "execution_count": 31,
   "metadata": {},
   "outputs": [
    {
     "name": "stdout",
     "output_type": "stream",
     "text": [
      "<class 'pandas.core.frame.DataFrame'>\n",
      "Index: 48471 entries, 0 to 59276\n",
      "Data columns (total 5 columns):\n",
      " #   Column              Non-Null Count  Dtype         \n",
      "---  ------              --------------  -----         \n",
      " 0   posted              48471 non-null  datetime64[ns]\n",
      " 1   item_id             48471 non-null  int64         \n",
      " 2   recommend           48471 non-null  bool          \n",
      " 3   user_id             48471 non-null  object        \n",
      " 4   sentiment_analysis  48471 non-null  int64         \n",
      "dtypes: bool(1), datetime64[ns](1), int64(2), object(1)\n",
      "memory usage: 1.9+ MB\n"
     ]
    }
   ],
   "source": [
    "reviews.info()"
   ]
  },
  {
   "cell_type": "markdown",
   "metadata": {},
   "source": [
    "Reseteamos la numeración de los índices"
   ]
  },
  {
   "cell_type": "code",
   "execution_count": 32,
   "metadata": {},
   "outputs": [
    {
     "data": {
      "text/html": [
       "<div>\n",
       "<style scoped>\n",
       "    .dataframe tbody tr th:only-of-type {\n",
       "        vertical-align: middle;\n",
       "    }\n",
       "\n",
       "    .dataframe tbody tr th {\n",
       "        vertical-align: top;\n",
       "    }\n",
       "\n",
       "    .dataframe thead th {\n",
       "        text-align: right;\n",
       "    }\n",
       "</style>\n",
       "<table border=\"1\" class=\"dataframe\">\n",
       "  <thead>\n",
       "    <tr style=\"text-align: right;\">\n",
       "      <th></th>\n",
       "      <th>index</th>\n",
       "      <th>posted</th>\n",
       "      <th>item_id</th>\n",
       "      <th>recommend</th>\n",
       "      <th>user_id</th>\n",
       "      <th>sentiment_analysis</th>\n",
       "    </tr>\n",
       "  </thead>\n",
       "  <tbody>\n",
       "    <tr>\n",
       "      <th>0</th>\n",
       "      <td>0</td>\n",
       "      <td>2011-11-05</td>\n",
       "      <td>1250</td>\n",
       "      <td>True</td>\n",
       "      <td>76561197970982479</td>\n",
       "      <td>2</td>\n",
       "    </tr>\n",
       "    <tr>\n",
       "      <th>1</th>\n",
       "      <td>1</td>\n",
       "      <td>2011-07-15</td>\n",
       "      <td>22200</td>\n",
       "      <td>True</td>\n",
       "      <td>76561197970982479</td>\n",
       "      <td>1</td>\n",
       "    </tr>\n",
       "    <tr>\n",
       "      <th>2</th>\n",
       "      <td>2</td>\n",
       "      <td>2011-04-21</td>\n",
       "      <td>43110</td>\n",
       "      <td>True</td>\n",
       "      <td>76561197970982479</td>\n",
       "      <td>2</td>\n",
       "    </tr>\n",
       "    <tr>\n",
       "      <th>3</th>\n",
       "      <td>3</td>\n",
       "      <td>2014-06-24</td>\n",
       "      <td>251610</td>\n",
       "      <td>True</td>\n",
       "      <td>js41637</td>\n",
       "      <td>2</td>\n",
       "    </tr>\n",
       "    <tr>\n",
       "      <th>4</th>\n",
       "      <td>4</td>\n",
       "      <td>2013-09-08</td>\n",
       "      <td>227300</td>\n",
       "      <td>True</td>\n",
       "      <td>js41637</td>\n",
       "      <td>2</td>\n",
       "    </tr>\n",
       "    <tr>\n",
       "      <th>...</th>\n",
       "      <td>...</td>\n",
       "      <td>...</td>\n",
       "      <td>...</td>\n",
       "      <td>...</td>\n",
       "      <td>...</td>\n",
       "      <td>...</td>\n",
       "    </tr>\n",
       "    <tr>\n",
       "      <th>48466</th>\n",
       "      <td>59252</td>\n",
       "      <td>2015-10-14</td>\n",
       "      <td>730</td>\n",
       "      <td>True</td>\n",
       "      <td>wayfeng</td>\n",
       "      <td>1</td>\n",
       "    </tr>\n",
       "    <tr>\n",
       "      <th>48467</th>\n",
       "      <td>59255</td>\n",
       "      <td>2015-10-10</td>\n",
       "      <td>253980</td>\n",
       "      <td>True</td>\n",
       "      <td>76561198251004808</td>\n",
       "      <td>2</td>\n",
       "    </tr>\n",
       "    <tr>\n",
       "      <th>48468</th>\n",
       "      <td>59265</td>\n",
       "      <td>2015-10-31</td>\n",
       "      <td>730</td>\n",
       "      <td>True</td>\n",
       "      <td>72947282842</td>\n",
       "      <td>1</td>\n",
       "    </tr>\n",
       "    <tr>\n",
       "      <th>48469</th>\n",
       "      <td>59267</td>\n",
       "      <td>2015-12-14</td>\n",
       "      <td>730</td>\n",
       "      <td>True</td>\n",
       "      <td>ApxLGhost</td>\n",
       "      <td>2</td>\n",
       "    </tr>\n",
       "    <tr>\n",
       "      <th>48470</th>\n",
       "      <td>59276</td>\n",
       "      <td>2015-12-29</td>\n",
       "      <td>369200</td>\n",
       "      <td>True</td>\n",
       "      <td>76561198267374962</td>\n",
       "      <td>2</td>\n",
       "    </tr>\n",
       "  </tbody>\n",
       "</table>\n",
       "<p>48471 rows × 6 columns</p>\n",
       "</div>"
      ],
      "text/plain": [
       "       index     posted  item_id  recommend            user_id  \\\n",
       "0          0 2011-11-05     1250       True  76561197970982479   \n",
       "1          1 2011-07-15    22200       True  76561197970982479   \n",
       "2          2 2011-04-21    43110       True  76561197970982479   \n",
       "3          3 2014-06-24   251610       True            js41637   \n",
       "4          4 2013-09-08   227300       True            js41637   \n",
       "...      ...        ...      ...        ...                ...   \n",
       "48466  59252 2015-10-14      730       True            wayfeng   \n",
       "48467  59255 2015-10-10   253980       True  76561198251004808   \n",
       "48468  59265 2015-10-31      730       True        72947282842   \n",
       "48469  59267 2015-12-14      730       True          ApxLGhost   \n",
       "48470  59276 2015-12-29   369200       True  76561198267374962   \n",
       "\n",
       "       sentiment_analysis  \n",
       "0                       2  \n",
       "1                       1  \n",
       "2                       2  \n",
       "3                       2  \n",
       "4                       2  \n",
       "...                   ...  \n",
       "48466                   1  \n",
       "48467                   2  \n",
       "48468                   1  \n",
       "48469                   2  \n",
       "48470                   2  \n",
       "\n",
       "[48471 rows x 6 columns]"
      ]
     },
     "execution_count": 32,
     "metadata": {},
     "output_type": "execute_result"
    }
   ],
   "source": [
    "reviews.reset_index(inplace=True)# crea nuevos índices y coloca una columna la anterior \n",
    "reviews"
   ]
  },
  {
   "cell_type": "code",
   "execution_count": 33,
   "metadata": {},
   "outputs": [
    {
     "data": {
      "text/html": [
       "<div>\n",
       "<style scoped>\n",
       "    .dataframe tbody tr th:only-of-type {\n",
       "        vertical-align: middle;\n",
       "    }\n",
       "\n",
       "    .dataframe tbody tr th {\n",
       "        vertical-align: top;\n",
       "    }\n",
       "\n",
       "    .dataframe thead th {\n",
       "        text-align: right;\n",
       "    }\n",
       "</style>\n",
       "<table border=\"1\" class=\"dataframe\">\n",
       "  <thead>\n",
       "    <tr style=\"text-align: right;\">\n",
       "      <th></th>\n",
       "      <th>posted</th>\n",
       "      <th>item_id</th>\n",
       "      <th>recommend</th>\n",
       "      <th>user_id</th>\n",
       "      <th>sentiment_analysis</th>\n",
       "    </tr>\n",
       "  </thead>\n",
       "  <tbody>\n",
       "    <tr>\n",
       "      <th>0</th>\n",
       "      <td>2011-11-05</td>\n",
       "      <td>1250</td>\n",
       "      <td>True</td>\n",
       "      <td>76561197970982479</td>\n",
       "      <td>2</td>\n",
       "    </tr>\n",
       "    <tr>\n",
       "      <th>1</th>\n",
       "      <td>2011-07-15</td>\n",
       "      <td>22200</td>\n",
       "      <td>True</td>\n",
       "      <td>76561197970982479</td>\n",
       "      <td>1</td>\n",
       "    </tr>\n",
       "    <tr>\n",
       "      <th>2</th>\n",
       "      <td>2011-04-21</td>\n",
       "      <td>43110</td>\n",
       "      <td>True</td>\n",
       "      <td>76561197970982479</td>\n",
       "      <td>2</td>\n",
       "    </tr>\n",
       "    <tr>\n",
       "      <th>3</th>\n",
       "      <td>2014-06-24</td>\n",
       "      <td>251610</td>\n",
       "      <td>True</td>\n",
       "      <td>js41637</td>\n",
       "      <td>2</td>\n",
       "    </tr>\n",
       "    <tr>\n",
       "      <th>4</th>\n",
       "      <td>2013-09-08</td>\n",
       "      <td>227300</td>\n",
       "      <td>True</td>\n",
       "      <td>js41637</td>\n",
       "      <td>2</td>\n",
       "    </tr>\n",
       "  </tbody>\n",
       "</table>\n",
       "</div>"
      ],
      "text/plain": [
       "      posted  item_id  recommend            user_id  sentiment_analysis\n",
       "0 2011-11-05     1250       True  76561197970982479                   2\n",
       "1 2011-07-15    22200       True  76561197970982479                   1\n",
       "2 2011-04-21    43110       True  76561197970982479                   2\n",
       "3 2014-06-24   251610       True            js41637                   2\n",
       "4 2013-09-08   227300       True            js41637                   2"
      ]
     },
     "execution_count": 33,
     "metadata": {},
     "output_type": "execute_result"
    }
   ],
   "source": [
    "#eliminamos la columna index\n",
    "reviews = reviews.drop('index', axis=1)\n",
    "reviews.head(5)"
   ]
  },
  {
   "cell_type": "markdown",
   "metadata": {},
   "source": [
    "Guardamos el ETL en archivos CSV y Parquet"
   ]
  },
  {
   "cell_type": "code",
   "execution_count": 35,
   "metadata": {},
   "outputs": [],
   "source": [
    "tabla = pa.Table.from_pandas(reviews) \n",
    "pq.write_table(tabla,\"../0-DATA/australian_user_reviewsETL.parquet\") "
   ]
  },
  {
   "cell_type": "code",
   "execution_count": 36,
   "metadata": {},
   "outputs": [],
   "source": [
    "reviews.to_csv(\"../0-DATA/australian_user_reviewsETL.csv\", index=False, encoding=\"utf-8\") "
   ]
  }
 ],
 "metadata": {
  "kernelspec": {
   "display_name": "base",
   "language": "python",
   "name": "python3"
  },
  "language_info": {
   "codemirror_mode": {
    "name": "ipython",
    "version": 3
   },
   "file_extension": ".py",
   "mimetype": "text/x-python",
   "name": "python",
   "nbconvert_exporter": "python",
   "pygments_lexer": "ipython3",
   "version": "3.9.7"
  }
 },
 "nbformat": 4,
 "nbformat_minor": 2
}
