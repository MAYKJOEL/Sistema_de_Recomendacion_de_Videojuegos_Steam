{
 "cells": [
  {
   "cell_type": "markdown",
   "metadata": {},
   "source": [
    "### Importamos librerías"
   ]
  },
  {
   "cell_type": "code",
   "execution_count": 1,
   "metadata": {},
   "outputs": [],
   "source": [
    "import pandas as pd\n",
    "import pyarrow.parquet as pq\n",
    "import pyarrow as pa"
   ]
  },
  {
   "cell_type": "markdown",
   "metadata": {},
   "source": [
    "Lectura"
   ]
  },
  {
   "cell_type": "code",
   "execution_count": 2,
   "metadata": {},
   "outputs": [],
   "source": [
    "#Leemos el archivo reviews.parquet en un DataFrame\n",
    "games = pq.read_table(\"../0-DATA/output_steam_games.parquet\").to_pandas()"
   ]
  },
  {
   "cell_type": "code",
   "execution_count": 3,
   "metadata": {},
   "outputs": [
    {
     "data": {
      "text/html": [
       "<div>\n",
       "<style scoped>\n",
       "    .dataframe tbody tr th:only-of-type {\n",
       "        vertical-align: middle;\n",
       "    }\n",
       "\n",
       "    .dataframe tbody tr th {\n",
       "        vertical-align: top;\n",
       "    }\n",
       "\n",
       "    .dataframe thead th {\n",
       "        text-align: right;\n",
       "    }\n",
       "</style>\n",
       "<table border=\"1\" class=\"dataframe\">\n",
       "  <thead>\n",
       "    <tr style=\"text-align: right;\">\n",
       "      <th></th>\n",
       "      <th>publisher</th>\n",
       "      <th>genres</th>\n",
       "      <th>app_name</th>\n",
       "      <th>title</th>\n",
       "      <th>url</th>\n",
       "      <th>release_date</th>\n",
       "      <th>tags</th>\n",
       "      <th>reviews_url</th>\n",
       "      <th>specs</th>\n",
       "      <th>price</th>\n",
       "      <th>early_access</th>\n",
       "      <th>id</th>\n",
       "      <th>developer</th>\n",
       "    </tr>\n",
       "  </thead>\n",
       "  <tbody>\n",
       "    <tr>\n",
       "      <th>0</th>\n",
       "      <td>None</td>\n",
       "      <td>None</td>\n",
       "      <td>None</td>\n",
       "      <td>None</td>\n",
       "      <td>None</td>\n",
       "      <td>None</td>\n",
       "      <td>None</td>\n",
       "      <td>None</td>\n",
       "      <td>None</td>\n",
       "      <td>None</td>\n",
       "      <td>None</td>\n",
       "      <td>NaN</td>\n",
       "      <td>None</td>\n",
       "    </tr>\n",
       "    <tr>\n",
       "      <th>1</th>\n",
       "      <td>None</td>\n",
       "      <td>None</td>\n",
       "      <td>None</td>\n",
       "      <td>None</td>\n",
       "      <td>None</td>\n",
       "      <td>None</td>\n",
       "      <td>None</td>\n",
       "      <td>None</td>\n",
       "      <td>None</td>\n",
       "      <td>None</td>\n",
       "      <td>None</td>\n",
       "      <td>NaN</td>\n",
       "      <td>None</td>\n",
       "    </tr>\n",
       "    <tr>\n",
       "      <th>2</th>\n",
       "      <td>None</td>\n",
       "      <td>None</td>\n",
       "      <td>None</td>\n",
       "      <td>None</td>\n",
       "      <td>None</td>\n",
       "      <td>None</td>\n",
       "      <td>None</td>\n",
       "      <td>None</td>\n",
       "      <td>None</td>\n",
       "      <td>None</td>\n",
       "      <td>None</td>\n",
       "      <td>NaN</td>\n",
       "      <td>None</td>\n",
       "    </tr>\n",
       "  </tbody>\n",
       "</table>\n",
       "</div>"
      ],
      "text/plain": [
       "  publisher genres app_name title   url release_date  tags reviews_url specs  \\\n",
       "0      None   None     None  None  None         None  None        None  None   \n",
       "1      None   None     None  None  None         None  None        None  None   \n",
       "2      None   None     None  None  None         None  None        None  None   \n",
       "\n",
       "  price early_access  id developer  \n",
       "0  None         None NaN      None  \n",
       "1  None         None NaN      None  \n",
       "2  None         None NaN      None  "
      ]
     },
     "execution_count": 3,
     "metadata": {},
     "output_type": "execute_result"
    }
   ],
   "source": [
    "#Abrimos el DataFrame y analizamos que es lo que tenemos para proceder a la limpieza\n",
    "games.head(3)"
   ]
  },
  {
   "cell_type": "code",
   "execution_count": 4,
   "metadata": {},
   "outputs": [
    {
     "name": "stdout",
     "output_type": "stream",
     "text": [
      "<class 'pandas.core.frame.DataFrame'>\n",
      "RangeIndex: 120445 entries, 0 to 120444\n",
      "Data columns (total 13 columns):\n",
      " #   Column        Non-Null Count  Dtype  \n",
      "---  ------        --------------  -----  \n",
      " 0   publisher     24064 non-null  object \n",
      " 1   genres        28852 non-null  object \n",
      " 2   app_name      32133 non-null  object \n",
      " 3   title         30085 non-null  object \n",
      " 4   url           32135 non-null  object \n",
      " 5   release_date  30068 non-null  object \n",
      " 6   tags          31972 non-null  object \n",
      " 7   reviews_url   32133 non-null  object \n",
      " 8   specs         31465 non-null  object \n",
      " 9   price         30758 non-null  object \n",
      " 10  early_access  32135 non-null  object \n",
      " 11  id            32133 non-null  float64\n",
      " 12  developer     28836 non-null  object \n",
      "dtypes: float64(1), object(12)\n",
      "memory usage: 11.9+ MB\n"
     ]
    }
   ],
   "source": [
    "#vemos las informacion de nuestra tabla, notamos qe existen valores nulos\n",
    "games.info()"
   ]
  },
  {
   "cell_type": "markdown",
   "metadata": {},
   "source": [
    "### Transformación de nuestra Tabla"
   ]
  },
  {
   "cell_type": "markdown",
   "metadata": {},
   "source": [
    "Eliminamos duplicados"
   ]
  },
  {
   "cell_type": "code",
   "execution_count": 5,
   "metadata": {},
   "outputs": [
    {
     "data": {
      "text/plain": [
       "(88309, 13)"
      ]
     },
     "execution_count": 5,
     "metadata": {},
     "output_type": "execute_result"
    }
   ],
   "source": [
    "# analizaremos si tenemos filas duplicadas, 88309 filas duplicadas\n",
    "duplicados = games.loc[games.duplicated()]\n",
    "duplicados.shape"
   ]
  },
  {
   "cell_type": "code",
   "execution_count": 6,
   "metadata": {},
   "outputs": [
    {
     "data": {
      "text/plain": [
       "(32136, 13)"
      ]
     },
     "execution_count": 6,
     "metadata": {},
     "output_type": "execute_result"
    }
   ],
   "source": [
    "#Eliminamos los duplicados, solo el 74% del total\n",
    "games = games.drop_duplicates(keep='first')\n",
    "games.shape"
   ]
  },
  {
   "cell_type": "markdown",
   "metadata": {},
   "source": [
    "Analizamos ahora si existen nullos"
   ]
  },
  {
   "cell_type": "code",
   "execution_count": 7,
   "metadata": {},
   "outputs": [
    {
     "name": "stdout",
     "output_type": "stream",
     "text": [
      "<class 'pandas.core.frame.DataFrame'>\n",
      "Index: 32136 entries, 0 to 120444\n",
      "Data columns (total 13 columns):\n",
      " #   Column        Non-Null Count  Dtype  \n",
      "---  ------        --------------  -----  \n",
      " 0   publisher     24064 non-null  object \n",
      " 1   genres        28852 non-null  object \n",
      " 2   app_name      32133 non-null  object \n",
      " 3   title         30085 non-null  object \n",
      " 4   url           32135 non-null  object \n",
      " 5   release_date  30068 non-null  object \n",
      " 6   tags          31972 non-null  object \n",
      " 7   reviews_url   32133 non-null  object \n",
      " 8   specs         31465 non-null  object \n",
      " 9   price         30758 non-null  object \n",
      " 10  early_access  32135 non-null  object \n",
      " 11  id            32133 non-null  float64\n",
      " 12  developer     28836 non-null  object \n",
      "dtypes: float64(1), object(12)\n",
      "memory usage: 3.4+ MB\n"
     ]
    }
   ],
   "source": [
    "games.info()"
   ]
  },
  {
   "cell_type": "markdown",
   "metadata": {},
   "source": [
    "Analizando columnas antes de eliminarlas"
   ]
  },
  {
   "cell_type": "code",
   "execution_count": 8,
   "metadata": {},
   "outputs": [
    {
     "data": {
      "text/plain": [
       "array([None, 'Kotoshiro', 'Making Fun, Inc.', ..., 'OrtiGames/OrtiSoft',\n",
       "       'INGAME', 'Bidoniera Games'], dtype=object)"
      ]
     },
     "execution_count": 8,
     "metadata": {},
     "output_type": "execute_result"
    }
   ],
   "source": [
    "games[\"publisher\"].unique() # --> eliminar esta columna es parecida a los desarrolladores y tiene mas nulos\n",
    "#games[\"genres\"].unique() # no eliminamos por que es importante\n",
    "#games[\"app_name\"].unique() # es lo mismo que title pero no tiene nulos\n",
    "#games[\"title\"].unique() # --> eliminar ya que contiene la misma informacion que \"app_name\"\n",
    "#games[\"url\"].unique() # --> eliminar por q son links y no nos sirve\n",
    "#games[\"release_date\"].unique() # --> se elimina por que ya tenemos ese dato en la otra tabla es la fecha de lanzamiento\n",
    "#games[\"tags\"].unique() # --> eliminamos por q tiene la misma info de gender\n",
    "#games[\"reviews_url\"].unique() # --> eliminamos por que son puras urls\n",
    "#games[\"specs\"].unique() # --> lo eliminamos ya que las especificaciones del juego no es de interes en nuestro analisis\n",
    "#games[\"price\"].unique() # se queda ya que es importante para el tratamiento de datos\n",
    "#games[\"early_access\"].unique() # --> eliminar,nos nos da una informacion que necesitemos para nuestro modelo, ademas dentro de price tenemos free si el juego es libre\n",
    "#games[\"id\"].unique() # id unico de jugadores o algo\n",
    "#games[\"developer\"].unique() #mantenemos es la columna del nombre del desarrollador"
   ]
  },
  {
   "cell_type": "code",
   "execution_count": 9,
   "metadata": {},
   "outputs": [
    {
     "data": {
      "text/html": [
       "<div>\n",
       "<style scoped>\n",
       "    .dataframe tbody tr th:only-of-type {\n",
       "        vertical-align: middle;\n",
       "    }\n",
       "\n",
       "    .dataframe tbody tr th {\n",
       "        vertical-align: top;\n",
       "    }\n",
       "\n",
       "    .dataframe thead th {\n",
       "        text-align: right;\n",
       "    }\n",
       "</style>\n",
       "<table border=\"1\" class=\"dataframe\">\n",
       "  <thead>\n",
       "    <tr style=\"text-align: right;\">\n",
       "      <th></th>\n",
       "      <th>genres</th>\n",
       "      <th>app_name</th>\n",
       "      <th>release_date</th>\n",
       "      <th>price</th>\n",
       "      <th>id</th>\n",
       "      <th>developer</th>\n",
       "    </tr>\n",
       "  </thead>\n",
       "  <tbody>\n",
       "    <tr>\n",
       "      <th>0</th>\n",
       "      <td>None</td>\n",
       "      <td>None</td>\n",
       "      <td>None</td>\n",
       "      <td>None</td>\n",
       "      <td>NaN</td>\n",
       "      <td>None</td>\n",
       "    </tr>\n",
       "    <tr>\n",
       "      <th>88310</th>\n",
       "      <td>['Action', 'Casual', 'Indie', 'Simulation', 'S...</td>\n",
       "      <td>Lost Summoner Kitty</td>\n",
       "      <td>2018-01-04</td>\n",
       "      <td>4.99</td>\n",
       "      <td>761140.0</td>\n",
       "      <td>Kotoshiro</td>\n",
       "    </tr>\n",
       "    <tr>\n",
       "      <th>88311</th>\n",
       "      <td>['Free to Play', 'Indie', 'RPG', 'Strategy']</td>\n",
       "      <td>Ironbound</td>\n",
       "      <td>2018-01-04</td>\n",
       "      <td>Free To Play</td>\n",
       "      <td>643980.0</td>\n",
       "      <td>Secret Level SRL</td>\n",
       "    </tr>\n",
       "  </tbody>\n",
       "</table>\n",
       "</div>"
      ],
      "text/plain": [
       "                                                  genres             app_name  \\\n",
       "0                                                   None                 None   \n",
       "88310  ['Action', 'Casual', 'Indie', 'Simulation', 'S...  Lost Summoner Kitty   \n",
       "88311       ['Free to Play', 'Indie', 'RPG', 'Strategy']            Ironbound   \n",
       "\n",
       "      release_date         price        id         developer  \n",
       "0             None          None       NaN              None  \n",
       "88310   2018-01-04          4.99  761140.0         Kotoshiro  \n",
       "88311   2018-01-04  Free To Play  643980.0  Secret Level SRL  "
      ]
     },
     "execution_count": 9,
     "metadata": {},
     "output_type": "execute_result"
    }
   ],
   "source": [
    "# Eliminamos las columnas \"publisher\", \"title\", \"url\",\"tags\", \"reviews_url\", \"specs\",\"early_access\" tiene informacion no util\n",
    "games = games.drop(columns=[\"publisher\", \"title\", \"url\",\"tags\", \"reviews_url\", \"specs\",\"early_access\"])\n",
    "games.head(3)"
   ]
  },
  {
   "cell_type": "markdown",
   "metadata": {},
   "source": [
    "eliminando datos nulos por cada columna"
   ]
  },
  {
   "cell_type": "code",
   "execution_count": 10,
   "metadata": {},
   "outputs": [],
   "source": [
    "#Eliminamos las filas de la columna que quedaron vacias - elimina 2 filas\n",
    "games = games.dropna(subset=['app_name'])\n",
    "#Eliminamos las filas de la columna que quedaron vacias - elimina 1 fila\n",
    "games = games.dropna(subset=['id'])\n",
    "#Eliminamos las filas de la columna que quedaron vacias - elimina 1376 filas\n",
    "games = games.dropna(subset=['price'])\n",
    "#Eliminamos las filas de la columna que quedaron vacias - elimina 3135 filas\n",
    "games = games.dropna(subset=['genres'])\n",
    "#Eliminamos las filas de la columna que quedaron vacias - elimina 155 filas\n",
    "games = games.dropna(subset=['developer'])\n",
    "#Eliminamos las filas de la columna que quedaron vacias - elimina 4 filas\n",
    "games = games.dropna(subset=['release_date'])"
   ]
  },
  {
   "cell_type": "code",
   "execution_count": 11,
   "metadata": {},
   "outputs": [
    {
     "data": {
      "text/plain": [
       "genres          0\n",
       "app_name        0\n",
       "release_date    0\n",
       "price           0\n",
       "id              0\n",
       "developer       0\n",
       "dtype: int64"
      ]
     },
     "execution_count": 11,
     "metadata": {},
     "output_type": "execute_result"
    }
   ],
   "source": [
    "#verificamos si hay mas nulos\n",
    "nulos = games.isnull().sum() # podemos ver que las columnas 'funny' y 'last_edited', casi en su totalidad son valores nulos\n",
    "nulos"
   ]
  },
  {
   "cell_type": "code",
   "execution_count": 12,
   "metadata": {},
   "outputs": [
    {
     "name": "stdout",
     "output_type": "stream",
     "text": [
      "<class 'pandas.core.frame.DataFrame'>\n",
      "Index: 27462 entries, 88310 to 120443\n",
      "Data columns (total 6 columns):\n",
      " #   Column        Non-Null Count  Dtype  \n",
      "---  ------        --------------  -----  \n",
      " 0   genres        27462 non-null  object \n",
      " 1   app_name      27462 non-null  object \n",
      " 2   release_date  27462 non-null  object \n",
      " 3   price         27462 non-null  object \n",
      " 4   id            27462 non-null  float64\n",
      " 5   developer     27462 non-null  object \n",
      "dtypes: float64(1), object(5)\n",
      "memory usage: 1.5+ MB\n"
     ]
    }
   ],
   "source": [
    "# vemos que nos quedamos con 27466 filas con informacion valiosa (23% de la data total) puros nulos en la tabla 77%\n",
    "games.info()"
   ]
  },
  {
   "cell_type": "markdown",
   "metadata": {},
   "source": [
    "### Modificando la columnas "
   ]
  },
  {
   "cell_type": "markdown",
   "metadata": {},
   "source": [
    "'release_date'"
   ]
  },
  {
   "cell_type": "code",
   "execution_count": 13,
   "metadata": {},
   "outputs": [
    {
     "data": {
      "text/plain": [
       "88310     2018-01-04\n",
       "88311     2018-01-04\n",
       "88312     2017-07-24\n",
       "88313     2017-12-07\n",
       "88315     2018-01-04\n",
       "             ...    \n",
       "120439    2018-01-04\n",
       "120440    2018-01-04\n",
       "120441    2018-01-04\n",
       "120442    2018-01-04\n",
       "120443    2017-09-02\n",
       "Name: release_date, Length: 27462, dtype: object"
      ]
     },
     "execution_count": 13,
     "metadata": {},
     "output_type": "execute_result"
    }
   ],
   "source": [
    "#composición de la columna release_date\n",
    "games[\"release_date\"]"
   ]
  },
  {
   "cell_type": "code",
   "execution_count": 14,
   "metadata": {},
   "outputs": [
    {
     "data": {
      "text/html": [
       "<div>\n",
       "<style scoped>\n",
       "    .dataframe tbody tr th:only-of-type {\n",
       "        vertical-align: middle;\n",
       "    }\n",
       "\n",
       "    .dataframe tbody tr th {\n",
       "        vertical-align: top;\n",
       "    }\n",
       "\n",
       "    .dataframe thead th {\n",
       "        text-align: right;\n",
       "    }\n",
       "</style>\n",
       "<table border=\"1\" class=\"dataframe\">\n",
       "  <thead>\n",
       "    <tr style=\"text-align: right;\">\n",
       "      <th></th>\n",
       "      <th>genres</th>\n",
       "      <th>app_name</th>\n",
       "      <th>release_date</th>\n",
       "      <th>price</th>\n",
       "      <th>id</th>\n",
       "      <th>developer</th>\n",
       "      <th>Año_estreno</th>\n",
       "    </tr>\n",
       "  </thead>\n",
       "  <tbody>\n",
       "    <tr>\n",
       "      <th>88310</th>\n",
       "      <td>['Action', 'Casual', 'Indie', 'Simulation', 'S...</td>\n",
       "      <td>Lost Summoner Kitty</td>\n",
       "      <td>2018-01-04</td>\n",
       "      <td>4.99</td>\n",
       "      <td>761140.0</td>\n",
       "      <td>Kotoshiro</td>\n",
       "      <td>2018</td>\n",
       "    </tr>\n",
       "    <tr>\n",
       "      <th>88311</th>\n",
       "      <td>['Free to Play', 'Indie', 'RPG', 'Strategy']</td>\n",
       "      <td>Ironbound</td>\n",
       "      <td>2018-01-04</td>\n",
       "      <td>Free To Play</td>\n",
       "      <td>643980.0</td>\n",
       "      <td>Secret Level SRL</td>\n",
       "      <td>2018</td>\n",
       "    </tr>\n",
       "    <tr>\n",
       "      <th>88312</th>\n",
       "      <td>['Casual', 'Free to Play', 'Indie', 'Simulatio...</td>\n",
       "      <td>Real Pool 3D - Poolians</td>\n",
       "      <td>2017-07-24</td>\n",
       "      <td>Free to Play</td>\n",
       "      <td>670290.0</td>\n",
       "      <td>Poolians.com</td>\n",
       "      <td>2017</td>\n",
       "    </tr>\n",
       "    <tr>\n",
       "      <th>88313</th>\n",
       "      <td>['Action', 'Adventure', 'Casual']</td>\n",
       "      <td>弹炸人2222</td>\n",
       "      <td>2017-12-07</td>\n",
       "      <td>0.99</td>\n",
       "      <td>767400.0</td>\n",
       "      <td>彼岸领域</td>\n",
       "      <td>2017</td>\n",
       "    </tr>\n",
       "    <tr>\n",
       "      <th>88315</th>\n",
       "      <td>['Action', 'Adventure', 'Simulation']</td>\n",
       "      <td>Battle Royale Trainer</td>\n",
       "      <td>2018-01-04</td>\n",
       "      <td>3.99</td>\n",
       "      <td>772540.0</td>\n",
       "      <td>Trickjump Games Ltd</td>\n",
       "      <td>2018</td>\n",
       "    </tr>\n",
       "  </tbody>\n",
       "</table>\n",
       "</div>"
      ],
      "text/plain": [
       "                                                  genres  \\\n",
       "88310  ['Action', 'Casual', 'Indie', 'Simulation', 'S...   \n",
       "88311       ['Free to Play', 'Indie', 'RPG', 'Strategy']   \n",
       "88312  ['Casual', 'Free to Play', 'Indie', 'Simulatio...   \n",
       "88313                  ['Action', 'Adventure', 'Casual']   \n",
       "88315              ['Action', 'Adventure', 'Simulation']   \n",
       "\n",
       "                      app_name release_date         price        id  \\\n",
       "88310      Lost Summoner Kitty   2018-01-04          4.99  761140.0   \n",
       "88311                Ironbound   2018-01-04  Free To Play  643980.0   \n",
       "88312  Real Pool 3D - Poolians   2017-07-24  Free to Play  670290.0   \n",
       "88313                  弹炸人2222   2017-12-07          0.99  767400.0   \n",
       "88315    Battle Royale Trainer   2018-01-04          3.99  772540.0   \n",
       "\n",
       "                 developer Año_estreno  \n",
       "88310            Kotoshiro        2018  \n",
       "88311     Secret Level SRL        2018  \n",
       "88312         Poolians.com        2017  \n",
       "88313                 彼岸领域        2017  \n",
       "88315  Trickjump Games Ltd        2018  "
      ]
     },
     "execution_count": 14,
     "metadata": {},
     "output_type": "execute_result"
    }
   ],
   "source": [
    "\n",
    "# Extraemos el año de la columna \"release_date\" \n",
    "games['Año_estreno'] = games['release_date'].str.extract(r'(\\d{4})')\n",
    "games.head(5)"
   ]
  },
  {
   "cell_type": "code",
   "execution_count": 15,
   "metadata": {},
   "outputs": [
    {
     "data": {
      "text/html": [
       "<div>\n",
       "<style scoped>\n",
       "    .dataframe tbody tr th:only-of-type {\n",
       "        vertical-align: middle;\n",
       "    }\n",
       "\n",
       "    .dataframe tbody tr th {\n",
       "        vertical-align: top;\n",
       "    }\n",
       "\n",
       "    .dataframe thead th {\n",
       "        text-align: right;\n",
       "    }\n",
       "</style>\n",
       "<table border=\"1\" class=\"dataframe\">\n",
       "  <thead>\n",
       "    <tr style=\"text-align: right;\">\n",
       "      <th></th>\n",
       "      <th>genres</th>\n",
       "      <th>app_name</th>\n",
       "      <th>price</th>\n",
       "      <th>id</th>\n",
       "      <th>developer</th>\n",
       "      <th>Año_estreno</th>\n",
       "    </tr>\n",
       "  </thead>\n",
       "  <tbody>\n",
       "    <tr>\n",
       "      <th>88310</th>\n",
       "      <td>['Action', 'Casual', 'Indie', 'Simulation', 'S...</td>\n",
       "      <td>Lost Summoner Kitty</td>\n",
       "      <td>4.99</td>\n",
       "      <td>761140.0</td>\n",
       "      <td>Kotoshiro</td>\n",
       "      <td>2018</td>\n",
       "    </tr>\n",
       "    <tr>\n",
       "      <th>88311</th>\n",
       "      <td>['Free to Play', 'Indie', 'RPG', 'Strategy']</td>\n",
       "      <td>Ironbound</td>\n",
       "      <td>Free To Play</td>\n",
       "      <td>643980.0</td>\n",
       "      <td>Secret Level SRL</td>\n",
       "      <td>2018</td>\n",
       "    </tr>\n",
       "    <tr>\n",
       "      <th>88312</th>\n",
       "      <td>['Casual', 'Free to Play', 'Indie', 'Simulatio...</td>\n",
       "      <td>Real Pool 3D - Poolians</td>\n",
       "      <td>Free to Play</td>\n",
       "      <td>670290.0</td>\n",
       "      <td>Poolians.com</td>\n",
       "      <td>2017</td>\n",
       "    </tr>\n",
       "    <tr>\n",
       "      <th>88313</th>\n",
       "      <td>['Action', 'Adventure', 'Casual']</td>\n",
       "      <td>弹炸人2222</td>\n",
       "      <td>0.99</td>\n",
       "      <td>767400.0</td>\n",
       "      <td>彼岸领域</td>\n",
       "      <td>2017</td>\n",
       "    </tr>\n",
       "    <tr>\n",
       "      <th>88315</th>\n",
       "      <td>['Action', 'Adventure', 'Simulation']</td>\n",
       "      <td>Battle Royale Trainer</td>\n",
       "      <td>3.99</td>\n",
       "      <td>772540.0</td>\n",
       "      <td>Trickjump Games Ltd</td>\n",
       "      <td>2018</td>\n",
       "    </tr>\n",
       "  </tbody>\n",
       "</table>\n",
       "</div>"
      ],
      "text/plain": [
       "                                                  genres  \\\n",
       "88310  ['Action', 'Casual', 'Indie', 'Simulation', 'S...   \n",
       "88311       ['Free to Play', 'Indie', 'RPG', 'Strategy']   \n",
       "88312  ['Casual', 'Free to Play', 'Indie', 'Simulatio...   \n",
       "88313                  ['Action', 'Adventure', 'Casual']   \n",
       "88315              ['Action', 'Adventure', 'Simulation']   \n",
       "\n",
       "                      app_name         price        id            developer  \\\n",
       "88310      Lost Summoner Kitty          4.99  761140.0            Kotoshiro   \n",
       "88311                Ironbound  Free To Play  643980.0     Secret Level SRL   \n",
       "88312  Real Pool 3D - Poolians  Free to Play  670290.0         Poolians.com   \n",
       "88313                  弹炸人2222          0.99  767400.0                 彼岸领域   \n",
       "88315    Battle Royale Trainer          3.99  772540.0  Trickjump Games Ltd   \n",
       "\n",
       "      Año_estreno  \n",
       "88310        2018  \n",
       "88311        2018  \n",
       "88312        2017  \n",
       "88313        2017  \n",
       "88315        2018  "
      ]
     },
     "execution_count": 15,
     "metadata": {},
     "output_type": "execute_result"
    }
   ],
   "source": [
    "#eliminamos la columna 'release_date'\n",
    "games = games.drop('release_date', axis=1)\n",
    "games.head(5)"
   ]
  },
  {
   "cell_type": "markdown",
   "metadata": {},
   "source": [
    "'price'"
   ]
  },
  {
   "cell_type": "code",
   "execution_count": 16,
   "metadata": {},
   "outputs": [
    {
     "data": {
      "text/plain": [
       "array(['4.99', 'Free To Play', 'Free to Play', '0.99', '3.99', '9.99',\n",
       "       '18.99', '29.99', '10.99', '2.99', '1.59', '14.99', '1.99',\n",
       "       '59.99', '8.99', '6.99', '7.99', '39.99', 'Free', '19.99', '7.49',\n",
       "       '12.99', '5.99', '2.49', '15.99', '1.25', '24.99', '17.99',\n",
       "       '61.99', '3.49', '11.99', '13.99', 'Free Demo', 'Play for Free!',\n",
       "       '34.99', '1.49', '32.99', '99.99', '14.95', '69.99', '16.99',\n",
       "       '79.99', '49.99', '5.0', '13.98', '29.96', '109.99', '149.99',\n",
       "       '771.71', 'Install Now', '21.99', '89.99',\n",
       "       'Play WARMACHINE: Tactics Demo', '0.98', '139.92', '4.29',\n",
       "       'Free Mod', '54.99', '64.99', '74.99', 'Install Theme', '0.89',\n",
       "       'Third-party', '0.5', 'Play Now', '299.99', '1.29', '119.99',\n",
       "       '44.99', '3.0', '15.0', '5.49', '23.99', '49.0', '10.93', '1.39',\n",
       "       'Free HITMAN™ Holiday Pack', '36.99', '4.49', '2.0', '4.0', '1.95',\n",
       "       '1.5', '199.0', '189.0', '6.66', '27.99', '129.99', '179.0',\n",
       "       '26.99', '399.99', '31.99', '399.0', '20.0', '40.0', '3.33',\n",
       "       '22.99', '320.0', '38.85', '71.7', '995.0', '27.49', '3.39', '6.0',\n",
       "       '19.95', '20.99', '499.99', '199.99', '16.06', '4.68', '131.4',\n",
       "       '44.98', '202.76', '2.3', '0.95', '172.24', '249.99', '2.97',\n",
       "       '10.96', '10.0', '30.0', '2.66', '6.48', '1.0', '11.15',\n",
       "       'Play the Demo', '99.0', '87.94', '0.49', '9.98', '9.95', '7.0',\n",
       "       '12.89', '6.49', '1.87', '42.99', '41.99', '289.99', 'Free to Try',\n",
       "       '23.96', '5.65', '12.0', '59.95', '13.37', '189.96', '124.99',\n",
       "       '19.98', '160.91', 'Free to Use'], dtype=object)"
      ]
     },
     "execution_count": 16,
     "metadata": {},
     "output_type": "execute_result"
    }
   ],
   "source": [
    "#composición de la columna \"price\"\n",
    "games[\"price\"].unique()"
   ]
  },
  {
   "cell_type": "code",
   "execution_count": 17,
   "metadata": {},
   "outputs": [],
   "source": [
    "# definimos una función para poder reemplazar los datos string de la columna \"price\" por flotantes\n",
    "\n",
    "def cambiando_tipo_variable(valor):\n",
    "    try:\n",
    "        flotante = float(valor) #si el valor es float lo conservo\n",
    "        return flotante\n",
    "    except (ValueError, TypeError): #si el valor es un string entonces retorno 0.0\n",
    "        return 0.0\n",
    "    \n",
    "#Aplico esta función a la columna precio\n",
    "games[\"price\"] = games[\"price\"].apply(cambiando_tipo_variable)"
   ]
  },
  {
   "cell_type": "code",
   "execution_count": 18,
   "metadata": {},
   "outputs": [
    {
     "data": {
      "text/plain": [
       "array([4.9900e+00, 0.0000e+00, 9.9000e-01, 3.9900e+00, 9.9900e+00,\n",
       "       1.8990e+01, 2.9990e+01, 1.0990e+01, 2.9900e+00, 1.5900e+00,\n",
       "       1.4990e+01, 1.9900e+00, 5.9990e+01, 8.9900e+00, 6.9900e+00,\n",
       "       7.9900e+00, 3.9990e+01, 1.9990e+01, 7.4900e+00, 1.2990e+01,\n",
       "       5.9900e+00, 2.4900e+00, 1.5990e+01, 1.2500e+00, 2.4990e+01,\n",
       "       1.7990e+01, 6.1990e+01, 3.4900e+00, 1.1990e+01, 1.3990e+01,\n",
       "       3.4990e+01, 1.4900e+00, 3.2990e+01, 9.9990e+01, 1.4950e+01,\n",
       "       6.9990e+01, 1.6990e+01, 7.9990e+01, 4.9990e+01, 5.0000e+00,\n",
       "       1.3980e+01, 2.9960e+01, 1.0999e+02, 1.4999e+02, 7.7171e+02,\n",
       "       2.1990e+01, 8.9990e+01, 9.8000e-01, 1.3992e+02, 4.2900e+00,\n",
       "       5.4990e+01, 6.4990e+01, 7.4990e+01, 8.9000e-01, 5.0000e-01,\n",
       "       2.9999e+02, 1.2900e+00, 1.1999e+02, 4.4990e+01, 3.0000e+00,\n",
       "       1.5000e+01, 5.4900e+00, 2.3990e+01, 4.9000e+01, 1.0930e+01,\n",
       "       1.3900e+00, 3.6990e+01, 4.4900e+00, 2.0000e+00, 4.0000e+00,\n",
       "       1.9500e+00, 1.5000e+00, 1.9900e+02, 1.8900e+02, 6.6600e+00,\n",
       "       2.7990e+01, 1.2999e+02, 1.7900e+02, 2.6990e+01, 3.9999e+02,\n",
       "       3.1990e+01, 3.9900e+02, 2.0000e+01, 4.0000e+01, 3.3300e+00,\n",
       "       2.2990e+01, 3.2000e+02, 3.8850e+01, 7.1700e+01, 9.9500e+02,\n",
       "       2.7490e+01, 3.3900e+00, 6.0000e+00, 1.9950e+01, 2.0990e+01,\n",
       "       4.9999e+02, 1.9999e+02, 1.6060e+01, 4.6800e+00, 1.3140e+02,\n",
       "       4.4980e+01, 2.0276e+02, 2.3000e+00, 9.5000e-01, 1.7224e+02,\n",
       "       2.4999e+02, 2.9700e+00, 1.0960e+01, 1.0000e+01, 3.0000e+01,\n",
       "       2.6600e+00, 6.4800e+00, 1.0000e+00, 1.1150e+01, 9.9000e+01,\n",
       "       8.7940e+01, 4.9000e-01, 9.9800e+00, 9.9500e+00, 7.0000e+00,\n",
       "       1.2890e+01, 6.4900e+00, 1.8700e+00, 4.2990e+01, 4.1990e+01,\n",
       "       2.8999e+02, 2.3960e+01, 5.6500e+00, 1.2000e+01, 5.9950e+01,\n",
       "       1.3370e+01, 1.8996e+02, 1.2499e+02, 1.9980e+01, 1.6091e+02])"
      ]
     },
     "execution_count": 18,
     "metadata": {},
     "output_type": "execute_result"
    }
   ],
   "source": [
    "#vemos de nuevo la nueva composición de la columna \"price\"\n",
    "games[\"price\"].unique()"
   ]
  },
  {
   "cell_type": "code",
   "execution_count": 19,
   "metadata": {},
   "outputs": [
    {
     "name": "stdout",
     "output_type": "stream",
     "text": [
      "<class 'pandas.core.frame.DataFrame'>\n",
      "Index: 27462 entries, 88310 to 120443\n",
      "Data columns (total 6 columns):\n",
      " #   Column       Non-Null Count  Dtype  \n",
      "---  ------       --------------  -----  \n",
      " 0   genres       27462 non-null  object \n",
      " 1   app_name     27462 non-null  object \n",
      " 2   price        27462 non-null  float64\n",
      " 3   id           27462 non-null  float64\n",
      " 4   developer    27462 non-null  object \n",
      " 5   Año_estreno  27459 non-null  object \n",
      "dtypes: float64(2), object(4)\n",
      "memory usage: 1.5+ MB\n"
     ]
    }
   ],
   "source": [
    "games.info()"
   ]
  },
  {
   "cell_type": "markdown",
   "metadata": {},
   "source": [
    "Reseteamos el index, ya que hemos eliminado filas"
   ]
  },
  {
   "cell_type": "code",
   "execution_count": 20,
   "metadata": {},
   "outputs": [
    {
     "data": {
      "text/html": [
       "<div>\n",
       "<style scoped>\n",
       "    .dataframe tbody tr th:only-of-type {\n",
       "        vertical-align: middle;\n",
       "    }\n",
       "\n",
       "    .dataframe tbody tr th {\n",
       "        vertical-align: top;\n",
       "    }\n",
       "\n",
       "    .dataframe thead th {\n",
       "        text-align: right;\n",
       "    }\n",
       "</style>\n",
       "<table border=\"1\" class=\"dataframe\">\n",
       "  <thead>\n",
       "    <tr style=\"text-align: right;\">\n",
       "      <th></th>\n",
       "      <th>index</th>\n",
       "      <th>genres</th>\n",
       "      <th>app_name</th>\n",
       "      <th>price</th>\n",
       "      <th>id</th>\n",
       "      <th>developer</th>\n",
       "      <th>Año_estreno</th>\n",
       "    </tr>\n",
       "  </thead>\n",
       "  <tbody>\n",
       "    <tr>\n",
       "      <th>0</th>\n",
       "      <td>88310</td>\n",
       "      <td>['Action', 'Casual', 'Indie', 'Simulation', 'S...</td>\n",
       "      <td>Lost Summoner Kitty</td>\n",
       "      <td>4.99</td>\n",
       "      <td>761140.0</td>\n",
       "      <td>Kotoshiro</td>\n",
       "      <td>2018</td>\n",
       "    </tr>\n",
       "    <tr>\n",
       "      <th>1</th>\n",
       "      <td>88311</td>\n",
       "      <td>['Free to Play', 'Indie', 'RPG', 'Strategy']</td>\n",
       "      <td>Ironbound</td>\n",
       "      <td>0.00</td>\n",
       "      <td>643980.0</td>\n",
       "      <td>Secret Level SRL</td>\n",
       "      <td>2018</td>\n",
       "    </tr>\n",
       "    <tr>\n",
       "      <th>2</th>\n",
       "      <td>88312</td>\n",
       "      <td>['Casual', 'Free to Play', 'Indie', 'Simulatio...</td>\n",
       "      <td>Real Pool 3D - Poolians</td>\n",
       "      <td>0.00</td>\n",
       "      <td>670290.0</td>\n",
       "      <td>Poolians.com</td>\n",
       "      <td>2017</td>\n",
       "    </tr>\n",
       "  </tbody>\n",
       "</table>\n",
       "</div>"
      ],
      "text/plain": [
       "   index                                             genres  \\\n",
       "0  88310  ['Action', 'Casual', 'Indie', 'Simulation', 'S...   \n",
       "1  88311       ['Free to Play', 'Indie', 'RPG', 'Strategy']   \n",
       "2  88312  ['Casual', 'Free to Play', 'Indie', 'Simulatio...   \n",
       "\n",
       "                  app_name  price        id         developer Año_estreno  \n",
       "0      Lost Summoner Kitty   4.99  761140.0         Kotoshiro        2018  \n",
       "1                Ironbound   0.00  643980.0  Secret Level SRL        2018  \n",
       "2  Real Pool 3D - Poolians   0.00  670290.0      Poolians.com        2017  "
      ]
     },
     "execution_count": 20,
     "metadata": {},
     "output_type": "execute_result"
    }
   ],
   "source": [
    "#Reseteamos los indices\n",
    "games.reset_index(inplace=True)\n",
    "games.head(3)"
   ]
  },
  {
   "cell_type": "code",
   "execution_count": 21,
   "metadata": {},
   "outputs": [
    {
     "data": {
      "text/html": [
       "<div>\n",
       "<style scoped>\n",
       "    .dataframe tbody tr th:only-of-type {\n",
       "        vertical-align: middle;\n",
       "    }\n",
       "\n",
       "    .dataframe tbody tr th {\n",
       "        vertical-align: top;\n",
       "    }\n",
       "\n",
       "    .dataframe thead th {\n",
       "        text-align: right;\n",
       "    }\n",
       "</style>\n",
       "<table border=\"1\" class=\"dataframe\">\n",
       "  <thead>\n",
       "    <tr style=\"text-align: right;\">\n",
       "      <th></th>\n",
       "      <th>genres</th>\n",
       "      <th>app_name</th>\n",
       "      <th>price</th>\n",
       "      <th>id</th>\n",
       "      <th>developer</th>\n",
       "      <th>Año_estreno</th>\n",
       "    </tr>\n",
       "  </thead>\n",
       "  <tbody>\n",
       "    <tr>\n",
       "      <th>0</th>\n",
       "      <td>['Action', 'Casual', 'Indie', 'Simulation', 'S...</td>\n",
       "      <td>Lost Summoner Kitty</td>\n",
       "      <td>4.99</td>\n",
       "      <td>761140.0</td>\n",
       "      <td>Kotoshiro</td>\n",
       "      <td>2018</td>\n",
       "    </tr>\n",
       "    <tr>\n",
       "      <th>1</th>\n",
       "      <td>['Free to Play', 'Indie', 'RPG', 'Strategy']</td>\n",
       "      <td>Ironbound</td>\n",
       "      <td>0.00</td>\n",
       "      <td>643980.0</td>\n",
       "      <td>Secret Level SRL</td>\n",
       "      <td>2018</td>\n",
       "    </tr>\n",
       "    <tr>\n",
       "      <th>2</th>\n",
       "      <td>['Casual', 'Free to Play', 'Indie', 'Simulatio...</td>\n",
       "      <td>Real Pool 3D - Poolians</td>\n",
       "      <td>0.00</td>\n",
       "      <td>670290.0</td>\n",
       "      <td>Poolians.com</td>\n",
       "      <td>2017</td>\n",
       "    </tr>\n",
       "    <tr>\n",
       "      <th>3</th>\n",
       "      <td>['Action', 'Adventure', 'Casual']</td>\n",
       "      <td>弹炸人2222</td>\n",
       "      <td>0.99</td>\n",
       "      <td>767400.0</td>\n",
       "      <td>彼岸领域</td>\n",
       "      <td>2017</td>\n",
       "    </tr>\n",
       "    <tr>\n",
       "      <th>4</th>\n",
       "      <td>['Action', 'Adventure', 'Simulation']</td>\n",
       "      <td>Battle Royale Trainer</td>\n",
       "      <td>3.99</td>\n",
       "      <td>772540.0</td>\n",
       "      <td>Trickjump Games Ltd</td>\n",
       "      <td>2018</td>\n",
       "    </tr>\n",
       "  </tbody>\n",
       "</table>\n",
       "</div>"
      ],
      "text/plain": [
       "                                              genres                 app_name  \\\n",
       "0  ['Action', 'Casual', 'Indie', 'Simulation', 'S...      Lost Summoner Kitty   \n",
       "1       ['Free to Play', 'Indie', 'RPG', 'Strategy']                Ironbound   \n",
       "2  ['Casual', 'Free to Play', 'Indie', 'Simulatio...  Real Pool 3D - Poolians   \n",
       "3                  ['Action', 'Adventure', 'Casual']                  弹炸人2222   \n",
       "4              ['Action', 'Adventure', 'Simulation']    Battle Royale Trainer   \n",
       "\n",
       "   price        id            developer Año_estreno  \n",
       "0   4.99  761140.0            Kotoshiro        2018  \n",
       "1   0.00  643980.0     Secret Level SRL        2018  \n",
       "2   0.00  670290.0         Poolians.com        2017  \n",
       "3   0.99  767400.0                 彼岸领域        2017  \n",
       "4   3.99  772540.0  Trickjump Games Ltd        2018  "
      ]
     },
     "execution_count": 21,
     "metadata": {},
     "output_type": "execute_result"
    }
   ],
   "source": [
    "#eliminamos el index antiguo que se convirtion en una columna\n",
    "games = games.drop('index', axis=1)\n",
    "games.head(5)"
   ]
  },
  {
   "cell_type": "markdown",
   "metadata": {},
   "source": [
    "Guardamos el ETL el archivos CSV y Parquet"
   ]
  },
  {
   "cell_type": "code",
   "execution_count": 22,
   "metadata": {},
   "outputs": [],
   "source": [
    "tabla = pa.Table.from_pandas(games) # convertimos el dataframe en una tabla de pyarrow\n",
    "pq.write_table(tabla,\"../0-DATA/output_steam_gamesETL.parquet\") # guardamos la tabla en formato parquet"
   ]
  },
  {
   "cell_type": "code",
   "execution_count": 23,
   "metadata": {},
   "outputs": [],
   "source": [
    "games.to_csv(\"../0-DATA/output_steam_gamesETL.csv\", index=False, encoding=\"utf-8\") "
   ]
  }
 ],
 "metadata": {
  "kernelspec": {
   "display_name": "base",
   "language": "python",
   "name": "python3"
  },
  "language_info": {
   "codemirror_mode": {
    "name": "ipython",
    "version": 3
   },
   "file_extension": ".py",
   "mimetype": "text/x-python",
   "name": "python",
   "nbconvert_exporter": "python",
   "pygments_lexer": "ipython3",
   "version": "3.9.7"
  }
 },
 "nbformat": 4,
 "nbformat_minor": 2
}
